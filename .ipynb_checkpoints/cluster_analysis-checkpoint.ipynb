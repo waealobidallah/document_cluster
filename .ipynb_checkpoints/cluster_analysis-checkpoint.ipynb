{
 "cells": [
  {
   "cell_type": "markdown",
   "metadata": {},
   "source": [
    "# Document Clustering with Python"
   ]
  },
  {
   "cell_type": "code",
   "execution_count": 40,
   "metadata": {
    "ExecuteTime": {
     "end_time": "2020-03-02T16:43:12.204637Z",
     "start_time": "2020-03-02T16:43:12.196628Z"
    }
   },
   "outputs": [],
   "source": [
    "import numpy as np\n",
    "import pandas as pd\n",
    "import nltk\n",
    "from bs4 import BeautifulSoup\n",
    "import re\n",
    "import os\n",
    "import codecs\n",
    "from sklearn import feature_extraction\n",
    "import mpld3"
   ]
  },
  {
   "cell_type": "markdown",
   "metadata": {},
   "source": [
    "# Stopwords, stemming, and tokenizing"
   ]
  },
  {
   "cell_type": "code",
   "execution_count": 41,
   "metadata": {
    "ExecuteTime": {
     "end_time": "2020-03-02T16:43:12.222105Z",
     "start_time": "2020-03-02T16:43:12.207599Z"
    }
   },
   "outputs": [
    {
     "data": {
      "text/plain": [
       "['The Godfather',\n",
       " 'The Shawshank Redemption',\n",
       " \"Schindler's List\",\n",
       " 'Raging Bull',\n",
       " 'Casablanca',\n",
       " \"One Flew Over the Cuckoo's Nest\",\n",
       " 'Gone with the Wind',\n",
       " 'Citizen Kane',\n",
       " 'The Wizard of Oz',\n",
       " 'Titanic',\n",
       " 'Lawrence of Arabia',\n",
       " 'The Godfather: Part II',\n",
       " 'Psycho',\n",
       " 'Sunset Blvd.',\n",
       " 'Vertigo',\n",
       " 'On the Waterfront',\n",
       " 'Forrest Gump',\n",
       " 'The Sound of Music',\n",
       " 'West Side Story',\n",
       " 'Star Wars',\n",
       " 'E.T. the Extra-Terrestrial',\n",
       " '2001: A Space Odyssey',\n",
       " 'The Silence of the Lambs',\n",
       " 'Chinatown',\n",
       " 'The Bridge on the River Kwai',\n",
       " \"Singin' in the Rain\",\n",
       " \"It's a Wonderful Life\",\n",
       " 'Some Like It Hot',\n",
       " '12 Angry Men',\n",
       " 'Dr. Strangelove or: How I Learned to Stop Worrying and Love the Bomb',\n",
       " 'Amadeus',\n",
       " 'Apocalypse Now',\n",
       " 'Gandhi',\n",
       " 'The Lord of the Rings: The Return of the King',\n",
       " 'Gladiator',\n",
       " 'From Here to Eternity',\n",
       " 'Saving Private Ryan',\n",
       " 'Unforgiven',\n",
       " 'Raiders of the Lost Ark',\n",
       " 'Rocky',\n",
       " 'A Streetcar Named Desire',\n",
       " 'The Philadelphia Story',\n",
       " 'To Kill a Mockingbird',\n",
       " 'An American in Paris',\n",
       " 'The Best Years of Our Lives',\n",
       " 'My Fair Lady',\n",
       " 'Ben-Hur',\n",
       " 'Doctor Zhivago',\n",
       " 'Patton',\n",
       " 'Jaws',\n",
       " 'Braveheart',\n",
       " 'The Good, the Bad and the Ugly',\n",
       " 'Butch Cassidy and the Sundance Kid',\n",
       " 'The Treasure of the Sierra Madre',\n",
       " 'The Apartment',\n",
       " 'Platoon',\n",
       " 'High Noon',\n",
       " 'Dances with Wolves',\n",
       " 'The Pianist',\n",
       " 'Goodfellas',\n",
       " 'The Exorcist',\n",
       " 'The Deer Hunter',\n",
       " 'All Quiet on the Western Front',\n",
       " 'The French Connection',\n",
       " 'City Lights',\n",
       " \"The King's Speech\",\n",
       " 'It Happened One Night',\n",
       " 'A Place in the Sun',\n",
       " 'Midnight Cowboy',\n",
       " 'Mr. Smith Goes to Washington',\n",
       " 'Rain Man',\n",
       " 'Annie Hall',\n",
       " 'Out of Africa',\n",
       " 'Good Will Hunting',\n",
       " 'Terms of Endearment',\n",
       " 'Tootsie',\n",
       " 'Fargo',\n",
       " 'Giant',\n",
       " 'The Grapes of Wrath',\n",
       " 'Shane',\n",
       " 'The Green Mile',\n",
       " 'Close Encounters of the Third Kind',\n",
       " 'Network',\n",
       " 'Nashville',\n",
       " 'The Graduate',\n",
       " 'American Graffiti',\n",
       " 'Pulp Fiction',\n",
       " 'The African Queen',\n",
       " 'Stagecoach',\n",
       " 'Mutiny on the Bounty',\n",
       " 'The Maltese Falcon',\n",
       " 'A Clockwork Orange',\n",
       " 'Taxi Driver',\n",
       " 'Wuthering Heights',\n",
       " 'Double Indemnity',\n",
       " 'Rebel Without a Cause',\n",
       " 'Rear Window',\n",
       " 'The Third Man',\n",
       " 'North by Northwest',\n",
       " 'Yankee Doodle Dandy']"
      ]
     },
     "execution_count": 41,
     "metadata": {},
     "output_type": "execute_result"
    }
   ],
   "source": [
    "#import three lists: titles, links and wikipedia synopses\n",
    "titles = open('title_list.txt').read().split('\\n')\n",
    "#ensures that only the first 100 are read in\n",
    "titles = titles[:100]\n",
    "\n",
    "links = open('link_list_imdb.txt').read().split('\\n')\n",
    "links = links[:]\n",
    "\n",
    "titles"
   ]
  },
  {
   "cell_type": "code",
   "execution_count": 47,
   "metadata": {
    "ExecuteTime": {
     "end_time": "2020-03-02T16:43:18.393869Z",
     "start_time": "2020-03-02T16:43:18.354922Z"
    }
   },
   "outputs": [
    {
     "name": "stdout",
     "output_type": "stream",
     "text": [
      "100 titles\n",
      "101 links\n",
      "100 synopses\n",
      "100 genres\n"
     ]
    }
   ],
   "source": [
    "synopses_wiki = open('synopses_list_wiki.txt', encoding=\"utf8\").read().split('\\n BREAKS HERE')\n",
    "synopses_wiki = synopses_wiki[:100]\n",
    "\n",
    "synopses_clean_wiki = []\n",
    "for text in synopses_wiki:\n",
    "    text = BeautifulSoup(text, 'html.parser').getText()\n",
    "    #strips html formatting and converts to unicode\n",
    "    synopses_clean_wiki.append(text)\n",
    "\n",
    "synopses_wiki = synopses_clean_wiki\n",
    "    \n",
    "    \n",
    "genres = open('genres_list.txt',encoding=\"utf8\").read().split('\\n')\n",
    "genres = genres[:100]\n",
    "\n",
    "print(str(len(titles)) + ' titles')\n",
    "print(str(len(links)) + ' links')\n",
    "print(str(len(synopses_wiki)) + ' synopses')\n",
    "print(str(len(genres)) + ' genres')"
   ]
  },
  {
   "cell_type": "code",
   "execution_count": 48,
   "metadata": {
    "ExecuteTime": {
     "end_time": "2020-03-02T16:43:19.278093Z",
     "start_time": "2020-03-02T16:43:19.251235Z"
    }
   },
   "outputs": [],
   "source": [
    "synopses_imdb = open('synopses_list_imdb.txt').read().split('\\n BREAKS HERE')\n",
    "synopses_imdb = synopses_imdb[:100]\n",
    "\n",
    "synopses_clean_imdb = []\n",
    "\n",
    "for text in synopses_imdb:\n",
    "    text = BeautifulSoup(text, 'html.parser').getText()\n",
    "    #strips html formatting and converts to unicode\n",
    "    synopses_clean_imdb.append(text)\n",
    "\n",
    "synopses_imdb = synopses_clean_imdb"
   ]
  },
  {
   "cell_type": "code",
   "execution_count": 49,
   "metadata": {
    "ExecuteTime": {
     "end_time": "2020-03-02T16:43:20.038996Z",
     "start_time": "2020-03-02T16:43:20.028898Z"
    }
   },
   "outputs": [],
   "source": [
    "synopses = []\n",
    "\n",
    "for i in range(len(synopses_wiki)):\n",
    "    item = synopses_wiki[i] + synopses_imdb[i]\n",
    "    synopses.append(item)"
   ]
  },
  {
   "cell_type": "code",
   "execution_count": 50,
   "metadata": {
    "ExecuteTime": {
     "end_time": "2020-03-02T16:43:20.604430Z",
     "start_time": "2020-03-02T16:43:20.599404Z"
    }
   },
   "outputs": [],
   "source": [
    "# generates index for each item in the corpora (in this case it's just rank) and I'll use this for scoring later\n",
    "ranks = []\n",
    "\n",
    "for i in range(0,len(titles)):\n",
    "    ranks.append(i)"
   ]
  },
  {
   "cell_type": "code",
   "execution_count": 51,
   "metadata": {
    "ExecuteTime": {
     "end_time": "2020-03-02T16:43:21.250373Z",
     "start_time": "2020-03-02T16:43:21.244761Z"
    }
   },
   "outputs": [],
   "source": [
    "# load nltk's English stopwords as variable called 'stopwords'\n",
    "stopwords = nltk.corpus.stopwords.words('english')"
   ]
  },
  {
   "cell_type": "markdown",
   "metadata": {},
   "source": [
    "Next I import the [Snowball Stemmer](http://snowball.tartarus.org/) which is actually part of NLTK. [Stemming](http://en.wikipedia.org/wiki/Stemming) is just the process of breaking a word down into its root."
   ]
  },
  {
   "cell_type": "code",
   "execution_count": 52,
   "metadata": {
    "ExecuteTime": {
     "end_time": "2020-03-02T16:43:22.139322Z",
     "start_time": "2020-03-02T16:43:22.134824Z"
    }
   },
   "outputs": [],
   "source": [
    "# load nltk's SnowballStemmer as variabled 'stemmer'\n",
    "from nltk.stem.snowball import SnowballStemmer\n",
    "stemmer = SnowballStemmer(\"english\")"
   ]
  },
  {
   "cell_type": "markdown",
   "metadata": {},
   "source": [
    "\n",
    "Below I define two functions:\n",
    "\n",
    "<ul>\n",
    "<li> *tokenize_and_stem*: tokenizes (splits the synopsis into a list of its respective words (or tokens) and also stems each token <li> *tokenize_only*: tokenizes the synopsis only\n",
    "</ul>\n",
    "\n",
    "I use both these functions to create a dictionary which becomes important in case I want to use stems for an algorithm, but later convert stems back to their full words for presentation purposes. Guess what, I do want to do that!\n",
    "\n"
   ]
  },
  {
   "cell_type": "code",
   "execution_count": 53,
   "metadata": {
    "ExecuteTime": {
     "end_time": "2020-03-02T16:43:23.216422Z",
     "start_time": "2020-03-02T16:43:23.204423Z"
    }
   },
   "outputs": [],
   "source": [
    "# here I define a tokenizer and stemmer which returns the set of stems in the text that it is passed\n",
    "\n",
    "def tokenize_and_stem(text):\n",
    "    # first tokenize by sentence, then by word to ensure that punctuation is caught as it's own token\n",
    "    tokens = [word for sent in nltk.sent_tokenize(text) for word in nltk.word_tokenize(sent)]\n",
    "    filtered_tokens = []\n",
    "    # filter out any tokens not containing letters (e.g., numeric tokens, raw punctuation)\n",
    "    for token in tokens:\n",
    "        if re.search('[a-zA-Z]', token):\n",
    "            filtered_tokens.append(token)\n",
    "    stems = [stemmer.stem(t) for t in filtered_tokens]\n",
    "    return stems\n",
    "\n",
    "\n",
    "def tokenize_only(text):\n",
    "    # first tokenize by sentence, then by word to ensure that punctuation is caught as it's own token\n",
    "    tokens = [word.lower() for sent in nltk.sent_tokenize(text) for word in nltk.word_tokenize(sent)]\n",
    "    filtered_tokens = []\n",
    "    # filter out any tokens not containing letters (e.g., numeric tokens, raw punctuation)\n",
    "    for token in tokens:\n",
    "        if re.search('[a-zA-Z]', token):\n",
    "            filtered_tokens.append(token)\n",
    "    return filtered_tokens"
   ]
  },
  {
   "cell_type": "markdown",
   "metadata": {},
   "source": [
    "Below I use my stemming/tokenizing and tokenizing functions to iterate over the list of synopses to create two vocabularies: one stemmed and one only tokenized. "
   ]
  },
  {
   "cell_type": "code",
   "execution_count": 54,
   "metadata": {
    "ExecuteTime": {
     "end_time": "2020-03-02T16:43:47.379477Z",
     "start_time": "2020-03-02T16:43:24.581163Z"
    }
   },
   "outputs": [],
   "source": [
    "totalvocab_stemmed = []\n",
    "totalvocab_tokenized = []\n",
    "for i in synopses:\n",
    "    allwords_stemmed = tokenize_and_stem(i)\n",
    "    totalvocab_stemmed.extend(allwords_stemmed)\n",
    "    \n",
    "    allwords_tokenized = tokenize_only(i)\n",
    "    totalvocab_tokenized.extend(allwords_tokenized)"
   ]
  },
  {
   "cell_type": "markdown",
   "metadata": {},
   "source": [
    "Using these two lists, I create a pandas DataFrame with the stemmed vocabulary as the index and the tokenized words as the column. The benefit of this is it provides an efficient way to look up a stem and return a full token. The downside here is that stems to tokens are one to many: the stem 'run' could be associated with 'ran', 'runs', 'running', etc. For my purposes this is fine--I'm perfectly happy returning the first token associated with the stem I need to look up."
   ]
  },
  {
   "cell_type": "code",
   "execution_count": 55,
   "metadata": {
    "ExecuteTime": {
     "end_time": "2020-03-02T16:43:47.746528Z",
     "start_time": "2020-03-02T16:43:47.591583Z"
    }
   },
   "outputs": [],
   "source": [
    "vocab_frame = pd.DataFrame({'words': totalvocab_tokenized}, index = totalvocab_stemmed)"
   ]
  },
  {
   "cell_type": "code",
   "execution_count": 57,
   "metadata": {
    "ExecuteTime": {
     "end_time": "2020-03-02T16:43:54.031930Z",
     "start_time": "2020-03-02T16:43:54.018038Z"
    }
   },
   "outputs": [
    {
     "data": {
      "text/html": [
       "<div>\n",
       "<style scoped>\n",
       "    .dataframe tbody tr th:only-of-type {\n",
       "        vertical-align: middle;\n",
       "    }\n",
       "\n",
       "    .dataframe tbody tr th {\n",
       "        vertical-align: top;\n",
       "    }\n",
       "\n",
       "    .dataframe thead th {\n",
       "        text-align: right;\n",
       "    }\n",
       "</style>\n",
       "<table border=\"1\" class=\"dataframe\">\n",
       "  <thead>\n",
       "    <tr style=\"text-align: right;\">\n",
       "      <th></th>\n",
       "      <th>words</th>\n",
       "    </tr>\n",
       "  </thead>\n",
       "  <tbody>\n",
       "    <tr>\n",
       "      <th>plot</th>\n",
       "      <td>plot</td>\n",
       "    </tr>\n",
       "    <tr>\n",
       "      <th>edit</th>\n",
       "      <td>edit</td>\n",
       "    </tr>\n",
       "    <tr>\n",
       "      <th>edit</th>\n",
       "      <td>edit</td>\n",
       "    </tr>\n",
       "    <tr>\n",
       "      <th>edit</th>\n",
       "      <td>edit</td>\n",
       "    </tr>\n",
       "    <tr>\n",
       "      <th>on</th>\n",
       "      <td>on</td>\n",
       "    </tr>\n",
       "    <tr>\n",
       "      <th>...</th>\n",
       "      <td>...</td>\n",
       "    </tr>\n",
       "    <tr>\n",
       "      <th>join</th>\n",
       "      <td>join</td>\n",
       "    </tr>\n",
       "    <tr>\n",
       "      <th>in</th>\n",
       "      <td>in</td>\n",
       "    </tr>\n",
       "    <tr>\n",
       "      <th>which</th>\n",
       "      <td>which</td>\n",
       "    </tr>\n",
       "    <tr>\n",
       "      <th>he</th>\n",
       "      <td>he</td>\n",
       "    </tr>\n",
       "    <tr>\n",
       "      <th>doe</th>\n",
       "      <td>does</td>\n",
       "    </tr>\n",
       "  </tbody>\n",
       "</table>\n",
       "<p>312306 rows × 1 columns</p>\n",
       "</div>"
      ],
      "text/plain": [
       "       words\n",
       "plot    plot\n",
       "edit    edit\n",
       "edit    edit\n",
       "edit    edit\n",
       "on        on\n",
       "...      ...\n",
       "join    join\n",
       "in        in\n",
       "which  which\n",
       "he        he\n",
       "doe     does\n",
       "\n",
       "[312306 rows x 1 columns]"
      ]
     },
     "execution_count": 57,
     "metadata": {},
     "output_type": "execute_result"
    }
   ],
   "source": [
    "vocab_frame"
   ]
  },
  {
   "cell_type": "markdown",
   "metadata": {},
   "source": [
    "## Tf-idf and document similarity"
   ]
  },
  {
   "cell_type": "markdown",
   "metadata": {},
   "source": [
    "<img src='http://www.jiem.org/index.php/jiem/article/viewFile/293/252/2402' align='right' style=\"margin-left:10px\">\n",
    "\n",
    "Here, I define term frequency-inverse document frequency (tf-idf) vectorizer parameters and then convert the *synopses* list into a tf-idf matrix. \n",
    "\n",
    "To get a Tf-idf matrix, first count word occurrences by document. This is transformed into a document-term matrix (dtm). This is also just called a term frequency matrix. An example of a dtm is here at right.\n",
    "\n",
    "Then apply the term frequency-inverse document frequency weighting: words that occur frequently within a document but not frequently within the corpus receive a higher weighting as these words are assumed to contain more meaning in relation to the document.\n",
    "\n",
    "A couple things to note about the parameters I define below:\n",
    "\n",
    "<ul>\n",
    "<li> max_df: this is the maximum frequency within the documents a given feature can have to be used in the tfi-idf matrix. If the term is in greater than 80% of the documents it probably cares little meanining (in the context of film synopses)\n",
    "<li> min_idf: this could be an integer (e.g. 5) and the term would have to be in at least 5 of the documents to be considered. Here I pass 0.2; the term must be in at least 20% of the document. I found that if I allowed a lower min_df I ended up basing clustering on names--for example \"Michael\" or \"Tom\" are names found in several of the movies and the synopses use these names frequently, but the names carry no real meaning.\n",
    "<li> ngram_range: this just means I'll look at unigrams, bigrams and trigrams. See [n-grams](http://en.wikipedia.org/wiki/N-gram)\n",
    "</ul>"
   ]
  },
  {
   "cell_type": "code",
   "execution_count": 58,
   "metadata": {
    "ExecuteTime": {
     "end_time": "2020-03-02T16:46:16.198173Z",
     "start_time": "2020-03-02T16:43:58.499611Z"
    }
   },
   "outputs": [
    {
     "name": "stdout",
     "output_type": "stream",
     "text": [
      "17.1 s ± 855 ms per loop (mean ± std. dev. of 7 runs, 1 loop each)\n",
      "(100, 563)\n"
     ]
    }
   ],
   "source": [
    "from sklearn.feature_extraction.text import TfidfVectorizer\n",
    "\n",
    "tfidf_vectorizer = TfidfVectorizer(max_df=0.8, max_features=200000,\n",
    "                                 min_df=0.2, stop_words='english',\n",
    "                                 use_idf=True, tokenizer=tokenize_and_stem, ngram_range=(1,3))\n",
    "\n",
    "%timeit tfidf_matrix = tfidf_vectorizer.fit_transform(synopses);\n",
    "\n",
    "print(tfidf_matrix.shape);"
   ]
  },
  {
   "cell_type": "code",
   "execution_count": 59,
   "metadata": {
    "ExecuteTime": {
     "end_time": "2020-03-02T16:46:24.463169Z",
     "start_time": "2020-03-02T16:46:24.457133Z"
    }
   },
   "outputs": [],
   "source": [
    "terms = tfidf_vectorizer.get_feature_names()"
   ]
  },
  {
   "cell_type": "code",
   "execution_count": 61,
   "metadata": {
    "ExecuteTime": {
     "end_time": "2020-03-02T16:46:37.220075Z",
     "start_time": "2020-03-02T16:46:37.206330Z"
    }
   },
   "outputs": [
    {
     "data": {
      "text/plain": [
       "[\"'d\",\n",
       " \"'s death\",\n",
       " \"'s father\",\n",
       " \"'s friend\",\n",
       " \"'s hous\",\n",
       " \"'s mother\",\n",
       " 'abandon',\n",
       " 'abl',\n",
       " 'accept',\n",
       " 'accid',\n",
       " 'accompani',\n",
       " 'accus',\n",
       " 'act',\n",
       " 'action',\n",
       " 'actual',\n",
       " 'admit',\n",
       " 'afterward',\n",
       " 'ago',\n",
       " 'agre',\n",
       " 'air',\n",
       " 'aliv',\n",
       " 'allow',\n",
       " 'alon',\n",
       " 'alreadi',\n",
       " 'alway',\n",
       " 'american',\n",
       " 'angri',\n",
       " 'angrili',\n",
       " 'ani',\n",
       " 'announc',\n",
       " 'anoth',\n",
       " 'answer',\n",
       " 'anyon',\n",
       " 'anyth',\n",
       " 'apart',\n",
       " 'appar',\n",
       " 'appear',\n",
       " 'approach',\n",
       " 'area',\n",
       " 'argu',\n",
       " 'arm',\n",
       " 'armi',\n",
       " 'arrang',\n",
       " 'arrest',\n",
       " 'arriv',\n",
       " 'ask',\n",
       " 'assign',\n",
       " 'assist',\n",
       " 'assum',\n",
       " 'attack',\n",
       " 'attempt',\n",
       " 'attend',\n",
       " 'attent',\n",
       " 'attract',\n",
       " 'audienc',\n",
       " 'avoid',\n",
       " 'away',\n",
       " 'bad',\n",
       " 'bar',\n",
       " 'bare',\n",
       " 'battl',\n",
       " 'beat',\n",
       " 'becaus',\n",
       " 'becom',\n",
       " 'bed',\n",
       " 'beg',\n",
       " 'believ',\n",
       " 'best',\n",
       " 'better',\n",
       " 'big',\n",
       " 'black',\n",
       " 'blow',\n",
       " 'board',\n",
       " 'bodi',\n",
       " 'book',\n",
       " 'boss',\n",
       " 'boy',\n",
       " 'break',\n",
       " 'brief',\n",
       " 'bring',\n",
       " 'broken',\n",
       " 'brother',\n",
       " 'build',\n",
       " 'burn',\n",
       " 'busi',\n",
       " 'buy',\n",
       " 'ca',\n",
       " \"ca n't\",\n",
       " 'camp',\n",
       " 'captain',\n",
       " 'captur',\n",
       " 'car',\n",
       " 'care',\n",
       " 'career',\n",
       " 'carri',\n",
       " 'case',\n",
       " 'catch',\n",
       " 'caus',\n",
       " 'chanc',\n",
       " 'chang',\n",
       " 'charg',\n",
       " 'chase',\n",
       " 'child',\n",
       " 'children',\n",
       " 'citi',\n",
       " 'claim',\n",
       " 'clear',\n",
       " 'climb',\n",
       " 'close',\n",
       " 'cloth',\n",
       " 'club',\n",
       " 'cold',\n",
       " 'collaps',\n",
       " 'come',\n",
       " 'command',\n",
       " 'commit',\n",
       " 'compani',\n",
       " 'complet',\n",
       " 'concern',\n",
       " 'condit',\n",
       " 'confess',\n",
       " 'confid',\n",
       " 'confront',\n",
       " 'consid',\n",
       " 'continu',\n",
       " 'control',\n",
       " 'convers',\n",
       " 'convinc',\n",
       " 'countri',\n",
       " 'coupl',\n",
       " 'cover',\n",
       " 'cri',\n",
       " 'crime',\n",
       " 'crimin',\n",
       " 'cross',\n",
       " 'crowd',\n",
       " 'cut',\n",
       " 'danc',\n",
       " 'danger',\n",
       " 'dark',\n",
       " 'date',\n",
       " 'daughter',\n",
       " 'day',\n",
       " 'dead',\n",
       " 'deal',\n",
       " 'death',\n",
       " 'decid',\n",
       " 'declar',\n",
       " 'defend',\n",
       " 'deliv',\n",
       " 'demand',\n",
       " 'depart',\n",
       " 'desert',\n",
       " 'desper',\n",
       " 'despit',\n",
       " 'destroy',\n",
       " 'determin',\n",
       " 'develop',\n",
       " 'did',\n",
       " \"did n't\",\n",
       " 'die',\n",
       " 'differ',\n",
       " 'dinner',\n",
       " 'direct',\n",
       " 'discov',\n",
       " 'discuss',\n",
       " 'doctor',\n",
       " 'doe',\n",
       " \"doe n't\",\n",
       " 'door',\n",
       " 'draw',\n",
       " 'dress',\n",
       " 'drink',\n",
       " 'drive',\n",
       " 'drop',\n",
       " 'drunk',\n",
       " 'dure',\n",
       " 'earli',\n",
       " 'earlier',\n",
       " 'elder',\n",
       " 'emerg',\n",
       " 'empti',\n",
       " 'encount',\n",
       " 'end',\n",
       " 'engag',\n",
       " 'ensu',\n",
       " 'enter',\n",
       " 'entir',\n",
       " 'escap',\n",
       " 'escort',\n",
       " 'event',\n",
       " 'eventu',\n",
       " 'everi',\n",
       " 'everyon',\n",
       " 'everyth',\n",
       " 'evid',\n",
       " 'execut',\n",
       " 'expect',\n",
       " 'experi',\n",
       " 'explain',\n",
       " 'eye',\n",
       " 'face',\n",
       " 'fact',\n",
       " 'fail',\n",
       " 'fall',\n",
       " 'famili',\n",
       " 'far',\n",
       " 'father',\n",
       " \"father 's\",\n",
       " 'fear',\n",
       " 'feel',\n",
       " 'fellow',\n",
       " 'field',\n",
       " 'fight',\n",
       " 'figur',\n",
       " 'film',\n",
       " 'final',\n",
       " 'finish',\n",
       " 'flee',\n",
       " 'fli',\n",
       " 'floor',\n",
       " 'follow',\n",
       " 'forc',\n",
       " 'free',\n",
       " 'friend',\n",
       " 'futur',\n",
       " 'general',\n",
       " 'georg',\n",
       " 'girl',\n",
       " 'given',\n",
       " 'goe',\n",
       " 'gone',\n",
       " 'good',\n",
       " 'got',\n",
       " 'grab',\n",
       " 'great',\n",
       " 'group',\n",
       " 'grow',\n",
       " 'guard',\n",
       " 'gun',\n",
       " 'hand',\n",
       " 'hang',\n",
       " 'happen',\n",
       " 'happi',\n",
       " 'head',\n",
       " 'hear',\n",
       " 'heard',\n",
       " 'heart',\n",
       " 'help',\n",
       " 'hidden',\n",
       " 'hide',\n",
       " 'high',\n",
       " 'hire',\n",
       " 'hit',\n",
       " 'hold',\n",
       " 'home',\n",
       " 'hope',\n",
       " 'hospit',\n",
       " 'hour',\n",
       " 'hous',\n",
       " 'howev',\n",
       " 'huge',\n",
       " 'husband',\n",
       " 'idea',\n",
       " 'ii',\n",
       " 'immedi',\n",
       " 'includ',\n",
       " 'inform',\n",
       " 'initi',\n",
       " 'insid',\n",
       " 'insist',\n",
       " 'instead',\n",
       " 'instruct',\n",
       " 'insult',\n",
       " 'intend',\n",
       " 'intent',\n",
       " 'introduc',\n",
       " 'investig',\n",
       " 'invit',\n",
       " 'involv',\n",
       " 'jame',\n",
       " 'job',\n",
       " 'john',\n",
       " 'join',\n",
       " 'jump',\n",
       " 'just',\n",
       " 'kill',\n",
       " 'kiss',\n",
       " 'knock',\n",
       " 'know',\n",
       " 'known',\n",
       " 'land',\n",
       " 'larg',\n",
       " 'late',\n",
       " 'lead',\n",
       " 'learn',\n",
       " 'led',\n",
       " 'left',\n",
       " 'let',\n",
       " 'lie',\n",
       " 'life',\n",
       " 'light',\n",
       " 'like',\n",
       " 'line',\n",
       " 'listen',\n",
       " 'littl',\n",
       " 'live',\n",
       " 'll',\n",
       " 'local',\n",
       " 'long',\n",
       " 'look',\n",
       " 'lose',\n",
       " 'lost',\n",
       " 'love',\n",
       " 'main',\n",
       " 'manag',\n",
       " 'mani',\n",
       " 'marri',\n",
       " 'marriag',\n",
       " 'matter',\n",
       " 'mean',\n",
       " 'meanwhil',\n",
       " 'meet',\n",
       " 'member',\n",
       " 'men',\n",
       " 'mention',\n",
       " 'met',\n",
       " 'mind',\n",
       " 'miss',\n",
       " 'moment',\n",
       " 'money',\n",
       " 'month',\n",
       " 'morn',\n",
       " 'mother',\n",
       " 'movi',\n",
       " 'mr.',\n",
       " 'murder',\n",
       " 'music',\n",
       " \"n't\",\n",
       " 'near',\n",
       " 'nearbi',\n",
       " 'need',\n",
       " 'new',\n",
       " 'new york',\n",
       " 'news',\n",
       " 'night',\n",
       " 'note',\n",
       " 'noth',\n",
       " 'notic',\n",
       " 'number',\n",
       " 'object',\n",
       " 'observ',\n",
       " 'offer',\n",
       " 'offic',\n",
       " 'old',\n",
       " 'onc',\n",
       " 'open',\n",
       " 'order',\n",
       " 'outsid',\n",
       " 'pack',\n",
       " 'parent',\n",
       " 'parti',\n",
       " 'pass',\n",
       " 'past',\n",
       " 'pay',\n",
       " 'peopl',\n",
       " 'perform',\n",
       " 'person',\n",
       " 'persuad',\n",
       " 'phone',\n",
       " 'pick',\n",
       " 'pictur',\n",
       " 'place',\n",
       " 'plan',\n",
       " 'play',\n",
       " 'point',\n",
       " 'polic',\n",
       " 'posit',\n",
       " 'possibl',\n",
       " 'power',\n",
       " 'prepar',\n",
       " 'present',\n",
       " 'prevent',\n",
       " 'previous',\n",
       " 'prison',\n",
       " 'privat',\n",
       " 'problem',\n",
       " 'proceed',\n",
       " 'promis',\n",
       " 'propos',\n",
       " 'protect',\n",
       " 'prove',\n",
       " 'provid',\n",
       " 'public',\n",
       " 'pull',\n",
       " 'pursu',\n",
       " 'push',\n",
       " 'question',\n",
       " 'quick',\n",
       " 'quiet',\n",
       " 'reach',\n",
       " 'read',\n",
       " 'readi',\n",
       " 'real',\n",
       " 'realiz',\n",
       " 'realli',\n",
       " 'reason',\n",
       " 'receiv',\n",
       " 'recogn',\n",
       " 'record',\n",
       " 'recov',\n",
       " 'refus',\n",
       " 'relationship',\n",
       " 'releas',\n",
       " 'reluct',\n",
       " 'remain',\n",
       " 'rememb',\n",
       " 'remind',\n",
       " 'remov',\n",
       " 'repeat',\n",
       " 'repli',\n",
       " 'report',\n",
       " 'request',\n",
       " 'rescu',\n",
       " 'respons',\n",
       " 'rest',\n",
       " 'result',\n",
       " 'return home',\n",
       " 'reveal',\n",
       " 'ride',\n",
       " 'right',\n",
       " 'ring',\n",
       " 'robert',\n",
       " 'room',\n",
       " 'run',\n",
       " 'rush',\n",
       " 'save',\n",
       " 'say',\n",
       " 'scene',\n",
       " 'school',\n",
       " 'scream',\n",
       " 'search',\n",
       " 'second',\n",
       " 'secret',\n",
       " 'secur',\n",
       " 'seek',\n",
       " 'seen',\n",
       " 'send',\n",
       " 'sent',\n",
       " 'serv',\n",
       " 'servic',\n",
       " 'set',\n",
       " 'sever',\n",
       " 'share',\n",
       " 'ship',\n",
       " 'shock',\n",
       " 'shoot',\n",
       " 'short',\n",
       " 'shot',\n",
       " 'shout',\n",
       " 'sign',\n",
       " 'silent',\n",
       " 'sinc',\n",
       " 'sing',\n",
       " 'sister',\n",
       " 'sit',\n",
       " 'situat',\n",
       " 'sleep',\n",
       " 'slip',\n",
       " 'small',\n",
       " 'soldier',\n",
       " 'someon',\n",
       " 'someth',\n",
       " 'son',\n",
       " 'soon',\n",
       " 'speak',\n",
       " 'spend',\n",
       " 'spot',\n",
       " 'stand',\n",
       " 'start',\n",
       " 'state',\n",
       " 'station',\n",
       " 'stay',\n",
       " 'step',\n",
       " 'stop',\n",
       " 'stori',\n",
       " 'storm',\n",
       " 'street',\n",
       " 'strike',\n",
       " 'struggl',\n",
       " 'success',\n",
       " 'sudden',\n",
       " 'suffer',\n",
       " 'suggest',\n",
       " 'suicid',\n",
       " 'support',\n",
       " 'surpris',\n",
       " 'surround',\n",
       " 'surviv',\n",
       " 'suspect',\n",
       " 'taken',\n",
       " 'talk',\n",
       " 'tear',\n",
       " 'themselv',\n",
       " 'thing',\n",
       " 'think',\n",
       " 'thought',\n",
       " 'threaten',\n",
       " 'throw',\n",
       " 'togeth',\n",
       " 'told',\n",
       " 'took',\n",
       " 'town',\n",
       " 'train',\n",
       " 'travel',\n",
       " 'trip',\n",
       " 'troubl',\n",
       " 'turn',\n",
       " 'unabl',\n",
       " 'understand',\n",
       " 'unit',\n",
       " 'unit state',\n",
       " 'use',\n",
       " 've',\n",
       " 'veri',\n",
       " 'view',\n",
       " 'visit',\n",
       " 'voic',\n",
       " 'wait',\n",
       " 'walk',\n",
       " 'wall',\n",
       " 'want',\n",
       " 'war',\n",
       " 'warn',\n",
       " 'watch',\n",
       " 'water',\n",
       " 'way',\n",
       " 'wear',\n",
       " 'week',\n",
       " 'whi',\n",
       " 'white',\n",
       " 'wife',\n",
       " 'william',\n",
       " 'win',\n",
       " 'window',\n",
       " 'wish',\n",
       " 'wit',\n",
       " 'wo',\n",
       " \"wo n't\",\n",
       " 'woman',\n",
       " 'women',\n",
       " 'word',\n",
       " 'work',\n",
       " 'world',\n",
       " 'world war',\n",
       " 'worri',\n",
       " 'wound',\n",
       " 'write',\n",
       " 'wrong',\n",
       " 'year',\n",
       " 'york',\n",
       " 'young',\n",
       " 'young man']"
      ]
     },
     "execution_count": 61,
     "metadata": {},
     "output_type": "execute_result"
    }
   ],
   "source": [
    "terms"
   ]
  },
  {
   "cell_type": "code",
   "execution_count": 62,
   "metadata": {
    "ExecuteTime": {
     "end_time": "2020-03-02T16:46:48.809216Z",
     "start_time": "2020-03-02T16:46:48.797248Z"
    }
   },
   "outputs": [],
   "source": [
    "from sklearn.metrics.pairwise import cosine_similarity\n",
    "dist = 1 - cosine_similarity(tfidf_matrix)"
   ]
  },
  {
   "cell_type": "code",
   "execution_count": 63,
   "metadata": {
    "ExecuteTime": {
     "end_time": "2020-03-02T16:46:58.954527Z",
     "start_time": "2020-03-02T16:46:58.948480Z"
    }
   },
   "outputs": [
    {
     "data": {
      "text/plain": [
       "array([[ 0.00000000e+00,  8.00539634e-01,  7.62813109e-01, ...,\n",
       "         6.41312416e-01,  6.70578229e-01,  8.23926244e-01],\n",
       "       [ 8.00539634e-01, -2.22044605e-16,  7.33477850e-01, ...,\n",
       "         7.33117814e-01,  7.71609239e-01,  8.92974798e-01],\n",
       "       [ 7.62813109e-01,  7.33477850e-01,  0.00000000e+00, ...,\n",
       "         7.23806699e-01,  7.49489708e-01,  8.58673233e-01],\n",
       "       ...,\n",
       "       [ 6.41312416e-01,  7.33117814e-01,  7.23806699e-01, ...,\n",
       "         0.00000000e+00,  4.50879024e-01,  9.17464687e-01],\n",
       "       [ 6.70578229e-01,  7.71609239e-01,  7.49489708e-01, ...,\n",
       "         4.50879024e-01,  2.22044605e-16,  8.68599864e-01],\n",
       "       [ 8.23926244e-01,  8.92974798e-01,  8.58673233e-01, ...,\n",
       "         9.17464687e-01,  8.68599864e-01, -2.22044605e-16]])"
      ]
     },
     "execution_count": 63,
     "metadata": {},
     "output_type": "execute_result"
    }
   ],
   "source": [
    "dist"
   ]
  },
  {
   "cell_type": "markdown",
   "metadata": {},
   "source": [
    "# K-means clustering"
   ]
  },
  {
   "cell_type": "markdown",
   "metadata": {},
   "source": [
    "Now onto the fun part. Using the tf-idf matrix, you can run a slew of clustering algorithms to better understand the hidden structure within the synopses. I first chose [k-means](http://en.wikipedia.org/wiki/K-means_clustering). K-means initializes with a pre-determined number of clusters (I chose 5). Each observation is assigned to a cluster (cluster assignment) so as to minimize the within cluster sum of squares. Next, the mean of the clustered observations is calculated and used as the new cluster centroid. Then, observations are reassigned to clusters and  centroids recalculated in an iterative process until the algorithm reaches convergence.\n",
    "\n",
    "I found it took several runs for the algorithm to converge a global optimum as k-means is susceptible to reaching local optima. "
   ]
  },
  {
   "cell_type": "code",
   "execution_count": 64,
   "metadata": {
    "ExecuteTime": {
     "end_time": "2020-03-02T16:47:43.266984Z",
     "start_time": "2020-03-02T16:47:41.449067Z"
    }
   },
   "outputs": [
    {
     "name": "stdout",
     "output_type": "stream",
     "text": [
      "Wall time: 1.67 s\n"
     ]
    }
   ],
   "source": [
    "from sklearn.cluster import KMeans\n",
    "\n",
    "num_clusters = 5\n",
    "\n",
    "km = KMeans(n_clusters=num_clusters)\n",
    "\n",
    "%time km.fit(tfidf_matrix)\n",
    "\n",
    "clusters = km.labels_.tolist()"
   ]
  },
  {
   "cell_type": "code",
   "execution_count": 65,
   "metadata": {
    "ExecuteTime": {
     "end_time": "2020-03-02T16:48:01.253604Z",
     "start_time": "2020-03-02T16:48:01.233518Z"
    }
   },
   "outputs": [
    {
     "name": "stderr",
     "output_type": "stream",
     "text": [
      "c:\\users\\waeal\\appdata\\local\\programs\\python\\python37\\lib\\site-packages\\sklearn\\externals\\joblib\\__init__.py:15: FutureWarning: sklearn.externals.joblib is deprecated in 0.21 and will be removed in 0.23. Please import this functionality directly from joblib, which can be installed with: pip install joblib. If this warning is raised when loading pickled models, you may need to re-serialize those models with scikit-learn 0.21+.\n",
      "  warnings.warn(msg, category=FutureWarning)\n"
     ]
    }
   ],
   "source": [
    "from sklearn.externals import joblib\n",
    "\n",
    "joblib.dump(km,  'doc_cluster.pkl')\n",
    "km = joblib.load('doc_cluster.pkl')\n",
    "clusters = km.labels_.tolist()"
   ]
  },
  {
   "cell_type": "code",
   "execution_count": 66,
   "metadata": {
    "ExecuteTime": {
     "end_time": "2020-03-02T16:48:11.614854Z",
     "start_time": "2020-03-02T16:48:11.592240Z"
    }
   },
   "outputs": [],
   "source": [
    "import pandas as pd\n",
    "\n",
    "films = { 'title': titles, 'rank': ranks, 'synopsis': synopses, 'cluster': clusters, 'genre': genres }\n",
    "\n",
    "frame = pd.DataFrame(films, index = [clusters] , columns = ['rank', 'title', 'cluster', 'genre'])"
   ]
  },
  {
   "cell_type": "code",
   "execution_count": 67,
   "metadata": {
    "ExecuteTime": {
     "end_time": "2020-03-02T16:48:13.658915Z",
     "start_time": "2020-03-02T16:48:13.649470Z"
    }
   },
   "outputs": [
    {
     "data": {
      "text/plain": [
       "3    35\n",
       "2    30\n",
       "4    26\n",
       "1     6\n",
       "0     3\n",
       "Name: cluster, dtype: int64"
      ]
     },
     "execution_count": 67,
     "metadata": {},
     "output_type": "execute_result"
    }
   ],
   "source": [
    "frame['cluster'].value_counts()"
   ]
  },
  {
   "cell_type": "code",
   "execution_count": 68,
   "metadata": {
    "ExecuteTime": {
     "end_time": "2020-03-02T16:49:16.972622Z",
     "start_time": "2020-03-02T16:49:16.948241Z"
    }
   },
   "outputs": [
    {
     "data": {
      "text/html": [
       "<div>\n",
       "<style scoped>\n",
       "    .dataframe tbody tr th:only-of-type {\n",
       "        vertical-align: middle;\n",
       "    }\n",
       "\n",
       "    .dataframe tbody tr th {\n",
       "        vertical-align: top;\n",
       "    }\n",
       "\n",
       "    .dataframe thead th {\n",
       "        text-align: right;\n",
       "    }\n",
       "</style>\n",
       "<table border=\"1\" class=\"dataframe\">\n",
       "  <thead>\n",
       "    <tr style=\"text-align: right;\">\n",
       "      <th></th>\n",
       "      <th>rank</th>\n",
       "      <th>title</th>\n",
       "      <th>cluster</th>\n",
       "      <th>genre</th>\n",
       "    </tr>\n",
       "  </thead>\n",
       "  <tbody>\n",
       "    <tr>\n",
       "      <th>2</th>\n",
       "      <td>0</td>\n",
       "      <td>The Godfather</td>\n",
       "      <td>2</td>\n",
       "      <td>[u' Crime', u' Drama']</td>\n",
       "    </tr>\n",
       "    <tr>\n",
       "      <th>4</th>\n",
       "      <td>1</td>\n",
       "      <td>The Shawshank Redemption</td>\n",
       "      <td>4</td>\n",
       "      <td>[u' Crime', u' Drama']</td>\n",
       "    </tr>\n",
       "    <tr>\n",
       "      <th>4</th>\n",
       "      <td>2</td>\n",
       "      <td>Schindler's List</td>\n",
       "      <td>4</td>\n",
       "      <td>[u' Biography', u' Drama', u' History']</td>\n",
       "    </tr>\n",
       "    <tr>\n",
       "      <th>2</th>\n",
       "      <td>3</td>\n",
       "      <td>Raging Bull</td>\n",
       "      <td>2</td>\n",
       "      <td>[u' Biography', u' Drama', u' Sport']</td>\n",
       "    </tr>\n",
       "    <tr>\n",
       "      <th>3</th>\n",
       "      <td>4</td>\n",
       "      <td>Casablanca</td>\n",
       "      <td>3</td>\n",
       "      <td>[u' Drama', u' Romance', u' War']</td>\n",
       "    </tr>\n",
       "    <tr>\n",
       "      <th>...</th>\n",
       "      <td>...</td>\n",
       "      <td>...</td>\n",
       "      <td>...</td>\n",
       "      <td>...</td>\n",
       "    </tr>\n",
       "    <tr>\n",
       "      <th>3</th>\n",
       "      <td>95</td>\n",
       "      <td>Rebel Without a Cause</td>\n",
       "      <td>3</td>\n",
       "      <td>[u' Drama']</td>\n",
       "    </tr>\n",
       "    <tr>\n",
       "      <th>3</th>\n",
       "      <td>96</td>\n",
       "      <td>Rear Window</td>\n",
       "      <td>3</td>\n",
       "      <td>[u' Mystery', u' Thriller']</td>\n",
       "    </tr>\n",
       "    <tr>\n",
       "      <th>3</th>\n",
       "      <td>97</td>\n",
       "      <td>The Third Man</td>\n",
       "      <td>3</td>\n",
       "      <td>[u' Film-Noir', u' Mystery', u' Thriller']</td>\n",
       "    </tr>\n",
       "    <tr>\n",
       "      <th>3</th>\n",
       "      <td>98</td>\n",
       "      <td>North by Northwest</td>\n",
       "      <td>3</td>\n",
       "      <td>[u' Mystery', u' Thriller']</td>\n",
       "    </tr>\n",
       "    <tr>\n",
       "      <th>2</th>\n",
       "      <td>99</td>\n",
       "      <td>Yankee Doodle Dandy</td>\n",
       "      <td>2</td>\n",
       "      <td>[u' Biography', u' Drama', u' Musical']</td>\n",
       "    </tr>\n",
       "  </tbody>\n",
       "</table>\n",
       "<p>100 rows × 4 columns</p>\n",
       "</div>"
      ],
      "text/plain": [
       "    rank                     title  cluster  \\\n",
       "2      0             The Godfather        2   \n",
       "4      1  The Shawshank Redemption        4   \n",
       "4      2          Schindler's List        4   \n",
       "2      3               Raging Bull        2   \n",
       "3      4                Casablanca        3   \n",
       "..   ...                       ...      ...   \n",
       "3     95     Rebel Without a Cause        3   \n",
       "3     96               Rear Window        3   \n",
       "3     97             The Third Man        3   \n",
       "3     98        North by Northwest        3   \n",
       "2     99       Yankee Doodle Dandy        2   \n",
       "\n",
       "                                         genre  \n",
       "2                       [u' Crime', u' Drama']  \n",
       "4                       [u' Crime', u' Drama']  \n",
       "4      [u' Biography', u' Drama', u' History']  \n",
       "2        [u' Biography', u' Drama', u' Sport']  \n",
       "3            [u' Drama', u' Romance', u' War']  \n",
       "..                                         ...  \n",
       "3                                  [u' Drama']  \n",
       "3                  [u' Mystery', u' Thriller']  \n",
       "3   [u' Film-Noir', u' Mystery', u' Thriller']  \n",
       "3                  [u' Mystery', u' Thriller']  \n",
       "2      [u' Biography', u' Drama', u' Musical']  \n",
       "\n",
       "[100 rows x 4 columns]"
      ]
     },
     "execution_count": 68,
     "metadata": {},
     "output_type": "execute_result"
    }
   ],
   "source": [
    "frame"
   ]
  },
  {
   "cell_type": "code",
   "execution_count": 69,
   "metadata": {
    "ExecuteTime": {
     "end_time": "2020-03-02T16:49:42.357236Z",
     "start_time": "2020-03-02T16:49:42.341114Z"
    }
   },
   "outputs": [
    {
     "data": {
      "text/plain": [
       "cluster\n",
       "0    39.000000\n",
       "1    52.833333\n",
       "2    49.800000\n",
       "3    54.571429\n",
       "4    42.769231\n",
       "Name: rank, dtype: float64"
      ]
     },
     "execution_count": 69,
     "metadata": {},
     "output_type": "execute_result"
    }
   ],
   "source": [
    "grouped = frame['rank'].groupby(frame['cluster'])\n",
    "\n",
    "grouped.mean()"
   ]
  },
  {
   "cell_type": "code",
   "execution_count": 75,
   "metadata": {
    "ExecuteTime": {
     "end_time": "2020-03-02T16:51:13.734068Z",
     "start_time": "2020-03-02T16:51:13.243893Z"
    }
   },
   "outputs": [
    {
     "name": "stdout",
     "output_type": "stream",
     "text": [
      "Top terms per cluster:\n",
      "\n",
      "Cluster 0 words: b'ring', b'fights', b'train', b'way', b'army', b'day',\n",
      "\n",
      "Cluster 0 titles: The Lord of the Rings: The Return of the King, Rocky, My Fair Lady,\n",
      "\n",
      "Cluster 1 words: b'george', b'marries', b'woman', b'family', b'friends', b'john',\n",
      "\n",
      "Cluster 1 titles: It's a Wonderful Life, The Philadelphia Story, An American in Paris, The King's Speech, A Place in the Sun, Tootsie,\n",
      "\n",
      "Cluster 2 words: b'family',"
     ]
    },
    {
     "name": "stderr",
     "output_type": "stream",
     "text": [
      "c:\\users\\waeal\\appdata\\local\\programs\\python\\python37\\lib\\site-packages\\ipykernel_launcher.py:9: FutureWarning: \n",
      ".ix is deprecated. Please use\n",
      ".loc for label based indexing or\n",
      ".iloc for positional indexing\n",
      "\n",
      "See the documentation here:\n",
      "http://pandas.pydata.org/pandas-docs/stable/user_guide/indexing.html#ix-indexer-is-deprecated\n",
      "  if __name__ == '__main__':\n",
      "c:\\users\\waeal\\appdata\\local\\programs\\python\\python37\\lib\\site-packages\\ipykernel_launcher.py:13: FutureWarning: \n",
      ".ix is deprecated. Please use\n",
      ".loc for label based indexing or\n",
      ".iloc for positional indexing\n",
      "\n",
      "See the documentation here:\n",
      "http://pandas.pydata.org/pandas-docs/stable/user_guide/indexing.html#ix-indexer-is-deprecated\n",
      "  del sys.path[0]\n"
     ]
    },
    {
     "name": "stdout",
     "output_type": "stream",
     "text": [
      " b'father', b'new', b'new', b'york', b'brothers',\n",
      "\n",
      "Cluster 2 titles: The Godfather, Raging Bull, Citizen Kane, Titanic, The Godfather: Part II, On the Waterfront, The Sound of Music, Amadeus, A Streetcar Named Desire, To Kill a Mockingbird, The Best Years of Our Lives, Ben-Hur, Doctor Zhivago, Braveheart, The Good, the Bad and the Ugly, The Apartment, High Noon, Goodfellas, City Lights, It Happened One Night, Midnight Cowboy, Rain Man, Annie Hall, Out of Africa, Terms of Endearment, Giant, The Grapes of Wrath, Network, Taxi Driver, Yankee Doodle Dandy,\n",
      "\n",
      "Cluster 3 words: b'police', b'car', b'killed', b'says', b'house', b\"n't\",\n",
      "\n",
      "Cluster 3 titles: Casablanca, One Flew Over the Cuckoo's Nest, Psycho, Sunset Blvd., Vertigo, Forrest Gump, West Side Story, E.T. the Extra-Terrestrial, 2001: A Space Odyssey, The Silence of the Lambs, Chinatown, Singin' in the Rain, Some Like It Hot, 12 Angry Men, Gandhi, Unforgiven, The Exorcist, The French Connection, Mr. Smith Goes to Washington, Good Will Hunting, Fargo, Shane, Close Encounters of the Third Kind, Nashville, The Graduate, American Graffiti, Pulp Fiction, The Maltese Falcon, A Clockwork Orange, Wuthering Heights, Double Indemnity, Rebel Without a Cause, Rear Window, The Third Man, North by Northwest,\n",
      "\n",
      "Cluster 4 words: b'soldiers', b'killed', b'army', b'war', b'command', b'men',\n",
      "\n",
      "Cluster 4 titles: The Shawshank Redemption, Schindler's List, Gone with the Wind, The Wizard of Oz, Lawrence of Arabia, Star Wars, The Bridge on the River Kwai, Dr. Strangelove or: How I Learned to Stop Worrying and Love the Bomb, Apocalypse Now, Gladiator, From Here to Eternity, Saving Private Ryan, Raiders of the Lost Ark, Patton, Jaws, Butch Cassidy and the Sundance Kid, The Treasure of the Sierra Madre, Platoon, Dances with Wolves, The Pianist, The Deer Hunter, All Quiet on the Western Front, The Green Mile, The African Queen, Stagecoach, Mutiny on the Bounty,\n",
      "\n"
     ]
    }
   ],
   "source": [
    "from __future__ import print_function\n",
    "\n",
    "print(\"Top terms per cluster:\")\n",
    "print()\n",
    "order_centroids = km.cluster_centers_.argsort()[:, ::-1]\n",
    "for i in range(num_clusters):\n",
    "    print(\"Cluster %d words:\" % i, end='')\n",
    "    for ind in order_centroids[i, :6]:\n",
    "        print(' %s' % vocab_frame.ix[terms[ind].split(' ')].values.tolist()[0][0].encode('utf-8', 'ignore'), end=',')\n",
    "    print()\n",
    "    print()\n",
    "    print(\"Cluster %d titles:\" % i, end='')\n",
    "    for title in frame.ix[i]['title'].values.tolist():\n",
    "        print(' %s,' % title, end='')\n",
    "    print()\n",
    "    print()\n"
   ]
  },
  {
   "cell_type": "code",
   "execution_count": 76,
   "metadata": {
    "ExecuteTime": {
     "end_time": "2020-03-02T16:51:21.904224Z",
     "start_time": "2020-03-02T16:51:21.883887Z"
    }
   },
   "outputs": [],
   "source": [
    "#This is purely to help export tables to html and to correct for my 0 start rank (so that Godfather is 1, not 0)\n",
    "frame['Rank'] = frame['rank'] + 1\n",
    "frame['Title'] = frame['title']"
   ]
  },
  {
   "cell_type": "code",
   "execution_count": 77,
   "metadata": {
    "ExecuteTime": {
     "end_time": "2020-03-02T16:51:23.453405Z",
     "start_time": "2020-03-02T16:51:23.441728Z"
    }
   },
   "outputs": [
    {
     "name": "stdout",
     "output_type": "stream",
     "text": [
      "<table border=\"1\" class=\"dataframe\">\n",
      "  <thead>\n",
      "    <tr style=\"text-align: right;\">\n",
      "      <th>Rank</th>\n",
      "      <th>Title</th>\n",
      "    </tr>\n",
      "  </thead>\n",
      "  <tbody>\n",
      "    <tr>\n",
      "      <td>27</td>\n",
      "      <td>It's a Wonderful Life</td>\n",
      "    </tr>\n",
      "    <tr>\n",
      "      <td>42</td>\n",
      "      <td>The Philadelphia Story</td>\n",
      "    </tr>\n",
      "    <tr>\n",
      "      <td>44</td>\n",
      "      <td>An American in Paris</td>\n",
      "    </tr>\n",
      "    <tr>\n",
      "      <td>66</td>\n",
      "      <td>The King's Speech</td>\n",
      "    </tr>\n",
      "    <tr>\n",
      "      <td>68</td>\n",
      "      <td>A Place in the Sun</td>\n",
      "    </tr>\n",
      "    <tr>\n",
      "      <td>76</td>\n",
      "      <td>Tootsie</td>\n",
      "    </tr>\n",
      "  </tbody>\n",
      "</table>\n"
     ]
    }
   ],
   "source": [
    "#export tables to HTML\n",
    "print(frame[['Rank', 'Title']].loc[frame['cluster'] == 1].to_html(index=False))"
   ]
  },
  {
   "cell_type": "markdown",
   "metadata": {},
   "source": [
    "# Multidimensional scaling"
   ]
  },
  {
   "cell_type": "code",
   "execution_count": 78,
   "metadata": {
    "ExecuteTime": {
     "end_time": "2020-03-02T16:51:45.065475Z",
     "start_time": "2020-03-02T16:51:43.909847Z"
    }
   },
   "outputs": [],
   "source": [
    "import os  # for os.path.basename\n",
    "\n",
    "import matplotlib.pyplot as plt\n",
    "import matplotlib as mpl\n",
    "\n",
    "from sklearn.manifold import MDS\n",
    "\n",
    "MDS()\n",
    "\n",
    "# two components as we're plotting points in a two-dimensional plane\n",
    "# \"precomputed\" because we provide a distance matrix\n",
    "# we will also specify `random_state` so the plot is reproducible.\n",
    "mds = MDS(n_components=2, dissimilarity=\"precomputed\", random_state=1)\n",
    "\n",
    "pos = mds.fit_transform(dist)  # shape (n_components, n_samples)\n",
    "\n",
    "xs, ys = pos[:, 0], pos[:, 1]"
   ]
  },
  {
   "cell_type": "code",
   "execution_count": 79,
   "metadata": {
    "ExecuteTime": {
     "end_time": "2020-03-02T16:51:48.666157Z",
     "start_time": "2020-03-02T16:51:48.659532Z"
    }
   },
   "outputs": [],
   "source": [
    "#strip any proper nouns (NNP) or plural proper nouns (NNPS) from a text\n",
    "from nltk.tag import pos_tag\n",
    "\n",
    "def strip_proppers_POS(text):\n",
    "    tagged = pos_tag(text.split()) #use NLTK's part of speech tagger\n",
    "    non_propernouns = [word for word,pos in tagged if pos != 'NNP' and pos != 'NNPS']\n",
    "    return non_propernouns"
   ]
  },
  {
   "cell_type": "markdown",
   "metadata": {},
   "source": [
    "## Visualizing document clusters"
   ]
  },
  {
   "cell_type": "code",
   "execution_count": 80,
   "metadata": {
    "ExecuteTime": {
     "end_time": "2020-03-02T16:51:57.419988Z",
     "start_time": "2020-03-02T16:51:57.414087Z"
    }
   },
   "outputs": [],
   "source": [
    "#set up colors per clusters using a dict\n",
    "cluster_colors = {0: '#1b9e77', 1: '#d95f02', 2: '#7570b3', 3: '#e7298a', 4: '#66a61e'}\n",
    "\n",
    "#set up cluster names using a dict\n",
    "cluster_names = {0: 'Family, home, war', \n",
    "                 1: 'Police, killed, murders', \n",
    "                 2: 'Father, New York, brothers', \n",
    "                 3: 'Dance, singing, love', \n",
    "                 4: 'Killed, soldiers, captain'}"
   ]
  },
  {
   "cell_type": "code",
   "execution_count": 81,
   "metadata": {
    "ExecuteTime": {
     "end_time": "2020-03-02T16:51:58.363807Z",
     "start_time": "2020-03-02T16:51:58.357623Z"
    }
   },
   "outputs": [],
   "source": [
    "%matplotlib inline"
   ]
  },
  {
   "cell_type": "code",
   "execution_count": 82,
   "metadata": {
    "ExecuteTime": {
     "end_time": "2020-03-02T16:52:04.278754Z",
     "start_time": "2020-03-02T16:52:01.859681Z"
    }
   },
   "outputs": [
    {
     "name": "stderr",
     "output_type": "stream",
     "text": [
      "c:\\users\\waeal\\appdata\\local\\programs\\python\\python37\\lib\\site-packages\\ipykernel_launcher.py:34: FutureWarning: \n",
      ".ix is deprecated. Please use\n",
      ".loc for label based indexing or\n",
      ".iloc for positional indexing\n",
      "\n",
      "See the documentation here:\n",
      "http://pandas.pydata.org/pandas-docs/stable/user_guide/indexing.html#ix-indexer-is-deprecated\n"
     ]
    },
    {
     "data": {
      "image/png": "[encoded data removed]",
      "text/plain": [
       "<Figure size 1224x648 with 1 Axes>"
      ]
     },
     "metadata": {
      "needs_background": "light"
     },
     "output_type": "display_data"
    }
   ],
   "source": [
    "#create data frame that has the result of the MDS plus the cluster numbers and titles\n",
    "df = pd.DataFrame(dict(x=xs, y=ys, label=clusters, title=titles)) \n",
    "\n",
    "#group by cluster\n",
    "groups = df.groupby('label')\n",
    "\n",
    "\n",
    "# set up plot\n",
    "fig, ax = plt.subplots(figsize=(17, 9)) # set size\n",
    "ax.margins(0.05) # Optional, just adds 5% padding to the autoscaling\n",
    "\n",
    "#iterate through groups to layer the plot\n",
    "#note that I use the cluster_name and cluster_color dicts with the 'name' lookup to return the appropriate color/label\n",
    "for name, group in groups:\n",
    "    ax.plot(group.x, group.y, marker='o', linestyle='', ms=12, label=cluster_names[name], color=cluster_colors[name], mec='none')\n",
    "    ax.set_aspect('auto')\n",
    "    ax.tick_params(\\\n",
    "        axis= 'x',          # changes apply to the x-axis\n",
    "        which='both',      # both major and minor ticks are affected\n",
    "        bottom='off',      # ticks along the bottom edge are off\n",
    "        top='off',         # ticks along the top edge are off\n",
    "        labelbottom='off')\n",
    "    ax.tick_params(\\\n",
    "        axis= 'y',         # changes apply to the y-axis\n",
    "        which='both',      # both major and minor ticks are affected\n",
    "        left='off',      # ticks along the bottom edge are off\n",
    "        top='off',         # ticks along the top edge are off\n",
    "        labelleft='off')\n",
    "    \n",
    "ax.legend(numpoints=1)  #show legend with only 1 point\n",
    "\n",
    "#add label in x,y position with the label as the film title\n",
    "for i in range(len(df)):\n",
    "    ax.text(df.ix[i]['x'], df.ix[i]['y'], df.ix[i]['title'], size=8)  \n",
    "\n",
    "    \n",
    "    \n",
    "plt.show() #show the plot\n",
    "\n",
    "#uncomment the below to save the plot if need be\n",
    "#plt.savefig('clusters_small_noaxes.png', dpi=200)"
   ]
  },
  {
   "cell_type": "code",
   "execution_count": 83,
   "metadata": {
    "ExecuteTime": {
     "end_time": "2020-03-02T16:52:20.678602Z",
     "start_time": "2020-03-02T16:52:20.674613Z"
    }
   },
   "outputs": [],
   "source": [
    "plt.close()"
   ]
  },
  {
   "cell_type": "markdown",
   "metadata": {},
   "source": [
    "The clustering plot looks great, but it pains my eyes to see overlapping labels. Having some experience with [D3.js](http://d3js.org/) I knew one solution would be to use a browser based/javascript interactive. Fortunately, I recently stumbled upon [mpld3](https://mpld3.github.io/) a matplotlib wrapper for D3. Mpld3 basically let's you use matplotlib syntax to create web interactives. It has a really easy, high-level API for adding tooltips on mouse hover, which is what I am interested in.\n",
    "\n",
    "It also has some nice functionality for zooming and panning. The below javascript snippet basicaly defines a custom location for where the zoom/pan toggle resides. Don't worry about it too much and you actually don't need to use it, but it helped for formatting purposes when exporting to the web later. The only thing you might want to change is the x and y attr for the position of the toolbar."
   ]
  },
  {
   "cell_type": "code",
   "execution_count": 84,
   "metadata": {
    "ExecuteTime": {
     "end_time": "2020-03-02T16:52:36.869901Z",
     "start_time": "2020-03-02T16:52:36.862889Z"
    }
   },
   "outputs": [],
   "source": [
    "#define custom toolbar location\n",
    "class TopToolbar(mpld3.plugins.PluginBase):\n",
    "    \"\"\"Plugin for moving toolbar to top of figure\"\"\"\n",
    "\n",
    "    JAVASCRIPT = \"\"\"\n",
    "    mpld3.register_plugin(\"toptoolbar\", TopToolbar);\n",
    "    TopToolbar.prototype = Object.create(mpld3.Plugin.prototype);\n",
    "    TopToolbar.prototype.constructor = TopToolbar;\n",
    "    function TopToolbar(fig, props){\n",
    "        mpld3.Plugin.call(this, fig, props);\n",
    "    };\n",
    "\n",
    "    TopToolbar.prototype.draw = function(){\n",
    "      // the toolbar svg doesn't exist\n",
    "      // yet, so first draw it\n",
    "      this.fig.toolbar.draw();\n",
    "\n",
    "      // then change the y position to be\n",
    "      // at the top of the figure\n",
    "      this.fig.toolbar.toolbar.attr(\"x\", 150);\n",
    "      this.fig.toolbar.toolbar.attr(\"y\", 400);\n",
    "\n",
    "      // then remove the draw function,\n",
    "      // so that it is not called again\n",
    "      this.fig.toolbar.draw = function() {}\n",
    "    }\n",
    "    \"\"\"\n",
    "    def __init__(self):\n",
    "        self.dict_ = {\"type\": \"toptoolbar\"}"
   ]
  },
  {
   "cell_type": "code",
   "execution_count": 85,
   "metadata": {
    "ExecuteTime": {
     "end_time": "2020-03-02T16:52:40.732245Z",
     "start_time": "2020-03-02T16:52:40.613130Z"
    }
   },
   "outputs": [
    {
     "data": {
      "text/html": [
       "\n",
       "\n",
       "<style>\n",
       "\n",
       "text.mpld3-text, div.mpld3-tooltip {\n",
       "  font-family:Arial, Helvetica, sans-serif;\n",
       "}\n",
       "\n",
       "g.mpld3-xaxis, g.mpld3-yaxis {\n",
       "display: none; }\n",
       "\n",
       "text.mpld3-text, div.mpld3-tooltip {\n",
       "  font-family:Arial, Helvetica, sans-serif;\n",
       "}\n",
       "\n",
       "g.mpld3-xaxis, g.mpld3-yaxis {\n",
       "display: none; }\n",
       "\n",
       "text.mpld3-text, div.mpld3-tooltip {\n",
       "  font-family:Arial, Helvetica, sans-serif;\n",
       "}\n",
       "\n",
       "g.mpld3-xaxis, g.mpld3-yaxis {\n",
       "display: none; }\n",
       "\n",
       "text.mpld3-text, div.mpld3-tooltip {\n",
       "  font-family:Arial, Helvetica, sans-serif;\n",
       "}\n",
       "\n",
       "g.mpld3-xaxis, g.mpld3-yaxis {\n",
       "display: none; }\n",
       "\n",
       "text.mpld3-text, div.mpld3-tooltip {\n",
       "  font-family:Arial, Helvetica, sans-serif;\n",
       "}\n",
       "\n",
       "g.mpld3-xaxis, g.mpld3-yaxis {\n",
       "display: none; }\n",
       "\n",
       "</style>\n",
       "\n",
       "<div id=\"fig_el3544421417917977689458560609\"></div>\n",
       "<script>\n",
       "function mpld3_load_lib(url, callback){\n",
       "  var s = document.createElement('script');\n",
       "  s.src = url;\n",
       "  s.async = true;\n",
       "  s.onreadystatechange = s.onload = callback;\n",
       "  s.onerror = function(){console.warn(\"failed to load library \" + url);};\n",
       "  document.getElementsByTagName(\"head\")[0].appendChild(s);\n",
       "}\n",
       "\n",
       "if(typeof(mpld3) !== \"undefined\" && mpld3._mpld3IsLoaded){\n",
       "   // already loaded: just create the figure\n",
       "   !function(mpld3){\n",
       "       \n",
       "    mpld3.register_plugin(\"htmltooltip\", HtmlTooltipPlugin);\n",
       "    HtmlTooltipPlugin.prototype = Object.create(mpld3.Plugin.prototype);\n",
       "    HtmlTooltipPlugin.prototype.constructor = HtmlTooltipPlugin;\n",
       "    HtmlTooltipPlugin.prototype.requiredProps = [\"id\"];\n",
       "    HtmlTooltipPlugin.prototype.defaultProps = {labels:null,\n",
       "                                                hoffset:0,\n",
       "                                                voffset:10};\n",
       "    function HtmlTooltipPlugin(fig, props){\n",
       "        mpld3.Plugin.call(this, fig, props);\n",
       "    };\n",
       "\n",
       "    HtmlTooltipPlugin.prototype.draw = function(){\n",
       "       var obj = mpld3.get_element(this.props.id);\n",
       "       var labels = this.props.labels;\n",
       "       var tooltip = d3.select(\"body\").append(\"div\")\n",
       "                    .attr(\"class\", \"mpld3-tooltip\")\n",
       "                    .style(\"position\", \"absolute\")\n",
       "                    .style(\"z-index\", \"10\")\n",
       "                    .style(\"visibility\", \"hidden\");\n",
       "\n",
       "       obj.elements()\n",
       "           .on(\"mouseover\", function(d, i){\n",
       "                              tooltip.html(labels[i])\n",
       "                                     .style(\"visibility\", \"visible\");})\n",
       "           .on(\"mousemove\", function(d, i){\n",
       "                  tooltip\n",
       "                    .style(\"top\", d3.event.pageY + this.props.voffset + \"px\")\n",
       "                    .style(\"left\",d3.event.pageX + this.props.hoffset + \"px\");\n",
       "                 }.bind(this))\n",
       "           .on(\"mouseout\",  function(d, i){\n",
       "                           tooltip.style(\"visibility\", \"hidden\");});\n",
       "    };\n",
       "    \n",
       "    mpld3.register_plugin(\"toptoolbar\", TopToolbar);\n",
       "    TopToolbar.prototype = Object.create(mpld3.Plugin.prototype);\n",
       "    TopToolbar.prototype.constructor = TopToolbar;\n",
       "    function TopToolbar(fig, props){\n",
       "        mpld3.Plugin.call(this, fig, props);\n",
       "    };\n",
       "\n",
       "    TopToolbar.prototype.draw = function(){\n",
       "      // the toolbar svg doesn't exist\n",
       "      // yet, so first draw it\n",
       "      this.fig.toolbar.draw();\n",
       "\n",
       "      // then change the y position to be\n",
       "      // at the top of the figure\n",
       "      this.fig.toolbar.toolbar.attr(\"x\", 150);\n",
       "      this.fig.toolbar.toolbar.attr(\"y\", 400);\n",
       "\n",
       "      // then remove the draw function,\n",
       "      // so that it is not called again\n",
       "      this.fig.toolbar.draw = function() {}\n",
       "    }\n",
       "    \n",
       "    mpld3.register_plugin(\"htmltooltip\", HtmlTooltipPlugin);\n",
       "    HtmlTooltipPlugin.prototype = Object.create(mpld3.Plugin.prototype);\n",
       "    HtmlTooltipPlugin.prototype.constructor = HtmlTooltipPlugin;\n",
       "    HtmlTooltipPlugin.prototype.requiredProps = [\"id\"];\n",
       "    HtmlTooltipPlugin.prototype.defaultProps = {labels:null,\n",
       "                                                hoffset:0,\n",
       "                                                voffset:10};\n",
       "    function HtmlTooltipPlugin(fig, props){\n",
       "        mpld3.Plugin.call(this, fig, props);\n",
       "    };\n",
       "\n",
       "    HtmlTooltipPlugin.prototype.draw = function(){\n",
       "       var obj = mpld3.get_element(this.props.id);\n",
       "       var labels = this.props.labels;\n",
       "       var tooltip = d3.select(\"body\").append(\"div\")\n",
       "                    .attr(\"class\", \"mpld3-tooltip\")\n",
       "                    .style(\"position\", \"absolute\")\n",
       "                    .style(\"z-index\", \"10\")\n",
       "                    .style(\"visibility\", \"hidden\");\n",
       "\n",
       "       obj.elements()\n",
       "           .on(\"mouseover\", function(d, i){\n",
       "                              tooltip.html(labels[i])\n",
       "                                     .style(\"visibility\", \"visible\");})\n",
       "           .on(\"mousemove\", function(d, i){\n",
       "                  tooltip\n",
       "                    .style(\"top\", d3.event.pageY + this.props.voffset + \"px\")\n",
       "                    .style(\"left\",d3.event.pageX + this.props.hoffset + \"px\");\n",
       "                 }.bind(this))\n",
       "           .on(\"mouseout\",  function(d, i){\n",
       "                           tooltip.style(\"visibility\", \"hidden\");});\n",
       "    };\n",
       "    \n",
       "    mpld3.register_plugin(\"toptoolbar\", TopToolbar);\n",
       "    TopToolbar.prototype = Object.create(mpld3.Plugin.prototype);\n",
       "    TopToolbar.prototype.constructor = TopToolbar;\n",
       "    function TopToolbar(fig, props){\n",
       "        mpld3.Plugin.call(this, fig, props);\n",
       "    };\n",
       "\n",
       "    TopToolbar.prototype.draw = function(){\n",
       "      // the toolbar svg doesn't exist\n",
       "      // yet, so first draw it\n",
       "      this.fig.toolbar.draw();\n",
       "\n",
       "      // then change the y position to be\n",
       "      // at the top of the figure\n",
       "      this.fig.toolbar.toolbar.attr(\"x\", 150);\n",
       "      this.fig.toolbar.toolbar.attr(\"y\", 400);\n",
       "\n",
       "      // then remove the draw function,\n",
       "      // so that it is not called again\n",
       "      this.fig.toolbar.draw = function() {}\n",
       "    }\n",
       "    \n",
       "    mpld3.register_plugin(\"htmltooltip\", HtmlTooltipPlugin);\n",
       "    HtmlTooltipPlugin.prototype = Object.create(mpld3.Plugin.prototype);\n",
       "    HtmlTooltipPlugin.prototype.constructor = HtmlTooltipPlugin;\n",
       "    HtmlTooltipPlugin.prototype.requiredProps = [\"id\"];\n",
       "    HtmlTooltipPlugin.prototype.defaultProps = {labels:null,\n",
       "                                                hoffset:0,\n",
       "                                                voffset:10};\n",
       "    function HtmlTooltipPlugin(fig, props){\n",
       "        mpld3.Plugin.call(this, fig, props);\n",
       "    };\n",
       "\n",
       "    HtmlTooltipPlugin.prototype.draw = function(){\n",
       "       var obj = mpld3.get_element(this.props.id);\n",
       "       var labels = this.props.labels;\n",
       "       var tooltip = d3.select(\"body\").append(\"div\")\n",
       "                    .attr(\"class\", \"mpld3-tooltip\")\n",
       "                    .style(\"position\", \"absolute\")\n",
       "                    .style(\"z-index\", \"10\")\n",
       "                    .style(\"visibility\", \"hidden\");\n",
       "\n",
       "       obj.elements()\n",
       "           .on(\"mouseover\", function(d, i){\n",
       "                              tooltip.html(labels[i])\n",
       "                                     .style(\"visibility\", \"visible\");})\n",
       "           .on(\"mousemove\", function(d, i){\n",
       "                  tooltip\n",
       "                    .style(\"top\", d3.event.pageY + this.props.voffset + \"px\")\n",
       "                    .style(\"left\",d3.event.pageX + this.props.hoffset + \"px\");\n",
       "                 }.bind(this))\n",
       "           .on(\"mouseout\",  function(d, i){\n",
       "                           tooltip.style(\"visibility\", \"hidden\");});\n",
       "    };\n",
       "    \n",
       "    mpld3.register_plugin(\"toptoolbar\", TopToolbar);\n",
       "    TopToolbar.prototype = Object.create(mpld3.Plugin.prototype);\n",
       "    TopToolbar.prototype.constructor = TopToolbar;\n",
       "    function TopToolbar(fig, props){\n",
       "        mpld3.Plugin.call(this, fig, props);\n",
       "    };\n",
       "\n",
       "    TopToolbar.prototype.draw = function(){\n",
       "      // the toolbar svg doesn't exist\n",
       "      // yet, so first draw it\n",
       "      this.fig.toolbar.draw();\n",
       "\n",
       "      // then change the y position to be\n",
       "      // at the top of the figure\n",
       "      this.fig.toolbar.toolbar.attr(\"x\", 150);\n",
       "      this.fig.toolbar.toolbar.attr(\"y\", 400);\n",
       "\n",
       "      // then remove the draw function,\n",
       "      // so that it is not called again\n",
       "      this.fig.toolbar.draw = function() {}\n",
       "    }\n",
       "    \n",
       "    mpld3.register_plugin(\"htmltooltip\", HtmlTooltipPlugin);\n",
       "    HtmlTooltipPlugin.prototype = Object.create(mpld3.Plugin.prototype);\n",
       "    HtmlTooltipPlugin.prototype.constructor = HtmlTooltipPlugin;\n",
       "    HtmlTooltipPlugin.prototype.requiredProps = [\"id\"];\n",
       "    HtmlTooltipPlugin.prototype.defaultProps = {labels:null,\n",
       "                                                hoffset:0,\n",
       "                                                voffset:10};\n",
       "    function HtmlTooltipPlugin(fig, props){\n",
       "        mpld3.Plugin.call(this, fig, props);\n",
       "    };\n",
       "\n",
       "    HtmlTooltipPlugin.prototype.draw = function(){\n",
       "       var obj = mpld3.get_element(this.props.id);\n",
       "       var labels = this.props.labels;\n",
       "       var tooltip = d3.select(\"body\").append(\"div\")\n",
       "                    .attr(\"class\", \"mpld3-tooltip\")\n",
       "                    .style(\"position\", \"absolute\")\n",
       "                    .style(\"z-index\", \"10\")\n",
       "                    .style(\"visibility\", \"hidden\");\n",
       "\n",
       "       obj.elements()\n",
       "           .on(\"mouseover\", function(d, i){\n",
       "                              tooltip.html(labels[i])\n",
       "                                     .style(\"visibility\", \"visible\");})\n",
       "           .on(\"mousemove\", function(d, i){\n",
       "                  tooltip\n",
       "                    .style(\"top\", d3.event.pageY + this.props.voffset + \"px\")\n",
       "                    .style(\"left\",d3.event.pageX + this.props.hoffset + \"px\");\n",
       "                 }.bind(this))\n",
       "           .on(\"mouseout\",  function(d, i){\n",
       "                           tooltip.style(\"visibility\", \"hidden\");});\n",
       "    };\n",
       "    \n",
       "    mpld3.register_plugin(\"toptoolbar\", TopToolbar);\n",
       "    TopToolbar.prototype = Object.create(mpld3.Plugin.prototype);\n",
       "    TopToolbar.prototype.constructor = TopToolbar;\n",
       "    function TopToolbar(fig, props){\n",
       "        mpld3.Plugin.call(this, fig, props);\n",
       "    };\n",
       "\n",
       "    TopToolbar.prototype.draw = function(){\n",
       "      // the toolbar svg doesn't exist\n",
       "      // yet, so first draw it\n",
       "      this.fig.toolbar.draw();\n",
       "\n",
       "      // then change the y position to be\n",
       "      // at the top of the figure\n",
       "      this.fig.toolbar.toolbar.attr(\"x\", 150);\n",
       "      this.fig.toolbar.toolbar.attr(\"y\", 400);\n",
       "\n",
       "      // then remove the draw function,\n",
       "      // so that it is not called again\n",
       "      this.fig.toolbar.draw = function() {}\n",
       "    }\n",
       "    \n",
       "    mpld3.register_plugin(\"htmltooltip\", HtmlTooltipPlugin);\n",
       "    HtmlTooltipPlugin.prototype = Object.create(mpld3.Plugin.prototype);\n",
       "    HtmlTooltipPlugin.prototype.constructor = HtmlTooltipPlugin;\n",
       "    HtmlTooltipPlugin.prototype.requiredProps = [\"id\"];\n",
       "    HtmlTooltipPlugin.prototype.defaultProps = {labels:null,\n",
       "                                                hoffset:0,\n",
       "                                                voffset:10};\n",
       "    function HtmlTooltipPlugin(fig, props){\n",
       "        mpld3.Plugin.call(this, fig, props);\n",
       "    };\n",
       "\n",
       "    HtmlTooltipPlugin.prototype.draw = function(){\n",
       "       var obj = mpld3.get_element(this.props.id);\n",
       "       var labels = this.props.labels;\n",
       "       var tooltip = d3.select(\"body\").append(\"div\")\n",
       "                    .attr(\"class\", \"mpld3-tooltip\")\n",
       "                    .style(\"position\", \"absolute\")\n",
       "                    .style(\"z-index\", \"10\")\n",
       "                    .style(\"visibility\", \"hidden\");\n",
       "\n",
       "       obj.elements()\n",
       "           .on(\"mouseover\", function(d, i){\n",
       "                              tooltip.html(labels[i])\n",
       "                                     .style(\"visibility\", \"visible\");})\n",
       "           .on(\"mousemove\", function(d, i){\n",
       "                  tooltip\n",
       "                    .style(\"top\", d3.event.pageY + this.props.voffset + \"px\")\n",
       "                    .style(\"left\",d3.event.pageX + this.props.hoffset + \"px\");\n",
       "                 }.bind(this))\n",
       "           .on(\"mouseout\",  function(d, i){\n",
       "                           tooltip.style(\"visibility\", \"hidden\");});\n",
       "    };\n",
       "    \n",
       "    mpld3.register_plugin(\"toptoolbar\", TopToolbar);\n",
       "    TopToolbar.prototype = Object.create(mpld3.Plugin.prototype);\n",
       "    TopToolbar.prototype.constructor = TopToolbar;\n",
       "    function TopToolbar(fig, props){\n",
       "        mpld3.Plugin.call(this, fig, props);\n",
       "    };\n",
       "\n",
       "    TopToolbar.prototype.draw = function(){\n",
       "      // the toolbar svg doesn't exist\n",
       "      // yet, so first draw it\n",
       "      this.fig.toolbar.draw();\n",
       "\n",
       "      // then change the y position to be\n",
       "      // at the top of the figure\n",
       "      this.fig.toolbar.toolbar.attr(\"x\", 150);\n",
       "      this.fig.toolbar.toolbar.attr(\"y\", 400);\n",
       "\n",
       "      // then remove the draw function,\n",
       "      // so that it is not called again\n",
       "      this.fig.toolbar.draw = function() {}\n",
       "    }\n",
       "    \n",
       "       mpld3.draw_figure(\"fig_el3544421417917977689458560609\", {\"width\": 1008.0, \"height\": 432.0, \"axes\": [{\"bbox\": [0.125, 0.125, 0.775, 0.755], \"xlim\": [-0.7022446245855734, 0.7098314809788802], \"ylim\": [-0.7081718721860418, 0.6939226674565514], \"xdomain\": [-0.7022446245855734, 0.7098314809788802], \"ydomain\": [-0.7081718721860418, 0.6939226674565514], \"xscale\": \"linear\", \"yscale\": \"linear\", \"axes\": [{\"position\": \"bottom\", \"nticks\": 0, \"tickvalues\": [], \"tickformat\": \"\", \"scale\": \"linear\", \"fontsize\": null, \"grid\": {\"gridOn\": false}, \"visible\": false}, {\"position\": \"left\", \"nticks\": 0, \"tickvalues\": [], \"tickformat\": \"\", \"scale\": \"linear\", \"fontsize\": null, \"grid\": {\"gridOn\": false}, \"visible\": false}], \"axesbg\": \"#FFFFFF\", \"axesbgalpha\": null, \"zoomable\": true, \"id\": \"el354442141519640584\", \"lines\": [], \"paths\": [{\"data\": \"data07\", \"xindex\": 0, \"yindex\": 1, \"coordinates\": \"axes\", \"pathcodes\": [\"M\", \"L\", \"S\", \"L\", \"S\", \"L\", \"S\", \"L\", \"S\", \"Z\"], \"id\": \"el354442141194877128\", \"dasharray\": \"none\", \"alpha\": 0.8, \"facecolor\": \"#FFFFFF\", \"edgecolor\": \"#CCCCCC\", \"edgewidth\": 1.0, \"zorder\": 1000000.0}], \"markers\": [{\"data\": \"data01\", \"xindex\": 0, \"yindex\": 1, \"coordinates\": \"data\", \"id\": \"el354442141493482184pts\", \"facecolor\": \"#1B9E77\", \"edgecolor\": \"none\", \"edgewidth\": 1.0, \"alpha\": 1, \"zorder\": 2, \"markerpath\": [[[0.0, 9.0], [2.3868279, 9.0], [4.676218837063681, 8.051703224294176], [6.3639610306789285, 6.3639610306789285], [8.051703224294176, 4.676218837063681], [9.0, 2.3868279], [9.0, 0.0], [9.0, -2.3868279], [8.051703224294176, -4.676218837063681], [6.3639610306789285, -6.3639610306789285], [4.676218837063681, -8.051703224294176], [2.3868279, -9.0], [0.0, -9.0], [-2.3868279, -9.0], [-4.676218837063681, -8.051703224294176], [-6.3639610306789285, -6.3639610306789285], [-8.051703224294176, -4.676218837063681], [-9.0, -2.3868279], [-9.0, 0.0], [-9.0, 2.3868279], [-8.051703224294176, 4.676218837063681], [-6.3639610306789285, 6.3639610306789285], [-4.676218837063681, 8.051703224294176], [-2.3868279, 9.0], [0.0, 9.0]], [\"M\", \"C\", \"C\", \"C\", \"C\", \"C\", \"C\", \"C\", \"C\", \"Z\"]]}, {\"data\": \"data02\", \"xindex\": 0, \"yindex\": 1, \"coordinates\": \"data\", \"id\": \"el354442141194875080pts\", \"facecolor\": \"#D95F02\", \"edgecolor\": \"none\", \"edgewidth\": 1.0, \"alpha\": 1, \"zorder\": 2, \"markerpath\": [[[0.0, 9.0], [2.3868279, 9.0], [4.676218837063681, 8.051703224294176], [6.3639610306789285, 6.3639610306789285], [8.051703224294176, 4.676218837063681], [9.0, 2.3868279], [9.0, 0.0], [9.0, -2.3868279], [8.051703224294176, -4.676218837063681], [6.3639610306789285, -6.3639610306789285], [4.676218837063681, -8.051703224294176], [2.3868279, -9.0], [0.0, -9.0], [-2.3868279, -9.0], [-4.676218837063681, -8.051703224294176], [-6.3639610306789285, -6.3639610306789285], [-8.051703224294176, -4.676218837063681], [-9.0, -2.3868279], [-9.0, 0.0], [-9.0, 2.3868279], [-8.051703224294176, 4.676218837063681], [-6.3639610306789285, 6.3639610306789285], [-4.676218837063681, 8.051703224294176], [-2.3868279, 9.0], [0.0, 9.0]], [\"M\", \"C\", \"C\", \"C\", \"C\", \"C\", \"C\", \"C\", \"C\", \"Z\"]]}, {\"data\": \"data03\", \"xindex\": 0, \"yindex\": 1, \"coordinates\": \"data\", \"id\": \"el354442141199322760pts\", \"facecolor\": \"#7570B3\", \"edgecolor\": \"none\", \"edgewidth\": 1.0, \"alpha\": 1, \"zorder\": 2, \"markerpath\": [[[0.0, 9.0], [2.3868279, 9.0], [4.676218837063681, 8.051703224294176], [6.3639610306789285, 6.3639610306789285], [8.051703224294176, 4.676218837063681], [9.0, 2.3868279], [9.0, 0.0], [9.0, -2.3868279], [8.051703224294176, -4.676218837063681], [6.3639610306789285, -6.3639610306789285], [4.676218837063681, -8.051703224294176], [2.3868279, -9.0], [0.0, -9.0], [-2.3868279, -9.0], [-4.676218837063681, -8.051703224294176], [-6.3639610306789285, -6.3639610306789285], [-8.051703224294176, -4.676218837063681], [-9.0, -2.3868279], [-9.0, 0.0], [-9.0, 2.3868279], [-8.051703224294176, 4.676218837063681], [-6.3639610306789285, 6.3639610306789285], [-4.676218837063681, 8.051703224294176], [-2.3868279, 9.0], [0.0, 9.0]], [\"M\", \"C\", \"C\", \"C\", \"C\", \"C\", \"C\", \"C\", \"C\", \"Z\"]]}, {\"data\": \"data04\", \"xindex\": 0, \"yindex\": 1, \"coordinates\": \"data\", \"id\": \"el354442141493550472pts\", \"facecolor\": \"#E7298A\", \"edgecolor\": \"none\", \"edgewidth\": 1.0, \"alpha\": 1, \"zorder\": 2, \"markerpath\": [[[0.0, 9.0], [2.3868279, 9.0], [4.676218837063681, 8.051703224294176], [6.3639610306789285, 6.3639610306789285], [8.051703224294176, 4.676218837063681], [9.0, 2.3868279], [9.0, 0.0], [9.0, -2.3868279], [8.051703224294176, -4.676218837063681], [6.3639610306789285, -6.3639610306789285], [4.676218837063681, -8.051703224294176], [2.3868279, -9.0], [0.0, -9.0], [-2.3868279, -9.0], [-4.676218837063681, -8.051703224294176], [-6.3639610306789285, -6.3639610306789285], [-8.051703224294176, -4.676218837063681], [-9.0, -2.3868279], [-9.0, 0.0], [-9.0, 2.3868279], [-8.051703224294176, 4.676218837063681], [-6.3639610306789285, 6.3639610306789285], [-4.676218837063681, 8.051703224294176], [-2.3868279, 9.0], [0.0, 9.0]], [\"M\", \"C\", \"C\", \"C\", \"C\", \"C\", \"C\", \"C\", \"C\", \"Z\"]]}, {\"data\": \"data05\", \"xindex\": 0, \"yindex\": 1, \"coordinates\": \"data\", \"id\": \"el354442141207811336pts\", \"facecolor\": \"#66A61E\", \"edgecolor\": \"none\", \"edgewidth\": 1.0, \"alpha\": 1, \"zorder\": 2, \"markerpath\": [[[0.0, 9.0], [2.3868279, 9.0], [4.676218837063681, 8.051703224294176], [6.3639610306789285, 6.3639610306789285], [8.051703224294176, 4.676218837063681], [9.0, 2.3868279], [9.0, 0.0], [9.0, -2.3868279], [8.051703224294176, -4.676218837063681], [6.3639610306789285, -6.3639610306789285], [4.676218837063681, -8.051703224294176], [2.3868279, -9.0], [0.0, -9.0], [-2.3868279, -9.0], [-4.676218837063681, -8.051703224294176], [-6.3639610306789285, -6.3639610306789285], [-8.051703224294176, -4.676218837063681], [-9.0, -2.3868279], [-9.0, 0.0], [-9.0, 2.3868279], [-8.051703224294176, 4.676218837063681], [-6.3639610306789285, 6.3639610306789285], [-4.676218837063681, 8.051703224294176], [-2.3868279, 9.0], [0.0, 9.0]], [\"M\", \"C\", \"C\", \"C\", \"C\", \"C\", \"C\", \"C\", \"C\", \"Z\"]]}, {\"data\": \"data06\", \"xindex\": 0, \"yindex\": 1, \"coordinates\": \"axes\", \"id\": \"el354442141192909448pts\", \"facecolor\": \"#1B9E77\", \"edgecolor\": \"none\", \"edgewidth\": 1.0, \"alpha\": 1, \"zorder\": 1000002.0, \"markerpath\": [[[0.0, 9.0], [2.3868279, 9.0], [4.676218837063681, 8.051703224294176], [6.3639610306789285, 6.3639610306789285], [8.051703224294176, 4.676218837063681], [9.0, 2.3868279], [9.0, 0.0], [9.0, -2.3868279], [8.051703224294176, -4.676218837063681], [6.3639610306789285, -6.3639610306789285], [4.676218837063681, -8.051703224294176], [2.3868279, -9.0], [0.0, -9.0], [-2.3868279, -9.0], [-4.676218837063681, -8.051703224294176], [-6.3639610306789285, -6.3639610306789285], [-8.051703224294176, -4.676218837063681], [-9.0, -2.3868279], [-9.0, 0.0], [-9.0, 2.3868279], [-8.051703224294176, 4.676218837063681], [-6.3639610306789285, 6.3639610306789285], [-4.676218837063681, 8.051703224294176], [-2.3868279, 9.0], [0.0, 9.0]], [\"M\", \"C\", \"C\", \"C\", \"C\", \"C\", \"C\", \"C\", \"C\", \"Z\"]]}, {\"data\": \"data06\", \"xindex\": 0, \"yindex\": 2, \"coordinates\": \"axes\", \"id\": \"el354442141192909832pts\", \"facecolor\": \"#D95F02\", \"edgecolor\": \"none\", \"edgewidth\": 1.0, \"alpha\": 1, \"zorder\": 1000002.0, \"markerpath\": [[[0.0, 9.0], [2.3868279, 9.0], [4.676218837063681, 8.051703224294176], [6.3639610306789285, 6.3639610306789285], [8.051703224294176, 4.676218837063681], [9.0, 2.3868279], [9.0, 0.0], [9.0, -2.3868279], [8.051703224294176, -4.676218837063681], [6.3639610306789285, -6.3639610306789285], [4.676218837063681, -8.051703224294176], [2.3868279, -9.0], [0.0, -9.0], [-2.3868279, -9.0], [-4.676218837063681, -8.051703224294176], [-6.3639610306789285, -6.3639610306789285], [-8.051703224294176, -4.676218837063681], [-9.0, -2.3868279], [-9.0, 0.0], [-9.0, 2.3868279], [-8.051703224294176, 4.676218837063681], [-6.3639610306789285, 6.3639610306789285], [-4.676218837063681, 8.051703224294176], [-2.3868279, 9.0], [0.0, 9.0]], [\"M\", \"C\", \"C\", \"C\", \"C\", \"C\", \"C\", \"C\", \"C\", \"Z\"]]}, {\"data\": \"data06\", \"xindex\": 0, \"yindex\": 3, \"coordinates\": \"axes\", \"id\": \"el354442141199359624pts\", \"facecolor\": \"#7570B3\", \"edgecolor\": \"none\", \"edgewidth\": 1.0, \"alpha\": 1, \"zorder\": 1000002.0, \"markerpath\": [[[0.0, 9.0], [2.3868279, 9.0], [4.676218837063681, 8.051703224294176], [6.3639610306789285, 6.3639610306789285], [8.051703224294176, 4.676218837063681], [9.0, 2.3868279], [9.0, 0.0], [9.0, -2.3868279], [8.051703224294176, -4.676218837063681], [6.3639610306789285, -6.3639610306789285], [4.676218837063681, -8.051703224294176], [2.3868279, -9.0], [0.0, -9.0], [-2.3868279, -9.0], [-4.676218837063681, -8.051703224294176], [-6.3639610306789285, -6.3639610306789285], [-8.051703224294176, -4.676218837063681], [-9.0, -2.3868279], [-9.0, 0.0], [-9.0, 2.3868279], [-8.051703224294176, 4.676218837063681], [-6.3639610306789285, 6.3639610306789285], [-4.676218837063681, 8.051703224294176], [-2.3868279, 9.0], [0.0, 9.0]], [\"M\", \"C\", \"C\", \"C\", \"C\", \"C\", \"C\", \"C\", \"C\", \"Z\"]]}, {\"data\": \"data06\", \"xindex\": 0, \"yindex\": 4, \"coordinates\": \"axes\", \"id\": \"el354442141194758088pts\", \"facecolor\": \"#E7298A\", \"edgecolor\": \"none\", \"edgewidth\": 1.0, \"alpha\": 1, \"zorder\": 1000002.0, \"markerpath\": [[[0.0, 9.0], [2.3868279, 9.0], [4.676218837063681, 8.051703224294176], [6.3639610306789285, 6.3639610306789285], [8.051703224294176, 4.676218837063681], [9.0, 2.3868279], [9.0, 0.0], [9.0, -2.3868279], [8.051703224294176, -4.676218837063681], [6.3639610306789285, -6.3639610306789285], [4.676218837063681, -8.051703224294176], [2.3868279, -9.0], [0.0, -9.0], [-2.3868279, -9.0], [-4.676218837063681, -8.051703224294176], [-6.3639610306789285, -6.3639610306789285], [-8.051703224294176, -4.676218837063681], [-9.0, -2.3868279], [-9.0, 0.0], [-9.0, 2.3868279], [-8.051703224294176, 4.676218837063681], [-6.3639610306789285, 6.3639610306789285], [-4.676218837063681, 8.051703224294176], [-2.3868279, 9.0], [0.0, 9.0]], [\"M\", \"C\", \"C\", \"C\", \"C\", \"C\", \"C\", \"C\", \"C\", \"Z\"]]}, {\"data\": \"data06\", \"xindex\": 0, \"yindex\": 5, \"coordinates\": \"axes\", \"id\": \"el354442141203109128pts\", \"facecolor\": \"#66A61E\", \"edgecolor\": \"none\", \"edgewidth\": 1.0, \"alpha\": 1, \"zorder\": 1000002.0, \"markerpath\": [[[0.0, 9.0], [2.3868279, 9.0], [4.676218837063681, 8.051703224294176], [6.3639610306789285, 6.3639610306789285], [8.051703224294176, 4.676218837063681], [9.0, 2.3868279], [9.0, 0.0], [9.0, -2.3868279], [8.051703224294176, -4.676218837063681], [6.3639610306789285, -6.3639610306789285], [4.676218837063681, -8.051703224294176], [2.3868279, -9.0], [0.0, -9.0], [-2.3868279, -9.0], [-4.676218837063681, -8.051703224294176], [-6.3639610306789285, -6.3639610306789285], [-8.051703224294176, -4.676218837063681], [-9.0, -2.3868279], [-9.0, 0.0], [-9.0, 2.3868279], [-8.051703224294176, 4.676218837063681], [-6.3639610306789285, 6.3639610306789285], [-4.676218837063681, 8.051703224294176], [-2.3868279, 9.0], [0.0, 9.0]], [\"M\", \"C\", \"C\", \"C\", \"C\", \"C\", \"C\", \"C\", \"C\", \"Z\"]]}], \"texts\": [{\"text\": \"Family, home, war\", \"position\": [0.817288306451613, 0.21768457198920774], \"coordinates\": \"axes\", \"h_anchor\": \"start\", \"v_baseline\": \"auto\", \"rotation\": -0.0, \"fontsize\": 10.0, \"color\": \"#000000\", \"alpha\": 1, \"zorder\": 1000003.0, \"id\": \"el354442141194848840\"}, {\"text\": \"Police, killed, murders\", \"position\": [0.817288306451613, 0.17169487368162864], \"coordinates\": \"axes\", \"h_anchor\": \"start\", \"v_baseline\": \"auto\", \"rotation\": -0.0, \"fontsize\": 10.0, \"color\": \"#000000\", \"alpha\": 1, \"zorder\": 1000003.0, \"id\": \"el354442141192911048\"}, {\"text\": \"Father, New York, brothers\", \"position\": [0.817288306451613, 0.12570517537404954], \"coordinates\": \"axes\", \"h_anchor\": \"start\", \"v_baseline\": \"auto\", \"rotation\": -0.0, \"fontsize\": 10.0, \"color\": \"#000000\", \"alpha\": 1, \"zorder\": 1000003.0, \"id\": \"el354442141195500744\"}, {\"text\": \"Dance, singing, love\", \"position\": [0.817288306451613, 0.07971547706647045], \"coordinates\": \"axes\", \"h_anchor\": \"start\", \"v_baseline\": \"auto\", \"rotation\": -0.0, \"fontsize\": 10.0, \"color\": \"#000000\", \"alpha\": 1, \"zorder\": 1000003.0, \"id\": \"el354442141199357832\"}, {\"text\": \"Killed, soldiers, captain\", \"position\": [0.817288306451613, 0.03372577875889135], \"coordinates\": \"axes\", \"h_anchor\": \"start\", \"v_baseline\": \"auto\", \"rotation\": -0.0, \"fontsize\": 10.0, \"color\": \"#000000\", \"alpha\": 1, \"zorder\": 1000003.0, \"id\": \"el354442141211814216\"}], \"collections\": [], \"images\": [], \"sharex\": [], \"sharey\": []}], \"data\": {\"data01\": [[0.24381678674291052, -0.5041387862290508], [-0.28445673314938785, 0.27573355826080437], [-0.19657213727582853, 0.39573854896210925]], \"data02\": [[0.4184044202336738, 0.5850489899951163], [0.6698670628968674, 0.11896605280395367], [-0.20377837648670416, 0.5597732710930737], [0.4020451359180303, 0.49856493148445374], [0.6677334884276219, 0.2695002905230577], [-0.02234991385406897, 0.3387044447457824]], \"data03\": [[0.1842728439475597, -0.011715611328299623], [-0.13227195754649126, 0.5745384801472381], [0.011707339999011584, 0.4624485755347979], [0.6037432800571017, -0.3456991338989089], [0.07164980401234082, 0.13140842985205484], [-0.05321665416838313, 0.12337031922670556], [0.5523203950143739, 0.4906695451776374], [0.4157900555927239, 0.4066680050040376], [0.34339799473545496, 0.24588751780959872], [0.21436568495015884, 0.21833323177235375], [0.31820603526510766, 0.08767290955547546], [0.3442345942883043, -0.13024993477969463], [0.1607366978752424, -0.11945297477856227], [0.4928973738021543, -0.14112529581269717], [-0.0697835765252865, 0.5697755231183568], [-0.5962489128496042, 0.19029081995111047], [-0.6622802065035606, -0.20503714364142692], [0.20869950117396832, 0.06431546201598057], [0.5655872568440865, 0.3427492412662697], [-0.42084558901816005, 0.46273188035729895], [-0.3031164788430419, 0.47587091621770383], [-0.18141401157117412, 0.47664757937416014], [-0.028860474947472948, 0.6542407465232705], [0.12067866743532428, 0.4813363821584589], [0.21979780091087622, 0.48012585338200914], [0.48195453604347716, 0.008013240019345533], [0.4758882198147056, -0.4358383186309247], [0.6688477850887058, -0.08783283749852551], [-0.5521585808438269, 0.028891781654075178], [0.6273622875630892, 0.3594269833423288]], \"data04\": [[-0.2587368350262618, -0.26527516559786957], [0.05822957027256338, 0.256929533865531], [-0.22775176430437058, 0.06867225264698684], [-0.4301218469327288, 0.28528616015883534], [-0.3527560545316662, 0.12706104279951017], [0.3548063612344581, 0.008230388449868098], [-0.4842963450926421, 0.17299124057611814], [-0.02172250207705443, -0.04277898807708071], [0.3500865831297658, -0.33952163222346426], [0.5177811917071925, -0.2536618659106638], [-0.5523024142568739, -0.22470452093169108], [-0.34166783709147913, 0.6344444329502953], [-0.17157923142425296, 0.23225249097460976], [0.5307508765954988, 0.1293499548695287], [0.4335012948307977, 0.14567214405204687], [-0.15353411958657529, -0.3013348801222534], [0.18357552763037874, 0.3029327061666986], [-0.45990623558854987, 0.007717409858540057], [0.6448729810407794, -0.1557495377370637], [0.12564351913288888, 0.4177899987124327], [-0.3416411136605303, 0.036359351999961084], [-0.551459865435424, 0.3351166974656385], [0.2751629686852379, -0.2942902403479915], [0.06214704621807539, 0.6101371440051012], [-0.3243379724030205, 0.3312099814646893], [-0.6012517387271848, -0.0418859194691775], [-0.34156011933518005, -0.06836233054197617], [-0.3394231160832892, -0.1511074564578018], [-0.18645450426356014, 0.150485309679993], [0.1850753249911779, 0.5789634882504009], [-0.4660099693912445, -0.09927639405993571], [-0.5791042079012638, 0.2903462882632784], [-0.5810674876200954, 0.10583683075043433], [-0.20835174801118317, -0.05859486722959816], [-0.19967295689696812, 0.006401158105055958]], \"data05\": [[0.44206412093578173, -0.27869804841256207], [-0.03159215088404366, -0.45663791320402886], [0.058399024554247426, -0.04612821871658942], [-0.43458221470796804, -0.29655933230579506], [-0.2509077886527682, -0.5748301691298103], [0.19843842072642093, -0.3892916828503908], [-0.0822211719046293, -0.5783371225442145], [-0.016415337094761003, -0.6356033887664564], [0.019707608446931178, -0.6360131358153785], [0.08011541418687525, -0.4798779364145004], [-0.1524708594907454, -0.3409184384980287], [-0.020101379300060913, -0.3570984271707861], [-0.22754763513663467, -0.45049222698404334], [0.1287536654528344, -0.6684899512527609], [0.07969434882060063, -0.3889371661029437], [-0.34789814258235424, -0.3258509720117311], [-0.3609008933642027, -0.48196142317941265], [-0.11274056497585859, -0.49926901658843537], [0.18267302179861425, -0.5787625309524596], [0.1563795065783695, -0.21300821701033482], [-0.0876522433589088, -0.20078309954756865], [-0.18334149000822167, -0.5551280766277863], [-0.5674182514385872, -0.35374010333970207], [-0.4533760890831642, -0.4451810757043979], [0.3243862951002719, -0.45653595159186383], [0.33498008050466554, -0.6458620573675335]], \"data06\": [[0.7942468317972351, 0.22841550159430954, 0.18242580328673044, 0.13643610497915135, 0.09044640667157224, 0.04445670836399314]], \"data07\": [[0.7788858486943165, 0.015329899435859717], [0.9910394265232977, 0.015329899435859717], [0.9935995903737841, 0.015329899435859717], [0.9935995903737841, 0.021461859210203577], [0.9935995903737841, 0.24834437086092717], [0.9935995903737841, 0.254476330635271], [0.9910394265232977, 0.254476330635271], [0.7788858486943165, 0.254476330635271], [0.7763256848438301, 0.254476330635271], [0.7763256848438301, 0.24834437086092717], [0.7763256848438301, 0.021461859210203577], [0.7763256848438301, 0.015329899435859717], [0.7788858486943165, 0.015329899435859717]]}, \"id\": \"el354442141791797768\", \"plugins\": [{\"type\": \"reset\"}, {\"type\": \"zoom\", \"button\": true, \"enabled\": false}, {\"type\": \"boxzoom\", \"button\": true, \"enabled\": false}, {\"type\": \"htmltooltip\", \"id\": \"el354442141493482184pts\", \"labels\": [\"The Lord of the Rings: The Return of the King\", \"Rocky\", \"My Fair Lady\"], \"hoffset\": 10, \"voffset\": 10}, {\"type\": \"toptoolbar\"}, {\"type\": \"htmltooltip\", \"id\": \"el354442141194875080pts\", \"labels\": [\"It's a Wonderful Life\", \"The Philadelphia Story\", \"An American in Paris\", \"The King's Speech\", \"A Place in the Sun\", \"Tootsie\"], \"hoffset\": 10, \"voffset\": 10}, {\"type\": \"toptoolbar\"}, {\"type\": \"htmltooltip\", \"id\": \"el354442141199322760pts\", \"labels\": [\"The Godfather\", \"Raging Bull\", \"Citizen Kane\", \"Titanic\", \"The Godfather: Part II\", \"On the Waterfront\", \"The Sound of Music\", \"Amadeus\", \"A Streetcar Named Desire\", \"To Kill a Mockingbird\", \"The Best Years of Our Lives\", \"Ben-Hur\", \"Doctor Zhivago\", \"Braveheart\", \"The Good, the Bad and the Ugly\", \"The Apartment\", \"High Noon\", \"Goodfellas\", \"City Lights\", \"It Happened One Night\", \"Midnight Cowboy\", \"Rain Man\", \"Annie Hall\", \"Out of Africa\", \"Terms of Endearment\", \"Giant\", \"The Grapes of Wrath\", \"Network\", \"Taxi Driver\", \"Yankee Doodle Dandy\"], \"hoffset\": 10, \"voffset\": 10}, {\"type\": \"toptoolbar\"}, {\"type\": \"htmltooltip\", \"id\": \"el354442141493550472pts\", \"labels\": [\"Casablanca\", \"One Flew Over the Cuckoo's Nest\", \"Psycho\", \"Sunset Blvd.\", \"Vertigo\", \"Forrest Gump\", \"West Side Story\", \"E.T. the Extra-Terrestrial\", \"2001: A Space Odyssey\", \"The Silence of the Lambs\", \"Chinatown\", \"Singin' in the Rain\", \"Some Like It Hot\", \"12 Angry Men\", \"Gandhi\", \"Unforgiven\", \"The Exorcist\", \"The French Connection\", \"Mr. Smith Goes to Washington\", \"Good Will Hunting\", \"Fargo\", \"Shane\", \"Close Encounters of the Third Kind\", \"Nashville\", \"The Graduate\", \"American Graffiti\", \"Pulp Fiction\", \"The Maltese Falcon\", \"A Clockwork Orange\", \"Wuthering Heights\", \"Double Indemnity\", \"Rebel Without a Cause\", \"Rear Window\", \"The Third Man\", \"North by Northwest\"], \"hoffset\": 10, \"voffset\": 10}, {\"type\": \"toptoolbar\"}, {\"type\": \"htmltooltip\", \"id\": \"el354442141207811336pts\", \"labels\": [\"The Shawshank Redemption\", \"Schindler's List\", \"Gone with the Wind\", \"The Wizard of Oz\", \"Lawrence of Arabia\", \"Star Wars\", \"The Bridge on the River Kwai\", \"Dr. Strangelove or: How I Learned to Stop Worrying and Love the Bomb\", \"Apocalypse Now\", \"Gladiator\", \"From Here to Eternity\", \"Saving Private Ryan\", \"Raiders of the Lost Ark\", \"Patton\", \"Jaws\", \"Butch Cassidy and the Sundance Kid\", \"The Treasure of the Sierra Madre\", \"Platoon\", \"Dances with Wolves\", \"The Pianist\", \"The Deer Hunter\", \"All Quiet on the Western Front\", \"The Green Mile\", \"The African Queen\", \"Stagecoach\", \"Mutiny on the Bounty\"], \"hoffset\": 10, \"voffset\": 10}, {\"type\": \"toptoolbar\"}]});\n",
       "   }(mpld3);\n",
       "}else if(typeof define === \"function\" && define.amd){\n",
       "   // require.js is available: use it to load d3/mpld3\n",
       "   require.config({paths: {d3: \"https://mpld3.github.io/js/d3.v3.min\"}});\n",
       "   require([\"d3\"], function(d3){\n",
       "      window.d3 = d3;\n",
       "      mpld3_load_lib(\"https://mpld3.github.io/js/mpld3.v0.3.js\", function(){\n",
       "         \n",
       "    mpld3.register_plugin(\"htmltooltip\", HtmlTooltipPlugin);\n",
       "    HtmlTooltipPlugin.prototype = Object.create(mpld3.Plugin.prototype);\n",
       "    HtmlTooltipPlugin.prototype.constructor = HtmlTooltipPlugin;\n",
       "    HtmlTooltipPlugin.prototype.requiredProps = [\"id\"];\n",
       "    HtmlTooltipPlugin.prototype.defaultProps = {labels:null,\n",
       "                                                hoffset:0,\n",
       "                                                voffset:10};\n",
       "    function HtmlTooltipPlugin(fig, props){\n",
       "        mpld3.Plugin.call(this, fig, props);\n",
       "    };\n",
       "\n",
       "    HtmlTooltipPlugin.prototype.draw = function(){\n",
       "       var obj = mpld3.get_element(this.props.id);\n",
       "       var labels = this.props.labels;\n",
       "       var tooltip = d3.select(\"body\").append(\"div\")\n",
       "                    .attr(\"class\", \"mpld3-tooltip\")\n",
       "                    .style(\"position\", \"absolute\")\n",
       "                    .style(\"z-index\", \"10\")\n",
       "                    .style(\"visibility\", \"hidden\");\n",
       "\n",
       "       obj.elements()\n",
       "           .on(\"mouseover\", function(d, i){\n",
       "                              tooltip.html(labels[i])\n",
       "                                     .style(\"visibility\", \"visible\");})\n",
       "           .on(\"mousemove\", function(d, i){\n",
       "                  tooltip\n",
       "                    .style(\"top\", d3.event.pageY + this.props.voffset + \"px\")\n",
       "                    .style(\"left\",d3.event.pageX + this.props.hoffset + \"px\");\n",
       "                 }.bind(this))\n",
       "           .on(\"mouseout\",  function(d, i){\n",
       "                           tooltip.style(\"visibility\", \"hidden\");});\n",
       "    };\n",
       "    \n",
       "    mpld3.register_plugin(\"toptoolbar\", TopToolbar);\n",
       "    TopToolbar.prototype = Object.create(mpld3.Plugin.prototype);\n",
       "    TopToolbar.prototype.constructor = TopToolbar;\n",
       "    function TopToolbar(fig, props){\n",
       "        mpld3.Plugin.call(this, fig, props);\n",
       "    };\n",
       "\n",
       "    TopToolbar.prototype.draw = function(){\n",
       "      // the toolbar svg doesn't exist\n",
       "      // yet, so first draw it\n",
       "      this.fig.toolbar.draw();\n",
       "\n",
       "      // then change the y position to be\n",
       "      // at the top of the figure\n",
       "      this.fig.toolbar.toolbar.attr(\"x\", 150);\n",
       "      this.fig.toolbar.toolbar.attr(\"y\", 400);\n",
       "\n",
       "      // then remove the draw function,\n",
       "      // so that it is not called again\n",
       "      this.fig.toolbar.draw = function() {}\n",
       "    }\n",
       "    \n",
       "    mpld3.register_plugin(\"htmltooltip\", HtmlTooltipPlugin);\n",
       "    HtmlTooltipPlugin.prototype = Object.create(mpld3.Plugin.prototype);\n",
       "    HtmlTooltipPlugin.prototype.constructor = HtmlTooltipPlugin;\n",
       "    HtmlTooltipPlugin.prototype.requiredProps = [\"id\"];\n",
       "    HtmlTooltipPlugin.prototype.defaultProps = {labels:null,\n",
       "                                                hoffset:0,\n",
       "                                                voffset:10};\n",
       "    function HtmlTooltipPlugin(fig, props){\n",
       "        mpld3.Plugin.call(this, fig, props);\n",
       "    };\n",
       "\n",
       "    HtmlTooltipPlugin.prototype.draw = function(){\n",
       "       var obj = mpld3.get_element(this.props.id);\n",
       "       var labels = this.props.labels;\n",
       "       var tooltip = d3.select(\"body\").append(\"div\")\n",
       "                    .attr(\"class\", \"mpld3-tooltip\")\n",
       "                    .style(\"position\", \"absolute\")\n",
       "                    .style(\"z-index\", \"10\")\n",
       "                    .style(\"visibility\", \"hidden\");\n",
       "\n",
       "       obj.elements()\n",
       "           .on(\"mouseover\", function(d, i){\n",
       "                              tooltip.html(labels[i])\n",
       "                                     .style(\"visibility\", \"visible\");})\n",
       "           .on(\"mousemove\", function(d, i){\n",
       "                  tooltip\n",
       "                    .style(\"top\", d3.event.pageY + this.props.voffset + \"px\")\n",
       "                    .style(\"left\",d3.event.pageX + this.props.hoffset + \"px\");\n",
       "                 }.bind(this))\n",
       "           .on(\"mouseout\",  function(d, i){\n",
       "                           tooltip.style(\"visibility\", \"hidden\");});\n",
       "    };\n",
       "    \n",
       "    mpld3.register_plugin(\"toptoolbar\", TopToolbar);\n",
       "    TopToolbar.prototype = Object.create(mpld3.Plugin.prototype);\n",
       "    TopToolbar.prototype.constructor = TopToolbar;\n",
       "    function TopToolbar(fig, props){\n",
       "        mpld3.Plugin.call(this, fig, props);\n",
       "    };\n",
       "\n",
       "    TopToolbar.prototype.draw = function(){\n",
       "      // the toolbar svg doesn't exist\n",
       "      // yet, so first draw it\n",
       "      this.fig.toolbar.draw();\n",
       "\n",
       "      // then change the y position to be\n",
       "      // at the top of the figure\n",
       "      this.fig.toolbar.toolbar.attr(\"x\", 150);\n",
       "      this.fig.toolbar.toolbar.attr(\"y\", 400);\n",
       "\n",
       "      // then remove the draw function,\n",
       "      // so that it is not called again\n",
       "      this.fig.toolbar.draw = function() {}\n",
       "    }\n",
       "    \n",
       "    mpld3.register_plugin(\"htmltooltip\", HtmlTooltipPlugin);\n",
       "    HtmlTooltipPlugin.prototype = Object.create(mpld3.Plugin.prototype);\n",
       "    HtmlTooltipPlugin.prototype.constructor = HtmlTooltipPlugin;\n",
       "    HtmlTooltipPlugin.prototype.requiredProps = [\"id\"];\n",
       "    HtmlTooltipPlugin.prototype.defaultProps = {labels:null,\n",
       "                                                hoffset:0,\n",
       "                                                voffset:10};\n",
       "    function HtmlTooltipPlugin(fig, props){\n",
       "        mpld3.Plugin.call(this, fig, props);\n",
       "    };\n",
       "\n",
       "    HtmlTooltipPlugin.prototype.draw = function(){\n",
       "       var obj = mpld3.get_element(this.props.id);\n",
       "       var labels = this.props.labels;\n",
       "       var tooltip = d3.select(\"body\").append(\"div\")\n",
       "                    .attr(\"class\", \"mpld3-tooltip\")\n",
       "                    .style(\"position\", \"absolute\")\n",
       "                    .style(\"z-index\", \"10\")\n",
       "                    .style(\"visibility\", \"hidden\");\n",
       "\n",
       "       obj.elements()\n",
       "           .on(\"mouseover\", function(d, i){\n",
       "                              tooltip.html(labels[i])\n",
       "                                     .style(\"visibility\", \"visible\");})\n",
       "           .on(\"mousemove\", function(d, i){\n",
       "                  tooltip\n",
       "                    .style(\"top\", d3.event.pageY + this.props.voffset + \"px\")\n",
       "                    .style(\"left\",d3.event.pageX + this.props.hoffset + \"px\");\n",
       "                 }.bind(this))\n",
       "           .on(\"mouseout\",  function(d, i){\n",
       "                           tooltip.style(\"visibility\", \"hidden\");});\n",
       "    };\n",
       "    \n",
       "    mpld3.register_plugin(\"toptoolbar\", TopToolbar);\n",
       "    TopToolbar.prototype = Object.create(mpld3.Plugin.prototype);\n",
       "    TopToolbar.prototype.constructor = TopToolbar;\n",
       "    function TopToolbar(fig, props){\n",
       "        mpld3.Plugin.call(this, fig, props);\n",
       "    };\n",
       "\n",
       "    TopToolbar.prototype.draw = function(){\n",
       "      // the toolbar svg doesn't exist\n",
       "      // yet, so first draw it\n",
       "      this.fig.toolbar.draw();\n",
       "\n",
       "      // then change the y position to be\n",
       "      // at the top of the figure\n",
       "      this.fig.toolbar.toolbar.attr(\"x\", 150);\n",
       "      this.fig.toolbar.toolbar.attr(\"y\", 400);\n",
       "\n",
       "      // then remove the draw function,\n",
       "      // so that it is not called again\n",
       "      this.fig.toolbar.draw = function() {}\n",
       "    }\n",
       "    \n",
       "    mpld3.register_plugin(\"htmltooltip\", HtmlTooltipPlugin);\n",
       "    HtmlTooltipPlugin.prototype = Object.create(mpld3.Plugin.prototype);\n",
       "    HtmlTooltipPlugin.prototype.constructor = HtmlTooltipPlugin;\n",
       "    HtmlTooltipPlugin.prototype.requiredProps = [\"id\"];\n",
       "    HtmlTooltipPlugin.prototype.defaultProps = {labels:null,\n",
       "                                                hoffset:0,\n",
       "                                                voffset:10};\n",
       "    function HtmlTooltipPlugin(fig, props){\n",
       "        mpld3.Plugin.call(this, fig, props);\n",
       "    };\n",
       "\n",
       "    HtmlTooltipPlugin.prototype.draw = function(){\n",
       "       var obj = mpld3.get_element(this.props.id);\n",
       "       var labels = this.props.labels;\n",
       "       var tooltip = d3.select(\"body\").append(\"div\")\n",
       "                    .attr(\"class\", \"mpld3-tooltip\")\n",
       "                    .style(\"position\", \"absolute\")\n",
       "                    .style(\"z-index\", \"10\")\n",
       "                    .style(\"visibility\", \"hidden\");\n",
       "\n",
       "       obj.elements()\n",
       "           .on(\"mouseover\", function(d, i){\n",
       "                              tooltip.html(labels[i])\n",
       "                                     .style(\"visibility\", \"visible\");})\n",
       "           .on(\"mousemove\", function(d, i){\n",
       "                  tooltip\n",
       "                    .style(\"top\", d3.event.pageY + this.props.voffset + \"px\")\n",
       "                    .style(\"left\",d3.event.pageX + this.props.hoffset + \"px\");\n",
       "                 }.bind(this))\n",
       "           .on(\"mouseout\",  function(d, i){\n",
       "                           tooltip.style(\"visibility\", \"hidden\");});\n",
       "    };\n",
       "    \n",
       "    mpld3.register_plugin(\"toptoolbar\", TopToolbar);\n",
       "    TopToolbar.prototype = Object.create(mpld3.Plugin.prototype);\n",
       "    TopToolbar.prototype.constructor = TopToolbar;\n",
       "    function TopToolbar(fig, props){\n",
       "        mpld3.Plugin.call(this, fig, props);\n",
       "    };\n",
       "\n",
       "    TopToolbar.prototype.draw = function(){\n",
       "      // the toolbar svg doesn't exist\n",
       "      // yet, so first draw it\n",
       "      this.fig.toolbar.draw();\n",
       "\n",
       "      // then change the y position to be\n",
       "      // at the top of the figure\n",
       "      this.fig.toolbar.toolbar.attr(\"x\", 150);\n",
       "      this.fig.toolbar.toolbar.attr(\"y\", 400);\n",
       "\n",
       "      // then remove the draw function,\n",
       "      // so that it is not called again\n",
       "      this.fig.toolbar.draw = function() {}\n",
       "    }\n",
       "    \n",
       "    mpld3.register_plugin(\"htmltooltip\", HtmlTooltipPlugin);\n",
       "    HtmlTooltipPlugin.prototype = Object.create(mpld3.Plugin.prototype);\n",
       "    HtmlTooltipPlugin.prototype.constructor = HtmlTooltipPlugin;\n",
       "    HtmlTooltipPlugin.prototype.requiredProps = [\"id\"];\n",
       "    HtmlTooltipPlugin.prototype.defaultProps = {labels:null,\n",
       "                                                hoffset:0,\n",
       "                                                voffset:10};\n",
       "    function HtmlTooltipPlugin(fig, props){\n",
       "        mpld3.Plugin.call(this, fig, props);\n",
       "    };\n",
       "\n",
       "    HtmlTooltipPlugin.prototype.draw = function(){\n",
       "       var obj = mpld3.get_element(this.props.id);\n",
       "       var labels = this.props.labels;\n",
       "       var tooltip = d3.select(\"body\").append(\"div\")\n",
       "                    .attr(\"class\", \"mpld3-tooltip\")\n",
       "                    .style(\"position\", \"absolute\")\n",
       "                    .style(\"z-index\", \"10\")\n",
       "                    .style(\"visibility\", \"hidden\");\n",
       "\n",
       "       obj.elements()\n",
       "           .on(\"mouseover\", function(d, i){\n",
       "                              tooltip.html(labels[i])\n",
       "                                     .style(\"visibility\", \"visible\");})\n",
       "           .on(\"mousemove\", function(d, i){\n",
       "                  tooltip\n",
       "                    .style(\"top\", d3.event.pageY + this.props.voffset + \"px\")\n",
       "                    .style(\"left\",d3.event.pageX + this.props.hoffset + \"px\");\n",
       "                 }.bind(this))\n",
       "           .on(\"mouseout\",  function(d, i){\n",
       "                           tooltip.style(\"visibility\", \"hidden\");});\n",
       "    };\n",
       "    \n",
       "    mpld3.register_plugin(\"toptoolbar\", TopToolbar);\n",
       "    TopToolbar.prototype = Object.create(mpld3.Plugin.prototype);\n",
       "    TopToolbar.prototype.constructor = TopToolbar;\n",
       "    function TopToolbar(fig, props){\n",
       "        mpld3.Plugin.call(this, fig, props);\n",
       "    };\n",
       "\n",
       "    TopToolbar.prototype.draw = function(){\n",
       "      // the toolbar svg doesn't exist\n",
       "      // yet, so first draw it\n",
       "      this.fig.toolbar.draw();\n",
       "\n",
       "      // then change the y position to be\n",
       "      // at the top of the figure\n",
       "      this.fig.toolbar.toolbar.attr(\"x\", 150);\n",
       "      this.fig.toolbar.toolbar.attr(\"y\", 400);\n",
       "\n",
       "      // then remove the draw function,\n",
       "      // so that it is not called again\n",
       "      this.fig.toolbar.draw = function() {}\n",
       "    }\n",
       "    \n",
       "         mpld3.draw_figure(\"fig_el3544421417917977689458560609\", {\"width\": 1008.0, \"height\": 432.0, \"axes\": [{\"bbox\": [0.125, 0.125, 0.775, 0.755], \"xlim\": [-0.7022446245855734, 0.7098314809788802], \"ylim\": [-0.7081718721860418, 0.6939226674565514], \"xdomain\": [-0.7022446245855734, 0.7098314809788802], \"ydomain\": [-0.7081718721860418, 0.6939226674565514], \"xscale\": \"linear\", \"yscale\": \"linear\", \"axes\": [{\"position\": \"bottom\", \"nticks\": 0, \"tickvalues\": [], \"tickformat\": \"\", \"scale\": \"linear\", \"fontsize\": null, \"grid\": {\"gridOn\": false}, \"visible\": false}, {\"position\": \"left\", \"nticks\": 0, \"tickvalues\": [], \"tickformat\": \"\", \"scale\": \"linear\", \"fontsize\": null, \"grid\": {\"gridOn\": false}, \"visible\": false}], \"axesbg\": \"#FFFFFF\", \"axesbgalpha\": null, \"zoomable\": true, \"id\": \"el354442141519640584\", \"lines\": [], \"paths\": [{\"data\": \"data07\", \"xindex\": 0, \"yindex\": 1, \"coordinates\": \"axes\", \"pathcodes\": [\"M\", \"L\", \"S\", \"L\", \"S\", \"L\", \"S\", \"L\", \"S\", \"Z\"], \"id\": \"el354442141194877128\", \"dasharray\": \"none\", \"alpha\": 0.8, \"facecolor\": \"#FFFFFF\", \"edgecolor\": \"#CCCCCC\", \"edgewidth\": 1.0, \"zorder\": 1000000.0}], \"markers\": [{\"data\": \"data01\", \"xindex\": 0, \"yindex\": 1, \"coordinates\": \"data\", \"id\": \"el354442141493482184pts\", \"facecolor\": \"#1B9E77\", \"edgecolor\": \"none\", \"edgewidth\": 1.0, \"alpha\": 1, \"zorder\": 2, \"markerpath\": [[[0.0, 9.0], [2.3868279, 9.0], [4.676218837063681, 8.051703224294176], [6.3639610306789285, 6.3639610306789285], [8.051703224294176, 4.676218837063681], [9.0, 2.3868279], [9.0, 0.0], [9.0, -2.3868279], [8.051703224294176, -4.676218837063681], [6.3639610306789285, -6.3639610306789285], [4.676218837063681, -8.051703224294176], [2.3868279, -9.0], [0.0, -9.0], [-2.3868279, -9.0], [-4.676218837063681, -8.051703224294176], [-6.3639610306789285, -6.3639610306789285], [-8.051703224294176, -4.676218837063681], [-9.0, -2.3868279], [-9.0, 0.0], [-9.0, 2.3868279], [-8.051703224294176, 4.676218837063681], [-6.3639610306789285, 6.3639610306789285], [-4.676218837063681, 8.051703224294176], [-2.3868279, 9.0], [0.0, 9.0]], [\"M\", \"C\", \"C\", \"C\", \"C\", \"C\", \"C\", \"C\", \"C\", \"Z\"]]}, {\"data\": \"data02\", \"xindex\": 0, \"yindex\": 1, \"coordinates\": \"data\", \"id\": \"el354442141194875080pts\", \"facecolor\": \"#D95F02\", \"edgecolor\": \"none\", \"edgewidth\": 1.0, \"alpha\": 1, \"zorder\": 2, \"markerpath\": [[[0.0, 9.0], [2.3868279, 9.0], [4.676218837063681, 8.051703224294176], [6.3639610306789285, 6.3639610306789285], [8.051703224294176, 4.676218837063681], [9.0, 2.3868279], [9.0, 0.0], [9.0, -2.3868279], [8.051703224294176, -4.676218837063681], [6.3639610306789285, -6.3639610306789285], [4.676218837063681, -8.051703224294176], [2.3868279, -9.0], [0.0, -9.0], [-2.3868279, -9.0], [-4.676218837063681, -8.051703224294176], [-6.3639610306789285, -6.3639610306789285], [-8.051703224294176, -4.676218837063681], [-9.0, -2.3868279], [-9.0, 0.0], [-9.0, 2.3868279], [-8.051703224294176, 4.676218837063681], [-6.3639610306789285, 6.3639610306789285], [-4.676218837063681, 8.051703224294176], [-2.3868279, 9.0], [0.0, 9.0]], [\"M\", \"C\", \"C\", \"C\", \"C\", \"C\", \"C\", \"C\", \"C\", \"Z\"]]}, {\"data\": \"data03\", \"xindex\": 0, \"yindex\": 1, \"coordinates\": \"data\", \"id\": \"el354442141199322760pts\", \"facecolor\": \"#7570B3\", \"edgecolor\": \"none\", \"edgewidth\": 1.0, \"alpha\": 1, \"zorder\": 2, \"markerpath\": [[[0.0, 9.0], [2.3868279, 9.0], [4.676218837063681, 8.051703224294176], [6.3639610306789285, 6.3639610306789285], [8.051703224294176, 4.676218837063681], [9.0, 2.3868279], [9.0, 0.0], [9.0, -2.3868279], [8.051703224294176, -4.676218837063681], [6.3639610306789285, -6.3639610306789285], [4.676218837063681, -8.051703224294176], [2.3868279, -9.0], [0.0, -9.0], [-2.3868279, -9.0], [-4.676218837063681, -8.051703224294176], [-6.3639610306789285, -6.3639610306789285], [-8.051703224294176, -4.676218837063681], [-9.0, -2.3868279], [-9.0, 0.0], [-9.0, 2.3868279], [-8.051703224294176, 4.676218837063681], [-6.3639610306789285, 6.3639610306789285], [-4.676218837063681, 8.051703224294176], [-2.3868279, 9.0], [0.0, 9.0]], [\"M\", \"C\", \"C\", \"C\", \"C\", \"C\", \"C\", \"C\", \"C\", \"Z\"]]}, {\"data\": \"data04\", \"xindex\": 0, \"yindex\": 1, \"coordinates\": \"data\", \"id\": \"el354442141493550472pts\", \"facecolor\": \"#E7298A\", \"edgecolor\": \"none\", \"edgewidth\": 1.0, \"alpha\": 1, \"zorder\": 2, \"markerpath\": [[[0.0, 9.0], [2.3868279, 9.0], [4.676218837063681, 8.051703224294176], [6.3639610306789285, 6.3639610306789285], [8.051703224294176, 4.676218837063681], [9.0, 2.3868279], [9.0, 0.0], [9.0, -2.3868279], [8.051703224294176, -4.676218837063681], [6.3639610306789285, -6.3639610306789285], [4.676218837063681, -8.051703224294176], [2.3868279, -9.0], [0.0, -9.0], [-2.3868279, -9.0], [-4.676218837063681, -8.051703224294176], [-6.3639610306789285, -6.3639610306789285], [-8.051703224294176, -4.676218837063681], [-9.0, -2.3868279], [-9.0, 0.0], [-9.0, 2.3868279], [-8.051703224294176, 4.676218837063681], [-6.3639610306789285, 6.3639610306789285], [-4.676218837063681, 8.051703224294176], [-2.3868279, 9.0], [0.0, 9.0]], [\"M\", \"C\", \"C\", \"C\", \"C\", \"C\", \"C\", \"C\", \"C\", \"Z\"]]}, {\"data\": \"data05\", \"xindex\": 0, \"yindex\": 1, \"coordinates\": \"data\", \"id\": \"el354442141207811336pts\", \"facecolor\": \"#66A61E\", \"edgecolor\": \"none\", \"edgewidth\": 1.0, \"alpha\": 1, \"zorder\": 2, \"markerpath\": [[[0.0, 9.0], [2.3868279, 9.0], [4.676218837063681, 8.051703224294176], [6.3639610306789285, 6.3639610306789285], [8.051703224294176, 4.676218837063681], [9.0, 2.3868279], [9.0, 0.0], [9.0, -2.3868279], [8.051703224294176, -4.676218837063681], [6.3639610306789285, -6.3639610306789285], [4.676218837063681, -8.051703224294176], [2.3868279, -9.0], [0.0, -9.0], [-2.3868279, -9.0], [-4.676218837063681, -8.051703224294176], [-6.3639610306789285, -6.3639610306789285], [-8.051703224294176, -4.676218837063681], [-9.0, -2.3868279], [-9.0, 0.0], [-9.0, 2.3868279], [-8.051703224294176, 4.676218837063681], [-6.3639610306789285, 6.3639610306789285], [-4.676218837063681, 8.051703224294176], [-2.3868279, 9.0], [0.0, 9.0]], [\"M\", \"C\", \"C\", \"C\", \"C\", \"C\", \"C\", \"C\", \"C\", \"Z\"]]}, {\"data\": \"data06\", \"xindex\": 0, \"yindex\": 1, \"coordinates\": \"axes\", \"id\": \"el354442141192909448pts\", \"facecolor\": \"#1B9E77\", \"edgecolor\": \"none\", \"edgewidth\": 1.0, \"alpha\": 1, \"zorder\": 1000002.0, \"markerpath\": [[[0.0, 9.0], [2.3868279, 9.0], [4.676218837063681, 8.051703224294176], [6.3639610306789285, 6.3639610306789285], [8.051703224294176, 4.676218837063681], [9.0, 2.3868279], [9.0, 0.0], [9.0, -2.3868279], [8.051703224294176, -4.676218837063681], [6.3639610306789285, -6.3639610306789285], [4.676218837063681, -8.051703224294176], [2.3868279, -9.0], [0.0, -9.0], [-2.3868279, -9.0], [-4.676218837063681, -8.051703224294176], [-6.3639610306789285, -6.3639610306789285], [-8.051703224294176, -4.676218837063681], [-9.0, -2.3868279], [-9.0, 0.0], [-9.0, 2.3868279], [-8.051703224294176, 4.676218837063681], [-6.3639610306789285, 6.3639610306789285], [-4.676218837063681, 8.051703224294176], [-2.3868279, 9.0], [0.0, 9.0]], [\"M\", \"C\", \"C\", \"C\", \"C\", \"C\", \"C\", \"C\", \"C\", \"Z\"]]}, {\"data\": \"data06\", \"xindex\": 0, \"yindex\": 2, \"coordinates\": \"axes\", \"id\": \"el354442141192909832pts\", \"facecolor\": \"#D95F02\", \"edgecolor\": \"none\", \"edgewidth\": 1.0, \"alpha\": 1, \"zorder\": 1000002.0, \"markerpath\": [[[0.0, 9.0], [2.3868279, 9.0], [4.676218837063681, 8.051703224294176], [6.3639610306789285, 6.3639610306789285], [8.051703224294176, 4.676218837063681], [9.0, 2.3868279], [9.0, 0.0], [9.0, -2.3868279], [8.051703224294176, -4.676218837063681], [6.3639610306789285, -6.3639610306789285], [4.676218837063681, -8.051703224294176], [2.3868279, -9.0], [0.0, -9.0], [-2.3868279, -9.0], [-4.676218837063681, -8.051703224294176], [-6.3639610306789285, -6.3639610306789285], [-8.051703224294176, -4.676218837063681], [-9.0, -2.3868279], [-9.0, 0.0], [-9.0, 2.3868279], [-8.051703224294176, 4.676218837063681], [-6.3639610306789285, 6.3639610306789285], [-4.676218837063681, 8.051703224294176], [-2.3868279, 9.0], [0.0, 9.0]], [\"M\", \"C\", \"C\", \"C\", \"C\", \"C\", \"C\", \"C\", \"C\", \"Z\"]]}, {\"data\": \"data06\", \"xindex\": 0, \"yindex\": 3, \"coordinates\": \"axes\", \"id\": \"el354442141199359624pts\", \"facecolor\": \"#7570B3\", \"edgecolor\": \"none\", \"edgewidth\": 1.0, \"alpha\": 1, \"zorder\": 1000002.0, \"markerpath\": [[[0.0, 9.0], [2.3868279, 9.0], [4.676218837063681, 8.051703224294176], [6.3639610306789285, 6.3639610306789285], [8.051703224294176, 4.676218837063681], [9.0, 2.3868279], [9.0, 0.0], [9.0, -2.3868279], [8.051703224294176, -4.676218837063681], [6.3639610306789285, -6.3639610306789285], [4.676218837063681, -8.051703224294176], [2.3868279, -9.0], [0.0, -9.0], [-2.3868279, -9.0], [-4.676218837063681, -8.051703224294176], [-6.3639610306789285, -6.3639610306789285], [-8.051703224294176, -4.676218837063681], [-9.0, -2.3868279], [-9.0, 0.0], [-9.0, 2.3868279], [-8.051703224294176, 4.676218837063681], [-6.3639610306789285, 6.3639610306789285], [-4.676218837063681, 8.051703224294176], [-2.3868279, 9.0], [0.0, 9.0]], [\"M\", \"C\", \"C\", \"C\", \"C\", \"C\", \"C\", \"C\", \"C\", \"Z\"]]}, {\"data\": \"data06\", \"xindex\": 0, \"yindex\": 4, \"coordinates\": \"axes\", \"id\": \"el354442141194758088pts\", \"facecolor\": \"#E7298A\", \"edgecolor\": \"none\", \"edgewidth\": 1.0, \"alpha\": 1, \"zorder\": 1000002.0, \"markerpath\": [[[0.0, 9.0], [2.3868279, 9.0], [4.676218837063681, 8.051703224294176], [6.3639610306789285, 6.3639610306789285], [8.051703224294176, 4.676218837063681], [9.0, 2.3868279], [9.0, 0.0], [9.0, -2.3868279], [8.051703224294176, -4.676218837063681], [6.3639610306789285, -6.3639610306789285], [4.676218837063681, -8.051703224294176], [2.3868279, -9.0], [0.0, -9.0], [-2.3868279, -9.0], [-4.676218837063681, -8.051703224294176], [-6.3639610306789285, -6.3639610306789285], [-8.051703224294176, -4.676218837063681], [-9.0, -2.3868279], [-9.0, 0.0], [-9.0, 2.3868279], [-8.051703224294176, 4.676218837063681], [-6.3639610306789285, 6.3639610306789285], [-4.676218837063681, 8.051703224294176], [-2.3868279, 9.0], [0.0, 9.0]], [\"M\", \"C\", \"C\", \"C\", \"C\", \"C\", \"C\", \"C\", \"C\", \"Z\"]]}, {\"data\": \"data06\", \"xindex\": 0, \"yindex\": 5, \"coordinates\": \"axes\", \"id\": \"el354442141203109128pts\", \"facecolor\": \"#66A61E\", \"edgecolor\": \"none\", \"edgewidth\": 1.0, \"alpha\": 1, \"zorder\": 1000002.0, \"markerpath\": [[[0.0, 9.0], [2.3868279, 9.0], [4.676218837063681, 8.051703224294176], [6.3639610306789285, 6.3639610306789285], [8.051703224294176, 4.676218837063681], [9.0, 2.3868279], [9.0, 0.0], [9.0, -2.3868279], [8.051703224294176, -4.676218837063681], [6.3639610306789285, -6.3639610306789285], [4.676218837063681, -8.051703224294176], [2.3868279, -9.0], [0.0, -9.0], [-2.3868279, -9.0], [-4.676218837063681, -8.051703224294176], [-6.3639610306789285, -6.3639610306789285], [-8.051703224294176, -4.676218837063681], [-9.0, -2.3868279], [-9.0, 0.0], [-9.0, 2.3868279], [-8.051703224294176, 4.676218837063681], [-6.3639610306789285, 6.3639610306789285], [-4.676218837063681, 8.051703224294176], [-2.3868279, 9.0], [0.0, 9.0]], [\"M\", \"C\", \"C\", \"C\", \"C\", \"C\", \"C\", \"C\", \"C\", \"Z\"]]}], \"texts\": [{\"text\": \"Family, home, war\", \"position\": [0.817288306451613, 0.21768457198920774], \"coordinates\": \"axes\", \"h_anchor\": \"start\", \"v_baseline\": \"auto\", \"rotation\": -0.0, \"fontsize\": 10.0, \"color\": \"#000000\", \"alpha\": 1, \"zorder\": 1000003.0, \"id\": \"el354442141194848840\"}, {\"text\": \"Police, killed, murders\", \"position\": [0.817288306451613, 0.17169487368162864], \"coordinates\": \"axes\", \"h_anchor\": \"start\", \"v_baseline\": \"auto\", \"rotation\": -0.0, \"fontsize\": 10.0, \"color\": \"#000000\", \"alpha\": 1, \"zorder\": 1000003.0, \"id\": \"el354442141192911048\"}, {\"text\": \"Father, New York, brothers\", \"position\": [0.817288306451613, 0.12570517537404954], \"coordinates\": \"axes\", \"h_anchor\": \"start\", \"v_baseline\": \"auto\", \"rotation\": -0.0, \"fontsize\": 10.0, \"color\": \"#000000\", \"alpha\": 1, \"zorder\": 1000003.0, \"id\": \"el354442141195500744\"}, {\"text\": \"Dance, singing, love\", \"position\": [0.817288306451613, 0.07971547706647045], \"coordinates\": \"axes\", \"h_anchor\": \"start\", \"v_baseline\": \"auto\", \"rotation\": -0.0, \"fontsize\": 10.0, \"color\": \"#000000\", \"alpha\": 1, \"zorder\": 1000003.0, \"id\": \"el354442141199357832\"}, {\"text\": \"Killed, soldiers, captain\", \"position\": [0.817288306451613, 0.03372577875889135], \"coordinates\": \"axes\", \"h_anchor\": \"start\", \"v_baseline\": \"auto\", \"rotation\": -0.0, \"fontsize\": 10.0, \"color\": \"#000000\", \"alpha\": 1, \"zorder\": 1000003.0, \"id\": \"el354442141211814216\"}], \"collections\": [], \"images\": [], \"sharex\": [], \"sharey\": []}], \"data\": {\"data01\": [[0.24381678674291052, -0.5041387862290508], [-0.28445673314938785, 0.27573355826080437], [-0.19657213727582853, 0.39573854896210925]], \"data02\": [[0.4184044202336738, 0.5850489899951163], [0.6698670628968674, 0.11896605280395367], [-0.20377837648670416, 0.5597732710930737], [0.4020451359180303, 0.49856493148445374], [0.6677334884276219, 0.2695002905230577], [-0.02234991385406897, 0.3387044447457824]], \"data03\": [[0.1842728439475597, -0.011715611328299623], [-0.13227195754649126, 0.5745384801472381], [0.011707339999011584, 0.4624485755347979], [0.6037432800571017, -0.3456991338989089], [0.07164980401234082, 0.13140842985205484], [-0.05321665416838313, 0.12337031922670556], [0.5523203950143739, 0.4906695451776374], [0.4157900555927239, 0.4066680050040376], [0.34339799473545496, 0.24588751780959872], [0.21436568495015884, 0.21833323177235375], [0.31820603526510766, 0.08767290955547546], [0.3442345942883043, -0.13024993477969463], [0.1607366978752424, -0.11945297477856227], [0.4928973738021543, -0.14112529581269717], [-0.0697835765252865, 0.5697755231183568], [-0.5962489128496042, 0.19029081995111047], [-0.6622802065035606, -0.20503714364142692], [0.20869950117396832, 0.06431546201598057], [0.5655872568440865, 0.3427492412662697], [-0.42084558901816005, 0.46273188035729895], [-0.3031164788430419, 0.47587091621770383], [-0.18141401157117412, 0.47664757937416014], [-0.028860474947472948, 0.6542407465232705], [0.12067866743532428, 0.4813363821584589], [0.21979780091087622, 0.48012585338200914], [0.48195453604347716, 0.008013240019345533], [0.4758882198147056, -0.4358383186309247], [0.6688477850887058, -0.08783283749852551], [-0.5521585808438269, 0.028891781654075178], [0.6273622875630892, 0.3594269833423288]], \"data04\": [[-0.2587368350262618, -0.26527516559786957], [0.05822957027256338, 0.256929533865531], [-0.22775176430437058, 0.06867225264698684], [-0.4301218469327288, 0.28528616015883534], [-0.3527560545316662, 0.12706104279951017], [0.3548063612344581, 0.008230388449868098], [-0.4842963450926421, 0.17299124057611814], [-0.02172250207705443, -0.04277898807708071], [0.3500865831297658, -0.33952163222346426], [0.5177811917071925, -0.2536618659106638], [-0.5523024142568739, -0.22470452093169108], [-0.34166783709147913, 0.6344444329502953], [-0.17157923142425296, 0.23225249097460976], [0.5307508765954988, 0.1293499548695287], [0.4335012948307977, 0.14567214405204687], [-0.15353411958657529, -0.3013348801222534], [0.18357552763037874, 0.3029327061666986], [-0.45990623558854987, 0.007717409858540057], [0.6448729810407794, -0.1557495377370637], [0.12564351913288888, 0.4177899987124327], [-0.3416411136605303, 0.036359351999961084], [-0.551459865435424, 0.3351166974656385], [0.2751629686852379, -0.2942902403479915], [0.06214704621807539, 0.6101371440051012], [-0.3243379724030205, 0.3312099814646893], [-0.6012517387271848, -0.0418859194691775], [-0.34156011933518005, -0.06836233054197617], [-0.3394231160832892, -0.1511074564578018], [-0.18645450426356014, 0.150485309679993], [0.1850753249911779, 0.5789634882504009], [-0.4660099693912445, -0.09927639405993571], [-0.5791042079012638, 0.2903462882632784], [-0.5810674876200954, 0.10583683075043433], [-0.20835174801118317, -0.05859486722959816], [-0.19967295689696812, 0.006401158105055958]], \"data05\": [[0.44206412093578173, -0.27869804841256207], [-0.03159215088404366, -0.45663791320402886], [0.058399024554247426, -0.04612821871658942], [-0.43458221470796804, -0.29655933230579506], [-0.2509077886527682, -0.5748301691298103], [0.19843842072642093, -0.3892916828503908], [-0.0822211719046293, -0.5783371225442145], [-0.016415337094761003, -0.6356033887664564], [0.019707608446931178, -0.6360131358153785], [0.08011541418687525, -0.4798779364145004], [-0.1524708594907454, -0.3409184384980287], [-0.020101379300060913, -0.3570984271707861], [-0.22754763513663467, -0.45049222698404334], [0.1287536654528344, -0.6684899512527609], [0.07969434882060063, -0.3889371661029437], [-0.34789814258235424, -0.3258509720117311], [-0.3609008933642027, -0.48196142317941265], [-0.11274056497585859, -0.49926901658843537], [0.18267302179861425, -0.5787625309524596], [0.1563795065783695, -0.21300821701033482], [-0.0876522433589088, -0.20078309954756865], [-0.18334149000822167, -0.5551280766277863], [-0.5674182514385872, -0.35374010333970207], [-0.4533760890831642, -0.4451810757043979], [0.3243862951002719, -0.45653595159186383], [0.33498008050466554, -0.6458620573675335]], \"data06\": [[0.7942468317972351, 0.22841550159430954, 0.18242580328673044, 0.13643610497915135, 0.09044640667157224, 0.04445670836399314]], \"data07\": [[0.7788858486943165, 0.015329899435859717], [0.9910394265232977, 0.015329899435859717], [0.9935995903737841, 0.015329899435859717], [0.9935995903737841, 0.021461859210203577], [0.9935995903737841, 0.24834437086092717], [0.9935995903737841, 0.254476330635271], [0.9910394265232977, 0.254476330635271], [0.7788858486943165, 0.254476330635271], [0.7763256848438301, 0.254476330635271], [0.7763256848438301, 0.24834437086092717], [0.7763256848438301, 0.021461859210203577], [0.7763256848438301, 0.015329899435859717], [0.7788858486943165, 0.015329899435859717]]}, \"id\": \"el354442141791797768\", \"plugins\": [{\"type\": \"reset\"}, {\"type\": \"zoom\", \"button\": true, \"enabled\": false}, {\"type\": \"boxzoom\", \"button\": true, \"enabled\": false}, {\"type\": \"htmltooltip\", \"id\": \"el354442141493482184pts\", \"labels\": [\"The Lord of the Rings: The Return of the King\", \"Rocky\", \"My Fair Lady\"], \"hoffset\": 10, \"voffset\": 10}, {\"type\": \"toptoolbar\"}, {\"type\": \"htmltooltip\", \"id\": \"el354442141194875080pts\", \"labels\": [\"It's a Wonderful Life\", \"The Philadelphia Story\", \"An American in Paris\", \"The King's Speech\", \"A Place in the Sun\", \"Tootsie\"], \"hoffset\": 10, \"voffset\": 10}, {\"type\": \"toptoolbar\"}, {\"type\": \"htmltooltip\", \"id\": \"el354442141199322760pts\", \"labels\": [\"The Godfather\", \"Raging Bull\", \"Citizen Kane\", \"Titanic\", \"The Godfather: Part II\", \"On the Waterfront\", \"The Sound of Music\", \"Amadeus\", \"A Streetcar Named Desire\", \"To Kill a Mockingbird\", \"The Best Years of Our Lives\", \"Ben-Hur\", \"Doctor Zhivago\", \"Braveheart\", \"The Good, the Bad and the Ugly\", \"The Apartment\", \"High Noon\", \"Goodfellas\", \"City Lights\", \"It Happened One Night\", \"Midnight Cowboy\", \"Rain Man\", \"Annie Hall\", \"Out of Africa\", \"Terms of Endearment\", \"Giant\", \"The Grapes of Wrath\", \"Network\", \"Taxi Driver\", \"Yankee Doodle Dandy\"], \"hoffset\": 10, \"voffset\": 10}, {\"type\": \"toptoolbar\"}, {\"type\": \"htmltooltip\", \"id\": \"el354442141493550472pts\", \"labels\": [\"Casablanca\", \"One Flew Over the Cuckoo's Nest\", \"Psycho\", \"Sunset Blvd.\", \"Vertigo\", \"Forrest Gump\", \"West Side Story\", \"E.T. the Extra-Terrestrial\", \"2001: A Space Odyssey\", \"The Silence of the Lambs\", \"Chinatown\", \"Singin' in the Rain\", \"Some Like It Hot\", \"12 Angry Men\", \"Gandhi\", \"Unforgiven\", \"The Exorcist\", \"The French Connection\", \"Mr. Smith Goes to Washington\", \"Good Will Hunting\", \"Fargo\", \"Shane\", \"Close Encounters of the Third Kind\", \"Nashville\", \"The Graduate\", \"American Graffiti\", \"Pulp Fiction\", \"The Maltese Falcon\", \"A Clockwork Orange\", \"Wuthering Heights\", \"Double Indemnity\", \"Rebel Without a Cause\", \"Rear Window\", \"The Third Man\", \"North by Northwest\"], \"hoffset\": 10, \"voffset\": 10}, {\"type\": \"toptoolbar\"}, {\"type\": \"htmltooltip\", \"id\": \"el354442141207811336pts\", \"labels\": [\"The Shawshank Redemption\", \"Schindler's List\", \"Gone with the Wind\", \"The Wizard of Oz\", \"Lawrence of Arabia\", \"Star Wars\", \"The Bridge on the River Kwai\", \"Dr. Strangelove or: How I Learned to Stop Worrying and Love the Bomb\", \"Apocalypse Now\", \"Gladiator\", \"From Here to Eternity\", \"Saving Private Ryan\", \"Raiders of the Lost Ark\", \"Patton\", \"Jaws\", \"Butch Cassidy and the Sundance Kid\", \"The Treasure of the Sierra Madre\", \"Platoon\", \"Dances with Wolves\", \"The Pianist\", \"The Deer Hunter\", \"All Quiet on the Western Front\", \"The Green Mile\", \"The African Queen\", \"Stagecoach\", \"Mutiny on the Bounty\"], \"hoffset\": 10, \"voffset\": 10}, {\"type\": \"toptoolbar\"}]});\n",
       "      });\n",
       "    });\n",
       "}else{\n",
       "    // require.js not available: dynamically load d3 & mpld3\n",
       "    mpld3_load_lib(\"https://mpld3.github.io/js/d3.v3.min.js\", function(){\n",
       "         mpld3_load_lib(\"https://mpld3.github.io/js/mpld3.v0.3.js\", function(){\n",
       "                 \n",
       "    mpld3.register_plugin(\"htmltooltip\", HtmlTooltipPlugin);\n",
       "    HtmlTooltipPlugin.prototype = Object.create(mpld3.Plugin.prototype);\n",
       "    HtmlTooltipPlugin.prototype.constructor = HtmlTooltipPlugin;\n",
       "    HtmlTooltipPlugin.prototype.requiredProps = [\"id\"];\n",
       "    HtmlTooltipPlugin.prototype.defaultProps = {labels:null,\n",
       "                                                hoffset:0,\n",
       "                                                voffset:10};\n",
       "    function HtmlTooltipPlugin(fig, props){\n",
       "        mpld3.Plugin.call(this, fig, props);\n",
       "    };\n",
       "\n",
       "    HtmlTooltipPlugin.prototype.draw = function(){\n",
       "       var obj = mpld3.get_element(this.props.id);\n",
       "       var labels = this.props.labels;\n",
       "       var tooltip = d3.select(\"body\").append(\"div\")\n",
       "                    .attr(\"class\", \"mpld3-tooltip\")\n",
       "                    .style(\"position\", \"absolute\")\n",
       "                    .style(\"z-index\", \"10\")\n",
       "                    .style(\"visibility\", \"hidden\");\n",
       "\n",
       "       obj.elements()\n",
       "           .on(\"mouseover\", function(d, i){\n",
       "                              tooltip.html(labels[i])\n",
       "                                     .style(\"visibility\", \"visible\");})\n",
       "           .on(\"mousemove\", function(d, i){\n",
       "                  tooltip\n",
       "                    .style(\"top\", d3.event.pageY + this.props.voffset + \"px\")\n",
       "                    .style(\"left\",d3.event.pageX + this.props.hoffset + \"px\");\n",
       "                 }.bind(this))\n",
       "           .on(\"mouseout\",  function(d, i){\n",
       "                           tooltip.style(\"visibility\", \"hidden\");});\n",
       "    };\n",
       "    \n",
       "    mpld3.register_plugin(\"toptoolbar\", TopToolbar);\n",
       "    TopToolbar.prototype = Object.create(mpld3.Plugin.prototype);\n",
       "    TopToolbar.prototype.constructor = TopToolbar;\n",
       "    function TopToolbar(fig, props){\n",
       "        mpld3.Plugin.call(this, fig, props);\n",
       "    };\n",
       "\n",
       "    TopToolbar.prototype.draw = function(){\n",
       "      // the toolbar svg doesn't exist\n",
       "      // yet, so first draw it\n",
       "      this.fig.toolbar.draw();\n",
       "\n",
       "      // then change the y position to be\n",
       "      // at the top of the figure\n",
       "      this.fig.toolbar.toolbar.attr(\"x\", 150);\n",
       "      this.fig.toolbar.toolbar.attr(\"y\", 400);\n",
       "\n",
       "      // then remove the draw function,\n",
       "      // so that it is not called again\n",
       "      this.fig.toolbar.draw = function() {}\n",
       "    }\n",
       "    \n",
       "    mpld3.register_plugin(\"htmltooltip\", HtmlTooltipPlugin);\n",
       "    HtmlTooltipPlugin.prototype = Object.create(mpld3.Plugin.prototype);\n",
       "    HtmlTooltipPlugin.prototype.constructor = HtmlTooltipPlugin;\n",
       "    HtmlTooltipPlugin.prototype.requiredProps = [\"id\"];\n",
       "    HtmlTooltipPlugin.prototype.defaultProps = {labels:null,\n",
       "                                                hoffset:0,\n",
       "                                                voffset:10};\n",
       "    function HtmlTooltipPlugin(fig, props){\n",
       "        mpld3.Plugin.call(this, fig, props);\n",
       "    };\n",
       "\n",
       "    HtmlTooltipPlugin.prototype.draw = function(){\n",
       "       var obj = mpld3.get_element(this.props.id);\n",
       "       var labels = this.props.labels;\n",
       "       var tooltip = d3.select(\"body\").append(\"div\")\n",
       "                    .attr(\"class\", \"mpld3-tooltip\")\n",
       "                    .style(\"position\", \"absolute\")\n",
       "                    .style(\"z-index\", \"10\")\n",
       "                    .style(\"visibility\", \"hidden\");\n",
       "\n",
       "       obj.elements()\n",
       "           .on(\"mouseover\", function(d, i){\n",
       "                              tooltip.html(labels[i])\n",
       "                                     .style(\"visibility\", \"visible\");})\n",
       "           .on(\"mousemove\", function(d, i){\n",
       "                  tooltip\n",
       "                    .style(\"top\", d3.event.pageY + this.props.voffset + \"px\")\n",
       "                    .style(\"left\",d3.event.pageX + this.props.hoffset + \"px\");\n",
       "                 }.bind(this))\n",
       "           .on(\"mouseout\",  function(d, i){\n",
       "                           tooltip.style(\"visibility\", \"hidden\");});\n",
       "    };\n",
       "    \n",
       "    mpld3.register_plugin(\"toptoolbar\", TopToolbar);\n",
       "    TopToolbar.prototype = Object.create(mpld3.Plugin.prototype);\n",
       "    TopToolbar.prototype.constructor = TopToolbar;\n",
       "    function TopToolbar(fig, props){\n",
       "        mpld3.Plugin.call(this, fig, props);\n",
       "    };\n",
       "\n",
       "    TopToolbar.prototype.draw = function(){\n",
       "      // the toolbar svg doesn't exist\n",
       "      // yet, so first draw it\n",
       "      this.fig.toolbar.draw();\n",
       "\n",
       "      // then change the y position to be\n",
       "      // at the top of the figure\n",
       "      this.fig.toolbar.toolbar.attr(\"x\", 150);\n",
       "      this.fig.toolbar.toolbar.attr(\"y\", 400);\n",
       "\n",
       "      // then remove the draw function,\n",
       "      // so that it is not called again\n",
       "      this.fig.toolbar.draw = function() {}\n",
       "    }\n",
       "    \n",
       "    mpld3.register_plugin(\"htmltooltip\", HtmlTooltipPlugin);\n",
       "    HtmlTooltipPlugin.prototype = Object.create(mpld3.Plugin.prototype);\n",
       "    HtmlTooltipPlugin.prototype.constructor = HtmlTooltipPlugin;\n",
       "    HtmlTooltipPlugin.prototype.requiredProps = [\"id\"];\n",
       "    HtmlTooltipPlugin.prototype.defaultProps = {labels:null,\n",
       "                                                hoffset:0,\n",
       "                                                voffset:10};\n",
       "    function HtmlTooltipPlugin(fig, props){\n",
       "        mpld3.Plugin.call(this, fig, props);\n",
       "    };\n",
       "\n",
       "    HtmlTooltipPlugin.prototype.draw = function(){\n",
       "       var obj = mpld3.get_element(this.props.id);\n",
       "       var labels = this.props.labels;\n",
       "       var tooltip = d3.select(\"body\").append(\"div\")\n",
       "                    .attr(\"class\", \"mpld3-tooltip\")\n",
       "                    .style(\"position\", \"absolute\")\n",
       "                    .style(\"z-index\", \"10\")\n",
       "                    .style(\"visibility\", \"hidden\");\n",
       "\n",
       "       obj.elements()\n",
       "           .on(\"mouseover\", function(d, i){\n",
       "                              tooltip.html(labels[i])\n",
       "                                     .style(\"visibility\", \"visible\");})\n",
       "           .on(\"mousemove\", function(d, i){\n",
       "                  tooltip\n",
       "                    .style(\"top\", d3.event.pageY + this.props.voffset + \"px\")\n",
       "                    .style(\"left\",d3.event.pageX + this.props.hoffset + \"px\");\n",
       "                 }.bind(this))\n",
       "           .on(\"mouseout\",  function(d, i){\n",
       "                           tooltip.style(\"visibility\", \"hidden\");});\n",
       "    };\n",
       "    \n",
       "    mpld3.register_plugin(\"toptoolbar\", TopToolbar);\n",
       "    TopToolbar.prototype = Object.create(mpld3.Plugin.prototype);\n",
       "    TopToolbar.prototype.constructor = TopToolbar;\n",
       "    function TopToolbar(fig, props){\n",
       "        mpld3.Plugin.call(this, fig, props);\n",
       "    };\n",
       "\n",
       "    TopToolbar.prototype.draw = function(){\n",
       "      // the toolbar svg doesn't exist\n",
       "      // yet, so first draw it\n",
       "      this.fig.toolbar.draw();\n",
       "\n",
       "      // then change the y position to be\n",
       "      // at the top of the figure\n",
       "      this.fig.toolbar.toolbar.attr(\"x\", 150);\n",
       "      this.fig.toolbar.toolbar.attr(\"y\", 400);\n",
       "\n",
       "      // then remove the draw function,\n",
       "      // so that it is not called again\n",
       "      this.fig.toolbar.draw = function() {}\n",
       "    }\n",
       "    \n",
       "    mpld3.register_plugin(\"htmltooltip\", HtmlTooltipPlugin);\n",
       "    HtmlTooltipPlugin.prototype = Object.create(mpld3.Plugin.prototype);\n",
       "    HtmlTooltipPlugin.prototype.constructor = HtmlTooltipPlugin;\n",
       "    HtmlTooltipPlugin.prototype.requiredProps = [\"id\"];\n",
       "    HtmlTooltipPlugin.prototype.defaultProps = {labels:null,\n",
       "                                                hoffset:0,\n",
       "                                                voffset:10};\n",
       "    function HtmlTooltipPlugin(fig, props){\n",
       "        mpld3.Plugin.call(this, fig, props);\n",
       "    };\n",
       "\n",
       "    HtmlTooltipPlugin.prototype.draw = function(){\n",
       "       var obj = mpld3.get_element(this.props.id);\n",
       "       var labels = this.props.labels;\n",
       "       var tooltip = d3.select(\"body\").append(\"div\")\n",
       "                    .attr(\"class\", \"mpld3-tooltip\")\n",
       "                    .style(\"position\", \"absolute\")\n",
       "                    .style(\"z-index\", \"10\")\n",
       "                    .style(\"visibility\", \"hidden\");\n",
       "\n",
       "       obj.elements()\n",
       "           .on(\"mouseover\", function(d, i){\n",
       "                              tooltip.html(labels[i])\n",
       "                                     .style(\"visibility\", \"visible\");})\n",
       "           .on(\"mousemove\", function(d, i){\n",
       "                  tooltip\n",
       "                    .style(\"top\", d3.event.pageY + this.props.voffset + \"px\")\n",
       "                    .style(\"left\",d3.event.pageX + this.props.hoffset + \"px\");\n",
       "                 }.bind(this))\n",
       "           .on(\"mouseout\",  function(d, i){\n",
       "                           tooltip.style(\"visibility\", \"hidden\");});\n",
       "    };\n",
       "    \n",
       "    mpld3.register_plugin(\"toptoolbar\", TopToolbar);\n",
       "    TopToolbar.prototype = Object.create(mpld3.Plugin.prototype);\n",
       "    TopToolbar.prototype.constructor = TopToolbar;\n",
       "    function TopToolbar(fig, props){\n",
       "        mpld3.Plugin.call(this, fig, props);\n",
       "    };\n",
       "\n",
       "    TopToolbar.prototype.draw = function(){\n",
       "      // the toolbar svg doesn't exist\n",
       "      // yet, so first draw it\n",
       "      this.fig.toolbar.draw();\n",
       "\n",
       "      // then change the y position to be\n",
       "      // at the top of the figure\n",
       "      this.fig.toolbar.toolbar.attr(\"x\", 150);\n",
       "      this.fig.toolbar.toolbar.attr(\"y\", 400);\n",
       "\n",
       "      // then remove the draw function,\n",
       "      // so that it is not called again\n",
       "      this.fig.toolbar.draw = function() {}\n",
       "    }\n",
       "    \n",
       "    mpld3.register_plugin(\"htmltooltip\", HtmlTooltipPlugin);\n",
       "    HtmlTooltipPlugin.prototype = Object.create(mpld3.Plugin.prototype);\n",
       "    HtmlTooltipPlugin.prototype.constructor = HtmlTooltipPlugin;\n",
       "    HtmlTooltipPlugin.prototype.requiredProps = [\"id\"];\n",
       "    HtmlTooltipPlugin.prototype.defaultProps = {labels:null,\n",
       "                                                hoffset:0,\n",
       "                                                voffset:10};\n",
       "    function HtmlTooltipPlugin(fig, props){\n",
       "        mpld3.Plugin.call(this, fig, props);\n",
       "    };\n",
       "\n",
       "    HtmlTooltipPlugin.prototype.draw = function(){\n",
       "       var obj = mpld3.get_element(this.props.id);\n",
       "       var labels = this.props.labels;\n",
       "       var tooltip = d3.select(\"body\").append(\"div\")\n",
       "                    .attr(\"class\", \"mpld3-tooltip\")\n",
       "                    .style(\"position\", \"absolute\")\n",
       "                    .style(\"z-index\", \"10\")\n",
       "                    .style(\"visibility\", \"hidden\");\n",
       "\n",
       "       obj.elements()\n",
       "           .on(\"mouseover\", function(d, i){\n",
       "                              tooltip.html(labels[i])\n",
       "                                     .style(\"visibility\", \"visible\");})\n",
       "           .on(\"mousemove\", function(d, i){\n",
       "                  tooltip\n",
       "                    .style(\"top\", d3.event.pageY + this.props.voffset + \"px\")\n",
       "                    .style(\"left\",d3.event.pageX + this.props.hoffset + \"px\");\n",
       "                 }.bind(this))\n",
       "           .on(\"mouseout\",  function(d, i){\n",
       "                           tooltip.style(\"visibility\", \"hidden\");});\n",
       "    };\n",
       "    \n",
       "    mpld3.register_plugin(\"toptoolbar\", TopToolbar);\n",
       "    TopToolbar.prototype = Object.create(mpld3.Plugin.prototype);\n",
       "    TopToolbar.prototype.constructor = TopToolbar;\n",
       "    function TopToolbar(fig, props){\n",
       "        mpld3.Plugin.call(this, fig, props);\n",
       "    };\n",
       "\n",
       "    TopToolbar.prototype.draw = function(){\n",
       "      // the toolbar svg doesn't exist\n",
       "      // yet, so first draw it\n",
       "      this.fig.toolbar.draw();\n",
       "\n",
       "      // then change the y position to be\n",
       "      // at the top of the figure\n",
       "      this.fig.toolbar.toolbar.attr(\"x\", 150);\n",
       "      this.fig.toolbar.toolbar.attr(\"y\", 400);\n",
       "\n",
       "      // then remove the draw function,\n",
       "      // so that it is not called again\n",
       "      this.fig.toolbar.draw = function() {}\n",
       "    }\n",
       "    \n",
       "                 mpld3.draw_figure(\"fig_el3544421417917977689458560609\", {\"width\": 1008.0, \"height\": 432.0, \"axes\": [{\"bbox\": [0.125, 0.125, 0.775, 0.755], \"xlim\": [-0.7022446245855734, 0.7098314809788802], \"ylim\": [-0.7081718721860418, 0.6939226674565514], \"xdomain\": [-0.7022446245855734, 0.7098314809788802], \"ydomain\": [-0.7081718721860418, 0.6939226674565514], \"xscale\": \"linear\", \"yscale\": \"linear\", \"axes\": [{\"position\": \"bottom\", \"nticks\": 0, \"tickvalues\": [], \"tickformat\": \"\", \"scale\": \"linear\", \"fontsize\": null, \"grid\": {\"gridOn\": false}, \"visible\": false}, {\"position\": \"left\", \"nticks\": 0, \"tickvalues\": [], \"tickformat\": \"\", \"scale\": \"linear\", \"fontsize\": null, \"grid\": {\"gridOn\": false}, \"visible\": false}], \"axesbg\": \"#FFFFFF\", \"axesbgalpha\": null, \"zoomable\": true, \"id\": \"el354442141519640584\", \"lines\": [], \"paths\": [{\"data\": \"data07\", \"xindex\": 0, \"yindex\": 1, \"coordinates\": \"axes\", \"pathcodes\": [\"M\", \"L\", \"S\", \"L\", \"S\", \"L\", \"S\", \"L\", \"S\", \"Z\"], \"id\": \"el354442141194877128\", \"dasharray\": \"none\", \"alpha\": 0.8, \"facecolor\": \"#FFFFFF\", \"edgecolor\": \"#CCCCCC\", \"edgewidth\": 1.0, \"zorder\": 1000000.0}], \"markers\": [{\"data\": \"data01\", \"xindex\": 0, \"yindex\": 1, \"coordinates\": \"data\", \"id\": \"el354442141493482184pts\", \"facecolor\": \"#1B9E77\", \"edgecolor\": \"none\", \"edgewidth\": 1.0, \"alpha\": 1, \"zorder\": 2, \"markerpath\": [[[0.0, 9.0], [2.3868279, 9.0], [4.676218837063681, 8.051703224294176], [6.3639610306789285, 6.3639610306789285], [8.051703224294176, 4.676218837063681], [9.0, 2.3868279], [9.0, 0.0], [9.0, -2.3868279], [8.051703224294176, -4.676218837063681], [6.3639610306789285, -6.3639610306789285], [4.676218837063681, -8.051703224294176], [2.3868279, -9.0], [0.0, -9.0], [-2.3868279, -9.0], [-4.676218837063681, -8.051703224294176], [-6.3639610306789285, -6.3639610306789285], [-8.051703224294176, -4.676218837063681], [-9.0, -2.3868279], [-9.0, 0.0], [-9.0, 2.3868279], [-8.051703224294176, 4.676218837063681], [-6.3639610306789285, 6.3639610306789285], [-4.676218837063681, 8.051703224294176], [-2.3868279, 9.0], [0.0, 9.0]], [\"M\", \"C\", \"C\", \"C\", \"C\", \"C\", \"C\", \"C\", \"C\", \"Z\"]]}, {\"data\": \"data02\", \"xindex\": 0, \"yindex\": 1, \"coordinates\": \"data\", \"id\": \"el354442141194875080pts\", \"facecolor\": \"#D95F02\", \"edgecolor\": \"none\", \"edgewidth\": 1.0, \"alpha\": 1, \"zorder\": 2, \"markerpath\": [[[0.0, 9.0], [2.3868279, 9.0], [4.676218837063681, 8.051703224294176], [6.3639610306789285, 6.3639610306789285], [8.051703224294176, 4.676218837063681], [9.0, 2.3868279], [9.0, 0.0], [9.0, -2.3868279], [8.051703224294176, -4.676218837063681], [6.3639610306789285, -6.3639610306789285], [4.676218837063681, -8.051703224294176], [2.3868279, -9.0], [0.0, -9.0], [-2.3868279, -9.0], [-4.676218837063681, -8.051703224294176], [-6.3639610306789285, -6.3639610306789285], [-8.051703224294176, -4.676218837063681], [-9.0, -2.3868279], [-9.0, 0.0], [-9.0, 2.3868279], [-8.051703224294176, 4.676218837063681], [-6.3639610306789285, 6.3639610306789285], [-4.676218837063681, 8.051703224294176], [-2.3868279, 9.0], [0.0, 9.0]], [\"M\", \"C\", \"C\", \"C\", \"C\", \"C\", \"C\", \"C\", \"C\", \"Z\"]]}, {\"data\": \"data03\", \"xindex\": 0, \"yindex\": 1, \"coordinates\": \"data\", \"id\": \"el354442141199322760pts\", \"facecolor\": \"#7570B3\", \"edgecolor\": \"none\", \"edgewidth\": 1.0, \"alpha\": 1, \"zorder\": 2, \"markerpath\": [[[0.0, 9.0], [2.3868279, 9.0], [4.676218837063681, 8.051703224294176], [6.3639610306789285, 6.3639610306789285], [8.051703224294176, 4.676218837063681], [9.0, 2.3868279], [9.0, 0.0], [9.0, -2.3868279], [8.051703224294176, -4.676218837063681], [6.3639610306789285, -6.3639610306789285], [4.676218837063681, -8.051703224294176], [2.3868279, -9.0], [0.0, -9.0], [-2.3868279, -9.0], [-4.676218837063681, -8.051703224294176], [-6.3639610306789285, -6.3639610306789285], [-8.051703224294176, -4.676218837063681], [-9.0, -2.3868279], [-9.0, 0.0], [-9.0, 2.3868279], [-8.051703224294176, 4.676218837063681], [-6.3639610306789285, 6.3639610306789285], [-4.676218837063681, 8.051703224294176], [-2.3868279, 9.0], [0.0, 9.0]], [\"M\", \"C\", \"C\", \"C\", \"C\", \"C\", \"C\", \"C\", \"C\", \"Z\"]]}, {\"data\": \"data04\", \"xindex\": 0, \"yindex\": 1, \"coordinates\": \"data\", \"id\": \"el354442141493550472pts\", \"facecolor\": \"#E7298A\", \"edgecolor\": \"none\", \"edgewidth\": 1.0, \"alpha\": 1, \"zorder\": 2, \"markerpath\": [[[0.0, 9.0], [2.3868279, 9.0], [4.676218837063681, 8.051703224294176], [6.3639610306789285, 6.3639610306789285], [8.051703224294176, 4.676218837063681], [9.0, 2.3868279], [9.0, 0.0], [9.0, -2.3868279], [8.051703224294176, -4.676218837063681], [6.3639610306789285, -6.3639610306789285], [4.676218837063681, -8.051703224294176], [2.3868279, -9.0], [0.0, -9.0], [-2.3868279, -9.0], [-4.676218837063681, -8.051703224294176], [-6.3639610306789285, -6.3639610306789285], [-8.051703224294176, -4.676218837063681], [-9.0, -2.3868279], [-9.0, 0.0], [-9.0, 2.3868279], [-8.051703224294176, 4.676218837063681], [-6.3639610306789285, 6.3639610306789285], [-4.676218837063681, 8.051703224294176], [-2.3868279, 9.0], [0.0, 9.0]], [\"M\", \"C\", \"C\", \"C\", \"C\", \"C\", \"C\", \"C\", \"C\", \"Z\"]]}, {\"data\": \"data05\", \"xindex\": 0, \"yindex\": 1, \"coordinates\": \"data\", \"id\": \"el354442141207811336pts\", \"facecolor\": \"#66A61E\", \"edgecolor\": \"none\", \"edgewidth\": 1.0, \"alpha\": 1, \"zorder\": 2, \"markerpath\": [[[0.0, 9.0], [2.3868279, 9.0], [4.676218837063681, 8.051703224294176], [6.3639610306789285, 6.3639610306789285], [8.051703224294176, 4.676218837063681], [9.0, 2.3868279], [9.0, 0.0], [9.0, -2.3868279], [8.051703224294176, -4.676218837063681], [6.3639610306789285, -6.3639610306789285], [4.676218837063681, -8.051703224294176], [2.3868279, -9.0], [0.0, -9.0], [-2.3868279, -9.0], [-4.676218837063681, -8.051703224294176], [-6.3639610306789285, -6.3639610306789285], [-8.051703224294176, -4.676218837063681], [-9.0, -2.3868279], [-9.0, 0.0], [-9.0, 2.3868279], [-8.051703224294176, 4.676218837063681], [-6.3639610306789285, 6.3639610306789285], [-4.676218837063681, 8.051703224294176], [-2.3868279, 9.0], [0.0, 9.0]], [\"M\", \"C\", \"C\", \"C\", \"C\", \"C\", \"C\", \"C\", \"C\", \"Z\"]]}, {\"data\": \"data06\", \"xindex\": 0, \"yindex\": 1, \"coordinates\": \"axes\", \"id\": \"el354442141192909448pts\", \"facecolor\": \"#1B9E77\", \"edgecolor\": \"none\", \"edgewidth\": 1.0, \"alpha\": 1, \"zorder\": 1000002.0, \"markerpath\": [[[0.0, 9.0], [2.3868279, 9.0], [4.676218837063681, 8.051703224294176], [6.3639610306789285, 6.3639610306789285], [8.051703224294176, 4.676218837063681], [9.0, 2.3868279], [9.0, 0.0], [9.0, -2.3868279], [8.051703224294176, -4.676218837063681], [6.3639610306789285, -6.3639610306789285], [4.676218837063681, -8.051703224294176], [2.3868279, -9.0], [0.0, -9.0], [-2.3868279, -9.0], [-4.676218837063681, -8.051703224294176], [-6.3639610306789285, -6.3639610306789285], [-8.051703224294176, -4.676218837063681], [-9.0, -2.3868279], [-9.0, 0.0], [-9.0, 2.3868279], [-8.051703224294176, 4.676218837063681], [-6.3639610306789285, 6.3639610306789285], [-4.676218837063681, 8.051703224294176], [-2.3868279, 9.0], [0.0, 9.0]], [\"M\", \"C\", \"C\", \"C\", \"C\", \"C\", \"C\", \"C\", \"C\", \"Z\"]]}, {\"data\": \"data06\", \"xindex\": 0, \"yindex\": 2, \"coordinates\": \"axes\", \"id\": \"el354442141192909832pts\", \"facecolor\": \"#D95F02\", \"edgecolor\": \"none\", \"edgewidth\": 1.0, \"alpha\": 1, \"zorder\": 1000002.0, \"markerpath\": [[[0.0, 9.0], [2.3868279, 9.0], [4.676218837063681, 8.051703224294176], [6.3639610306789285, 6.3639610306789285], [8.051703224294176, 4.676218837063681], [9.0, 2.3868279], [9.0, 0.0], [9.0, -2.3868279], [8.051703224294176, -4.676218837063681], [6.3639610306789285, -6.3639610306789285], [4.676218837063681, -8.051703224294176], [2.3868279, -9.0], [0.0, -9.0], [-2.3868279, -9.0], [-4.676218837063681, -8.051703224294176], [-6.3639610306789285, -6.3639610306789285], [-8.051703224294176, -4.676218837063681], [-9.0, -2.3868279], [-9.0, 0.0], [-9.0, 2.3868279], [-8.051703224294176, 4.676218837063681], [-6.3639610306789285, 6.3639610306789285], [-4.676218837063681, 8.051703224294176], [-2.3868279, 9.0], [0.0, 9.0]], [\"M\", \"C\", \"C\", \"C\", \"C\", \"C\", \"C\", \"C\", \"C\", \"Z\"]]}, {\"data\": \"data06\", \"xindex\": 0, \"yindex\": 3, \"coordinates\": \"axes\", \"id\": \"el354442141199359624pts\", \"facecolor\": \"#7570B3\", \"edgecolor\": \"none\", \"edgewidth\": 1.0, \"alpha\": 1, \"zorder\": 1000002.0, \"markerpath\": [[[0.0, 9.0], [2.3868279, 9.0], [4.676218837063681, 8.051703224294176], [6.3639610306789285, 6.3639610306789285], [8.051703224294176, 4.676218837063681], [9.0, 2.3868279], [9.0, 0.0], [9.0, -2.3868279], [8.051703224294176, -4.676218837063681], [6.3639610306789285, -6.3639610306789285], [4.676218837063681, -8.051703224294176], [2.3868279, -9.0], [0.0, -9.0], [-2.3868279, -9.0], [-4.676218837063681, -8.051703224294176], [-6.3639610306789285, -6.3639610306789285], [-8.051703224294176, -4.676218837063681], [-9.0, -2.3868279], [-9.0, 0.0], [-9.0, 2.3868279], [-8.051703224294176, 4.676218837063681], [-6.3639610306789285, 6.3639610306789285], [-4.676218837063681, 8.051703224294176], [-2.3868279, 9.0], [0.0, 9.0]], [\"M\", \"C\", \"C\", \"C\", \"C\", \"C\", \"C\", \"C\", \"C\", \"Z\"]]}, {\"data\": \"data06\", \"xindex\": 0, \"yindex\": 4, \"coordinates\": \"axes\", \"id\": \"el354442141194758088pts\", \"facecolor\": \"#E7298A\", \"edgecolor\": \"none\", \"edgewidth\": 1.0, \"alpha\": 1, \"zorder\": 1000002.0, \"markerpath\": [[[0.0, 9.0], [2.3868279, 9.0], [4.676218837063681, 8.051703224294176], [6.3639610306789285, 6.3639610306789285], [8.051703224294176, 4.676218837063681], [9.0, 2.3868279], [9.0, 0.0], [9.0, -2.3868279], [8.051703224294176, -4.676218837063681], [6.3639610306789285, -6.3639610306789285], [4.676218837063681, -8.051703224294176], [2.3868279, -9.0], [0.0, -9.0], [-2.3868279, -9.0], [-4.676218837063681, -8.051703224294176], [-6.3639610306789285, -6.3639610306789285], [-8.051703224294176, -4.676218837063681], [-9.0, -2.3868279], [-9.0, 0.0], [-9.0, 2.3868279], [-8.051703224294176, 4.676218837063681], [-6.3639610306789285, 6.3639610306789285], [-4.676218837063681, 8.051703224294176], [-2.3868279, 9.0], [0.0, 9.0]], [\"M\", \"C\", \"C\", \"C\", \"C\", \"C\", \"C\", \"C\", \"C\", \"Z\"]]}, {\"data\": \"data06\", \"xindex\": 0, \"yindex\": 5, \"coordinates\": \"axes\", \"id\": \"el354442141203109128pts\", \"facecolor\": \"#66A61E\", \"edgecolor\": \"none\", \"edgewidth\": 1.0, \"alpha\": 1, \"zorder\": 1000002.0, \"markerpath\": [[[0.0, 9.0], [2.3868279, 9.0], [4.676218837063681, 8.051703224294176], [6.3639610306789285, 6.3639610306789285], [8.051703224294176, 4.676218837063681], [9.0, 2.3868279], [9.0, 0.0], [9.0, -2.3868279], [8.051703224294176, -4.676218837063681], [6.3639610306789285, -6.3639610306789285], [4.676218837063681, -8.051703224294176], [2.3868279, -9.0], [0.0, -9.0], [-2.3868279, -9.0], [-4.676218837063681, -8.051703224294176], [-6.3639610306789285, -6.3639610306789285], [-8.051703224294176, -4.676218837063681], [-9.0, -2.3868279], [-9.0, 0.0], [-9.0, 2.3868279], [-8.051703224294176, 4.676218837063681], [-6.3639610306789285, 6.3639610306789285], [-4.676218837063681, 8.051703224294176], [-2.3868279, 9.0], [0.0, 9.0]], [\"M\", \"C\", \"C\", \"C\", \"C\", \"C\", \"C\", \"C\", \"C\", \"Z\"]]}], \"texts\": [{\"text\": \"Family, home, war\", \"position\": [0.817288306451613, 0.21768457198920774], \"coordinates\": \"axes\", \"h_anchor\": \"start\", \"v_baseline\": \"auto\", \"rotation\": -0.0, \"fontsize\": 10.0, \"color\": \"#000000\", \"alpha\": 1, \"zorder\": 1000003.0, \"id\": \"el354442141194848840\"}, {\"text\": \"Police, killed, murders\", \"position\": [0.817288306451613, 0.17169487368162864], \"coordinates\": \"axes\", \"h_anchor\": \"start\", \"v_baseline\": \"auto\", \"rotation\": -0.0, \"fontsize\": 10.0, \"color\": \"#000000\", \"alpha\": 1, \"zorder\": 1000003.0, \"id\": \"el354442141192911048\"}, {\"text\": \"Father, New York, brothers\", \"position\": [0.817288306451613, 0.12570517537404954], \"coordinates\": \"axes\", \"h_anchor\": \"start\", \"v_baseline\": \"auto\", \"rotation\": -0.0, \"fontsize\": 10.0, \"color\": \"#000000\", \"alpha\": 1, \"zorder\": 1000003.0, \"id\": \"el354442141195500744\"}, {\"text\": \"Dance, singing, love\", \"position\": [0.817288306451613, 0.07971547706647045], \"coordinates\": \"axes\", \"h_anchor\": \"start\", \"v_baseline\": \"auto\", \"rotation\": -0.0, \"fontsize\": 10.0, \"color\": \"#000000\", \"alpha\": 1, \"zorder\": 1000003.0, \"id\": \"el354442141199357832\"}, {\"text\": \"Killed, soldiers, captain\", \"position\": [0.817288306451613, 0.03372577875889135], \"coordinates\": \"axes\", \"h_anchor\": \"start\", \"v_baseline\": \"auto\", \"rotation\": -0.0, \"fontsize\": 10.0, \"color\": \"#000000\", \"alpha\": 1, \"zorder\": 1000003.0, \"id\": \"el354442141211814216\"}], \"collections\": [], \"images\": [], \"sharex\": [], \"sharey\": []}], \"data\": {\"data01\": [[0.24381678674291052, -0.5041387862290508], [-0.28445673314938785, 0.27573355826080437], [-0.19657213727582853, 0.39573854896210925]], \"data02\": [[0.4184044202336738, 0.5850489899951163], [0.6698670628968674, 0.11896605280395367], [-0.20377837648670416, 0.5597732710930737], [0.4020451359180303, 0.49856493148445374], [0.6677334884276219, 0.2695002905230577], [-0.02234991385406897, 0.3387044447457824]], \"data03\": [[0.1842728439475597, -0.011715611328299623], [-0.13227195754649126, 0.5745384801472381], [0.011707339999011584, 0.4624485755347979], [0.6037432800571017, -0.3456991338989089], [0.07164980401234082, 0.13140842985205484], [-0.05321665416838313, 0.12337031922670556], [0.5523203950143739, 0.4906695451776374], [0.4157900555927239, 0.4066680050040376], [0.34339799473545496, 0.24588751780959872], [0.21436568495015884, 0.21833323177235375], [0.31820603526510766, 0.08767290955547546], [0.3442345942883043, -0.13024993477969463], [0.1607366978752424, -0.11945297477856227], [0.4928973738021543, -0.14112529581269717], [-0.0697835765252865, 0.5697755231183568], [-0.5962489128496042, 0.19029081995111047], [-0.6622802065035606, -0.20503714364142692], [0.20869950117396832, 0.06431546201598057], [0.5655872568440865, 0.3427492412662697], [-0.42084558901816005, 0.46273188035729895], [-0.3031164788430419, 0.47587091621770383], [-0.18141401157117412, 0.47664757937416014], [-0.028860474947472948, 0.6542407465232705], [0.12067866743532428, 0.4813363821584589], [0.21979780091087622, 0.48012585338200914], [0.48195453604347716, 0.008013240019345533], [0.4758882198147056, -0.4358383186309247], [0.6688477850887058, -0.08783283749852551], [-0.5521585808438269, 0.028891781654075178], [0.6273622875630892, 0.3594269833423288]], \"data04\": [[-0.2587368350262618, -0.26527516559786957], [0.05822957027256338, 0.256929533865531], [-0.22775176430437058, 0.06867225264698684], [-0.4301218469327288, 0.28528616015883534], [-0.3527560545316662, 0.12706104279951017], [0.3548063612344581, 0.008230388449868098], [-0.4842963450926421, 0.17299124057611814], [-0.02172250207705443, -0.04277898807708071], [0.3500865831297658, -0.33952163222346426], [0.5177811917071925, -0.2536618659106638], [-0.5523024142568739, -0.22470452093169108], [-0.34166783709147913, 0.6344444329502953], [-0.17157923142425296, 0.23225249097460976], [0.5307508765954988, 0.1293499548695287], [0.4335012948307977, 0.14567214405204687], [-0.15353411958657529, -0.3013348801222534], [0.18357552763037874, 0.3029327061666986], [-0.45990623558854987, 0.007717409858540057], [0.6448729810407794, -0.1557495377370637], [0.12564351913288888, 0.4177899987124327], [-0.3416411136605303, 0.036359351999961084], [-0.551459865435424, 0.3351166974656385], [0.2751629686852379, -0.2942902403479915], [0.06214704621807539, 0.6101371440051012], [-0.3243379724030205, 0.3312099814646893], [-0.6012517387271848, -0.0418859194691775], [-0.34156011933518005, -0.06836233054197617], [-0.3394231160832892, -0.1511074564578018], [-0.18645450426356014, 0.150485309679993], [0.1850753249911779, 0.5789634882504009], [-0.4660099693912445, -0.09927639405993571], [-0.5791042079012638, 0.2903462882632784], [-0.5810674876200954, 0.10583683075043433], [-0.20835174801118317, -0.05859486722959816], [-0.19967295689696812, 0.006401158105055958]], \"data05\": [[0.44206412093578173, -0.27869804841256207], [-0.03159215088404366, -0.45663791320402886], [0.058399024554247426, -0.04612821871658942], [-0.43458221470796804, -0.29655933230579506], [-0.2509077886527682, -0.5748301691298103], [0.19843842072642093, -0.3892916828503908], [-0.0822211719046293, -0.5783371225442145], [-0.016415337094761003, -0.6356033887664564], [0.019707608446931178, -0.6360131358153785], [0.08011541418687525, -0.4798779364145004], [-0.1524708594907454, -0.3409184384980287], [-0.020101379300060913, -0.3570984271707861], [-0.22754763513663467, -0.45049222698404334], [0.1287536654528344, -0.6684899512527609], [0.07969434882060063, -0.3889371661029437], [-0.34789814258235424, -0.3258509720117311], [-0.3609008933642027, -0.48196142317941265], [-0.11274056497585859, -0.49926901658843537], [0.18267302179861425, -0.5787625309524596], [0.1563795065783695, -0.21300821701033482], [-0.0876522433589088, -0.20078309954756865], [-0.18334149000822167, -0.5551280766277863], [-0.5674182514385872, -0.35374010333970207], [-0.4533760890831642, -0.4451810757043979], [0.3243862951002719, -0.45653595159186383], [0.33498008050466554, -0.6458620573675335]], \"data06\": [[0.7942468317972351, 0.22841550159430954, 0.18242580328673044, 0.13643610497915135, 0.09044640667157224, 0.04445670836399314]], \"data07\": [[0.7788858486943165, 0.015329899435859717], [0.9910394265232977, 0.015329899435859717], [0.9935995903737841, 0.015329899435859717], [0.9935995903737841, 0.021461859210203577], [0.9935995903737841, 0.24834437086092717], [0.9935995903737841, 0.254476330635271], [0.9910394265232977, 0.254476330635271], [0.7788858486943165, 0.254476330635271], [0.7763256848438301, 0.254476330635271], [0.7763256848438301, 0.24834437086092717], [0.7763256848438301, 0.021461859210203577], [0.7763256848438301, 0.015329899435859717], [0.7788858486943165, 0.015329899435859717]]}, \"id\": \"el354442141791797768\", \"plugins\": [{\"type\": \"reset\"}, {\"type\": \"zoom\", \"button\": true, \"enabled\": false}, {\"type\": \"boxzoom\", \"button\": true, \"enabled\": false}, {\"type\": \"htmltooltip\", \"id\": \"el354442141493482184pts\", \"labels\": [\"The Lord of the Rings: The Return of the King\", \"Rocky\", \"My Fair Lady\"], \"hoffset\": 10, \"voffset\": 10}, {\"type\": \"toptoolbar\"}, {\"type\": \"htmltooltip\", \"id\": \"el354442141194875080pts\", \"labels\": [\"It's a Wonderful Life\", \"The Philadelphia Story\", \"An American in Paris\", \"The King's Speech\", \"A Place in the Sun\", \"Tootsie\"], \"hoffset\": 10, \"voffset\": 10}, {\"type\": \"toptoolbar\"}, {\"type\": \"htmltooltip\", \"id\": \"el354442141199322760pts\", \"labels\": [\"The Godfather\", \"Raging Bull\", \"Citizen Kane\", \"Titanic\", \"The Godfather: Part II\", \"On the Waterfront\", \"The Sound of Music\", \"Amadeus\", \"A Streetcar Named Desire\", \"To Kill a Mockingbird\", \"The Best Years of Our Lives\", \"Ben-Hur\", \"Doctor Zhivago\", \"Braveheart\", \"The Good, the Bad and the Ugly\", \"The Apartment\", \"High Noon\", \"Goodfellas\", \"City Lights\", \"It Happened One Night\", \"Midnight Cowboy\", \"Rain Man\", \"Annie Hall\", \"Out of Africa\", \"Terms of Endearment\", \"Giant\", \"The Grapes of Wrath\", \"Network\", \"Taxi Driver\", \"Yankee Doodle Dandy\"], \"hoffset\": 10, \"voffset\": 10}, {\"type\": \"toptoolbar\"}, {\"type\": \"htmltooltip\", \"id\": \"el354442141493550472pts\", \"labels\": [\"Casablanca\", \"One Flew Over the Cuckoo's Nest\", \"Psycho\", \"Sunset Blvd.\", \"Vertigo\", \"Forrest Gump\", \"West Side Story\", \"E.T. the Extra-Terrestrial\", \"2001: A Space Odyssey\", \"The Silence of the Lambs\", \"Chinatown\", \"Singin' in the Rain\", \"Some Like It Hot\", \"12 Angry Men\", \"Gandhi\", \"Unforgiven\", \"The Exorcist\", \"The French Connection\", \"Mr. Smith Goes to Washington\", \"Good Will Hunting\", \"Fargo\", \"Shane\", \"Close Encounters of the Third Kind\", \"Nashville\", \"The Graduate\", \"American Graffiti\", \"Pulp Fiction\", \"The Maltese Falcon\", \"A Clockwork Orange\", \"Wuthering Heights\", \"Double Indemnity\", \"Rebel Without a Cause\", \"Rear Window\", \"The Third Man\", \"North by Northwest\"], \"hoffset\": 10, \"voffset\": 10}, {\"type\": \"toptoolbar\"}, {\"type\": \"htmltooltip\", \"id\": \"el354442141207811336pts\", \"labels\": [\"The Shawshank Redemption\", \"Schindler's List\", \"Gone with the Wind\", \"The Wizard of Oz\", \"Lawrence of Arabia\", \"Star Wars\", \"The Bridge on the River Kwai\", \"Dr. Strangelove or: How I Learned to Stop Worrying and Love the Bomb\", \"Apocalypse Now\", \"Gladiator\", \"From Here to Eternity\", \"Saving Private Ryan\", \"Raiders of the Lost Ark\", \"Patton\", \"Jaws\", \"Butch Cassidy and the Sundance Kid\", \"The Treasure of the Sierra Madre\", \"Platoon\", \"Dances with Wolves\", \"The Pianist\", \"The Deer Hunter\", \"All Quiet on the Western Front\", \"The Green Mile\", \"The African Queen\", \"Stagecoach\", \"Mutiny on the Bounty\"], \"hoffset\": 10, \"voffset\": 10}, {\"type\": \"toptoolbar\"}]});\n",
       "            })\n",
       "         });\n",
       "}\n",
       "</script>"
      ],
      "text/plain": [
       "<IPython.core.display.HTML object>"
      ]
     },
     "execution_count": 85,
     "metadata": {},
     "output_type": "execute_result"
    }
   ],
   "source": [
    "#create data frame that has the result of the MDS plus the cluster numbers and titles\n",
    "df = pd.DataFrame(dict(x=xs, y=ys, label=clusters, title=titles)) \n",
    "\n",
    "#group by cluster\n",
    "groups = df.groupby('label')\n",
    "\n",
    "#define custom css to format the font and to remove the axis labeling\n",
    "css = \"\"\"\n",
    "text.mpld3-text, div.mpld3-tooltip {\n",
    "  font-family:Arial, Helvetica, sans-serif;\n",
    "}\n",
    "\n",
    "g.mpld3-xaxis, g.mpld3-yaxis {\n",
    "display: none; }\n",
    "\"\"\"\n",
    "\n",
    "# Plot \n",
    "fig, ax = plt.subplots(figsize=(14,6)) #set plot size\n",
    "ax.margins(0.03) # Optional, just adds 5% padding to the autoscaling\n",
    "\n",
    "#iterate through groups to layer the plot\n",
    "#note that I use the cluster_name and cluster_color dicts with the 'name' lookup to return the appropriate color/label\n",
    "for name, group in groups:\n",
    "    points = ax.plot(group.x, group.y, marker='o', linestyle='', ms=18, label=cluster_names[name], mec='none', color=cluster_colors[name])\n",
    "    ax.set_aspect('auto')\n",
    "    labels = [i for i in group.title]\n",
    "    \n",
    "    #set tooltip using points, labels and the already defined 'css'\n",
    "    tooltip = mpld3.plugins.PointHTMLTooltip(points[0], labels,\n",
    "                                       voffset=10, hoffset=10, css=css)\n",
    "    #connect tooltip to fig\n",
    "    mpld3.plugins.connect(fig, tooltip, TopToolbar())    \n",
    "    \n",
    "    #set tick marks as blank\n",
    "    ax.axes.get_xaxis().set_ticks([])\n",
    "    ax.axes.get_yaxis().set_ticks([])\n",
    "    \n",
    "    #set axis as blank\n",
    "    ax.axes.get_xaxis().set_visible(False)\n",
    "    ax.axes.get_yaxis().set_visible(False)\n",
    "\n",
    "    \n",
    "ax.legend(numpoints=1) #show legend with only one dot\n",
    "\n",
    "mpld3.display() #show the plot\n",
    "\n",
    "#uncomment the below to export to html\n",
    "#html = mpld3.fig_to_html(fig)\n",
    "#print(html)"
   ]
  },
  {
   "cell_type": "markdown",
   "metadata": {},
   "source": [
    "# Hierarchical document clustering"
   ]
  },
  {
   "cell_type": "code",
   "execution_count": 86,
   "metadata": {
    "ExecuteTime": {
     "end_time": "2020-03-02T16:53:39.119646Z",
     "start_time": "2020-03-02T16:53:33.990606Z"
    }
   },
   "outputs": [
    {
     "data": {
      "image/png": "[encoded data removed]",
      "text/plain": [
       "<Figure size 1080x1440 with 1 Axes>"
      ]
     },
     "metadata": {
      "needs_background": "light"
     },
     "output_type": "display_data"
    }
   ],
   "source": [
    "from scipy.cluster.hierarchy import ward, dendrogram\n",
    "\n",
    "linkage_matrix = ward(dist) #define the linkage_matrix using ward clustering pre-computed distances\n",
    "\n",
    "fig, ax = plt.subplots(figsize=(15, 20)) # set size\n",
    "ax = dendrogram(linkage_matrix, orientation=\"right\", labels=titles);\n",
    "\n",
    "plt.tick_params(\\\n",
    "    axis= 'x',          # changes apply to the x-axis\n",
    "    which='both',      # both major and minor ticks are affected\n",
    "    bottom='off',      # ticks along the bottom edge are off\n",
    "    top='off',         # ticks along the top edge are off\n",
    "    labelbottom='off')\n",
    "\n",
    "plt.tight_layout() #show plot with tight layout\n",
    "\n",
    "#uncomment below to save figure\n",
    "plt.savefig('ward_clusters.png', dpi=200) #save figure as ward_clusters"
   ]
  },
  {
   "cell_type": "code",
   "execution_count": 87,
   "metadata": {
    "ExecuteTime": {
     "end_time": "2020-03-02T16:53:58.763071Z",
     "start_time": "2020-03-02T16:53:58.758729Z"
    }
   },
   "outputs": [],
   "source": [
    "plt.close()"
   ]
  },
  {
   "cell_type": "markdown",
   "metadata": {},
   "source": [
    "# Latent Dirichlet Allocation"
   ]
  },
  {
   "cell_type": "code",
   "execution_count": 88,
   "metadata": {
    "ExecuteTime": {
     "end_time": "2020-03-02T16:54:03.226604Z",
     "start_time": "2020-03-02T16:54:03.218807Z"
    }
   },
   "outputs": [],
   "source": [
    "#strip any proper names from a text...unfortunately right now this is yanking the first word from a sentence too.\n",
    "import string\n",
    "def strip_proppers(text):\n",
    "    # first tokenize by sentence, then by word to ensure that punctuation is caught as it's own token\n",
    "    tokens = [word for sent in nltk.sent_tokenize(text) for word in nltk.word_tokenize(sent) if word.islower()]\n",
    "    return \"\".join([\" \"+i if not i.startswith(\"'\") and i not in string.punctuation else i for i in tokens]).strip()"
   ]
  },
  {
   "cell_type": "code",
   "execution_count": 89,
   "metadata": {
    "ExecuteTime": {
     "end_time": "2020-03-02T16:54:03.767064Z",
     "start_time": "2020-03-02T16:54:03.760597Z"
    }
   },
   "outputs": [],
   "source": [
    "#strip any proper nouns (NNP) or plural proper nouns (NNPS) from a text\n",
    "from nltk.tag import pos_tag\n",
    "\n",
    "def strip_proppers_POS(text):\n",
    "    tagged = pos_tag(text.split()) #use NLTK's part of speech tagger\n",
    "    non_propernouns = [word for word,pos in tagged if pos != 'NNP' and pos != 'NNPS']\n",
    "    return non_propernouns"
   ]
  },
  {
   "cell_type": "code",
   "execution_count": 90,
   "metadata": {
    "ExecuteTime": {
     "end_time": "2020-03-02T16:54:28.288558Z",
     "start_time": "2020-03-02T16:54:04.791347Z"
    }
   },
   "outputs": [
    {
     "name": "stdout",
     "output_type": "stream",
     "text": [
      "Wall time: 8.95 s\n",
      "Wall time: 1.08 s\n"
     ]
    }
   ],
   "source": [
    "#Latent Dirichlet Allocation implementation with Gensim\n",
    "\n",
    "from gensim import corpora, models, similarities \n",
    "\n",
    "#remove proper names\n",
    "preprocess = [strip_proppers(doc) for doc in synopses]\n",
    "\n",
    "%time tokenized_text = [tokenize_and_stem(text) for text in preprocess]\n",
    "\n",
    "%time texts = [[word for word in text if word not in stopwords] for text in tokenized_text]"
   ]
  },
  {
   "cell_type": "code",
   "execution_count": 91,
   "metadata": {
    "ExecuteTime": {
     "end_time": "2020-03-02T16:54:35.069784Z",
     "start_time": "2020-03-02T16:54:35.064005Z"
    }
   },
   "outputs": [
    {
     "name": "stdout",
     "output_type": "stream",
     "text": [
      "1839\n"
     ]
    }
   ],
   "source": [
    "#print(len([word for word in texts[0] if word not in stopwords]))\n",
    "print(len(texts[0]))"
   ]
  },
  {
   "cell_type": "code",
   "execution_count": 92,
   "metadata": {
    "ExecuteTime": {
     "end_time": "2020-03-02T16:54:35.988467Z",
     "start_time": "2020-03-02T16:54:35.796821Z"
    }
   },
   "outputs": [],
   "source": [
    "dictionary = corpora.Dictionary(texts)"
   ]
  },
  {
   "cell_type": "code",
   "execution_count": 93,
   "metadata": {
    "ExecuteTime": {
     "end_time": "2020-03-02T16:54:36.644520Z",
     "start_time": "2020-03-02T16:54:36.620583Z"
    }
   },
   "outputs": [],
   "source": [
    "dictionary.filter_extremes(no_below=1, no_above=0.8)"
   ]
  },
  {
   "cell_type": "code",
   "execution_count": 94,
   "metadata": {
    "ExecuteTime": {
     "end_time": "2020-03-02T16:54:37.205523Z",
     "start_time": "2020-03-02T16:54:37.128570Z"
    }
   },
   "outputs": [],
   "source": [
    "corpus = [dictionary.doc2bow(text) for text in texts]"
   ]
  },
  {
   "cell_type": "code",
   "execution_count": 95,
   "metadata": {
    "ExecuteTime": {
     "end_time": "2020-03-02T16:54:37.712448Z",
     "start_time": "2020-03-02T16:54:37.708343Z"
    }
   },
   "outputs": [
    {
     "data": {
      "text/plain": [
       "100"
      ]
     },
     "execution_count": 95,
     "metadata": {},
     "output_type": "execute_result"
    }
   ],
   "source": [
    "len(corpus)"
   ]
  },
  {
   "cell_type": "code",
   "execution_count": 96,
   "metadata": {
    "ExecuteTime": {
     "end_time": "2020-03-02T16:55:52.307309Z",
     "start_time": "2020-03-02T16:54:38.451380Z"
    }
   },
   "outputs": [
    {
     "name": "stdout",
     "output_type": "stream",
     "text": [
      "Wall time: 1min 13s\n"
     ]
    }
   ],
   "source": [
    "%time lda = models.LdaModel(corpus, num_topics=5, id2word=dictionary, update_every=5, chunksize=10000, passes=100)"
   ]
  },
  {
   "cell_type": "code",
   "execution_count": 97,
   "metadata": {
    "ExecuteTime": {
     "end_time": "2020-03-02T16:55:52.821573Z",
     "start_time": "2020-03-02T16:55:52.815368Z"
    }
   },
   "outputs": [
    {
     "name": "stdout",
     "output_type": "stream",
     "text": [
      "[(0, 0.28906012), (1, 0.6953214), (4, 0.015370421)]\n"
     ]
    }
   ],
   "source": [
    "print(lda[corpus[0]])"
   ]
  },
  {
   "cell_type": "code",
   "execution_count": 103,
   "metadata": {
    "ExecuteTime": {
     "end_time": "2020-03-02T16:57:11.736850Z",
     "start_time": "2020-03-02T16:57:11.730788Z"
    }
   },
   "outputs": [],
   "source": [
    "topics = lda.print_topics(5, num_words=20)"
   ]
  },
  {
   "cell_type": "code",
   "execution_count": 104,
   "metadata": {
    "ExecuteTime": {
     "end_time": "2020-03-02T16:57:12.496468Z",
     "start_time": "2020-03-02T16:57:12.489780Z"
    }
   },
   "outputs": [],
   "source": [
    "topics_matrix = lda.show_topics(formatted=False, num_words=20)"
   ]
  },
  {
   "cell_type": "code",
   "execution_count": 105,
   "metadata": {
    "ExecuteTime": {
     "end_time": "2020-03-02T16:57:13.077163Z",
     "start_time": "2020-03-02T16:57:13.071509Z"
    }
   },
   "outputs": [],
   "source": [
    "topics_matrix = np.array(topics_matrix)"
   ]
  },
  {
   "cell_type": "code",
   "execution_count": 106,
   "metadata": {
    "ExecuteTime": {
     "end_time": "2020-03-02T16:57:13.719400Z",
     "start_time": "2020-03-02T16:57:13.713322Z"
    }
   },
   "outputs": [
    {
     "data": {
      "text/plain": [
       "(5, 2)"
      ]
     },
     "execution_count": 106,
     "metadata": {},
     "output_type": "execute_result"
    }
   ],
   "source": [
    "topics_matrix.shape"
   ]
  },
  {
   "cell_type": "code",
   "execution_count": 115,
   "metadata": {
    "ExecuteTime": {
     "end_time": "2020-03-02T16:58:59.665125Z",
     "start_time": "2020-03-02T16:58:59.660979Z"
    }
   },
   "outputs": [],
   "source": [
    "topic_words = topics_matrix[:,1]"
   ]
  },
  {
   "cell_type": "code",
   "execution_count": 116,
   "metadata": {
    "ExecuteTime": {
     "end_time": "2020-03-02T16:59:03.304791Z",
     "start_time": "2020-03-02T16:59:03.298200Z"
    }
   },
   "outputs": [
    {
     "name": "stdout",
     "output_type": "stream",
     "text": [
      "[\"('kill', 0.008178405)\", \"('famili', 0.0051426967)\", \"('men', 0.0051037627)\", \"('order', 0.004857758)\", \"('two', 0.0038345081)\", \"('ask', 0.0036847156)\", \"('home', 0.0036410813)\", \"('father', 0.0035521397)\", \"('meet', 0.0034715037)\", \"('soldier', 0.003424368)\", \"('night', 0.003289048)\", \"('life', 0.0032287221)\", \"('escap', 0.0032215803)\", \"('friend', 0.003007322)\", \"('learn', 0.002981086)\", \"('away', 0.0029471875)\", \"('first', 0.0029311783)\", \"('discov', 0.002924305)\", \"('becom', 0.0028928525)\", \"('shoot', 0.0028740633)\"]\n",
      "\n",
      "[\"('car', 0.006382334)\", '(\"n\\'t\", 0.0062820814)', \"('go', 0.005160643)\", \"('say', 0.004946279)\", \"('call', 0.004822589)\", \"('ask', 0.004655407)\", \"('meet', 0.004575009)\", \"('apart', 0.004328528)\", \"('day', 0.004303557)\", \"('come', 0.004159082)\", \"('doe', 0.004071461)\", \"('kill', 0.0038786286)\", \"('love', 0.0038374602)\", \"('night', 0.003818446)\", \"('look', 0.0038007179)\", \"('run', 0.0037397468)\", \"('polic', 0.003716367)\", \"('arriv', 0.0036199233)\", \"('home', 0.0036185123)\", \"('talk', 0.0035021817)\"]\n",
      "\n",
      "[\"('kill', 0.0045999633)\", \"('two', 0.00452485)\", \"('friend', 0.0041088476)\", \"('say', 0.003992358)\", \"('ask', 0.0037660936)\", \"('town', 0.003636942)\", \"('go', 0.0035997047)\", '(\"n\\'t\", 0.0035483364)', \"('name', 0.003356766)\", \"('home', 0.0033227843)\", \"('arriv', 0.0032985548)\", \"('use', 0.0032808858)\", \"('run', 0.0031175949)\", \"('come', 0.0031153562)\", \"('famili', 0.0030952378)\", \"('marri', 0.0030901725)\", \"('life', 0.0030026021)\", \"('want', 0.00299681)\", \"('doe', 0.0029243648)\", \"('prison', 0.0028630248)\"]\n",
      "\n",
      "[\"('kill', 0.0051478287)\", \"('ship', 0.0042213746)\", \"('offic', 0.003817378)\", \"('shark', 0.0037347788)\", \"('friend', 0.0036736159)\", \"('home', 0.0036540783)\", \"('arriv', 0.003495264)\", \"('attempt', 0.0033185035)\", \"('men', 0.003238056)\", \"('order', 0.0031217835)\", \"('go', 0.0029767952)\", \"('away', 0.0028700116)\", \"('night', 0.002847158)\", \"('water', 0.002806542)\", \"('two', 0.0028047257)\", \"('run', 0.0025520136)\", \"('first', 0.0025318502)\", \"('meet', 0.002522236)\", \"('escap', 0.0025036428)\", \"('ask', 0.0024971387)\"]\n",
      "\n",
      "[\"('father', 0.005564518)\", \"('famili', 0.0047877193)\", \"('war', 0.0045095216)\", \"('kill', 0.0044958084)\", \"('soldier', 0.004416279)\", \"('order', 0.0043001533)\", \"('becom', 0.0041476497)\", \"('ask', 0.0041461512)\", \"('friend', 0.0040398277)\", \"('meet', 0.0038173087)\", \"('fight', 0.0036898716)\", \"('polic', 0.00361571)\", \"('son', 0.0035331764)\", \"('die', 0.003464599)\", \"('men', 0.0033505815)\", \"('learn', 0.003323618)\", \"('help', 0.003312231)\", \"('way', 0.0032599312)\", \"('forc', 0.0031189912)\", \"('day', 0.0028953615)\"]\n",
      "\n"
     ]
    }
   ],
   "source": [
    "for i in topic_words:\n",
    "    print([str(word) for word in i])\n",
    "    print()"
   ]
  },
  {
   "cell_type": "code",
   "execution_count": null,
   "metadata": {},
   "outputs": [],
   "source": []
  }
 ],
 "metadata": {
  "kernelspec": {
   "display_name": "Python 3",
   "language": "python",
   "name": "python3"
  },
  "language_info": {
   "codemirror_mode": {
    "name": "ipython",
    "version": 3
   },
   "file_extension": ".py",
   "mimetype": "text/x-python",
   "name": "python",
   "nbconvert_exporter": "python",
   "pygments_lexer": "ipython3",
   "version": "3.7.6"
  },
  "varInspector": {
   "cols": {
    "lenName": 16,
    "lenType": 16,
    "lenVar": 40
   },
   "kernels_config": {
    "python": {
     "delete_cmd_postfix": "",
     "delete_cmd_prefix": "del ",
     "library": "var_list.py",
     "varRefreshCmd": "print(var_dic_list())"
    },
    "r": {
     "delete_cmd_postfix": ") ",
     "delete_cmd_prefix": "rm(",
     "library": "var_list.r",
     "varRefreshCmd": "cat(var_dic_list()) "
    }
   },
   "types_to_exclude": [
    "module",
    "function",
    "builtin_function_or_method",
    "instance",
    "_Feature"
   ],
   "window_display": false
  }
 },
 "nbformat": 4,
 "nbformat_minor": 1
}
