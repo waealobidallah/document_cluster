{
 "cells": [
  {
   "cell_type": "code",
   "execution_count": 5,
   "metadata": {
    "ExecuteTime": {
     "end_time": "2020-03-02T14:49:05.702869Z",
     "start_time": "2020-03-02T14:49:02.199035Z"
    }
   },
   "outputs": [
    {
     "name": "stdout",
     "output_type": "stream",
     "text": [
      "Requirement already satisfied: urllib3 in c:\\users\\waeal\\appdata\\local\\programs\\python\\python37\\lib\\site-packages (1.25.7)\n"
     ]
    }
   ],
   "source": [
    "!pip install urllib3"
   ]
  },
  {
   "cell_type": "code",
   "execution_count": 49,
   "metadata": {
    "ExecuteTime": {
     "end_time": "2020-03-02T15:48:09.546053Z",
     "start_time": "2020-03-02T15:48:01.944622Z"
    }
   },
   "outputs": [
    {
     "name": "stdout",
     "output_type": "stream",
     "text": [
      "Collecting HTMLParser\n",
      "  Downloading HTMLParser-0.0.2.tar.gz (6.0 kB)\n",
      "Installing collected packages: HTMLParser\n",
      "    Running setup.py install for HTMLParser: started\n",
      "    Running setup.py install for HTMLParser: finished with status 'done'\n",
      "Successfully installed HTMLParser-0.0.2\n"
     ]
    }
   ],
   "source": [
    "!pip install HTMLParser"
   ]
  },
  {
   "cell_type": "code",
   "execution_count": 70,
   "metadata": {
    "ExecuteTime": {
     "end_time": "2020-03-02T16:00:24.998332Z",
     "start_time": "2020-03-02T16:00:19.574415Z"
    }
   },
   "outputs": [],
   "source": [
    "import urllib3\n",
    "from bs4 import BeautifulSoup\n",
    "\n",
    "http = urllib3.PoolManager()\n",
    "request = http.request('GET',\"http://www.imdb.com/list/ls055592025/\")\n",
    "response = request.data\n",
    "soup = BeautifulSoup(response, \"html.parser\")\n"
   ]
  },
  {
   "cell_type": "code",
   "execution_count": 71,
   "metadata": {
    "ExecuteTime": {
     "end_time": "2020-03-02T16:00:27.953879Z",
     "start_time": "2020-03-02T16:00:27.944733Z"
    }
   },
   "outputs": [
    {
     "data": {
      "text/plain": [
       "bs4.BeautifulSoup"
      ]
     },
     "execution_count": 71,
     "metadata": {},
     "output_type": "execute_result"
    }
   ],
   "source": [
    "type(soup)"
   ]
  },
  {
   "cell_type": "code",
   "execution_count": 38,
   "metadata": {
    "ExecuteTime": {
     "end_time": "2020-03-02T15:21:11.214407Z",
     "start_time": "2020-03-02T15:21:10.550832Z"
    },
    "scrolled": true
   },
   "outputs": [
    {
     "name": "stdout",
     "output_type": "stream",
     "text": [
      "The Godfather\n",
      "The Shawshank Redemption\n",
      "Schindler's List\n",
      "Raging Bull\n",
      "Casablanca\n",
      "Citizen Kane\n",
      "Gone with the Wind\n",
      "The Wizard of Oz\n",
      "One Flew Over the Cuckoo's Nest\n",
      "Lawrence of Arabia\n",
      "Vertigo\n",
      "Psycho\n",
      "The Godfather: Part II\n",
      "On the Waterfront\n",
      "Sunset Blvd.\n",
      "Forrest Gump\n",
      "The Sound of Music\n",
      "12 Angry Men\n",
      "West Side Story\n",
      "Star Wars\n",
      "2001: A Space Odyssey\n",
      "E.T. the Extra-Terrestrial\n",
      "The Silence of the Lambs\n",
      "Chinatown\n",
      "The Bridge on the River Kwai\n",
      "Singin' in the Rain\n",
      "It's a Wonderful Life\n",
      "Dr. Strangelove or: How I Learned to Stop Worrying and Love the Bomb\n",
      "Some Like It Hot\n",
      "Ben-Hur\n",
      "Apocalypse Now\n",
      "Amadeus\n",
      "The Lord of the Rings: The Return of the King\n",
      "Gladiator\n",
      "Titanic\n",
      "From Here to Eternity\n",
      "Saving Private Ryan\n",
      "Unforgiven\n",
      "Raiders of the Lost Ark\n",
      "Rocky\n",
      "A Streetcar Named Desire\n",
      "The Philadelphia Story\n",
      "To Kill a Mockingbird\n",
      "An American in Paris\n",
      "The Best Years of Our Lives\n",
      "My Fair Lady\n",
      "A Clockwork Orange\n",
      "Doctor Zhivago\n",
      "The Searchers\n",
      "Jaws\n",
      "Patton\n",
      "Butch Cassidy and the Sundance Kid\n",
      "The Treasure of the Sierra Madre\n",
      "Il buono, il brutto, il cattivo\n",
      "The Apartment\n",
      "Platoon\n",
      "High Noon\n",
      "Braveheart\n",
      "Dances with Wolves\n",
      "Jurassic Park\n",
      "The Exorcist\n",
      "The Pianist\n",
      "Goodfellas\n",
      "The Deer Hunter\n",
      "All Quiet on the Western Front\n",
      "Bonnie and Clyde\n",
      "The French Connection\n",
      "City Lights\n",
      "It Happened One Night\n",
      "A Place in the Sun\n",
      "Midnight Cowboy\n",
      "Mr. Smith Goes to Washington\n",
      "Rain Man\n",
      "Annie Hall\n",
      "Fargo\n",
      "Giant\n",
      "Shane\n",
      "The Grapes of Wrath\n",
      "The Green Mile\n",
      "Close Encounters of the Third Kind\n",
      "Nashville\n",
      "Network\n",
      "The Graduate\n",
      "American Graffiti\n",
      "Pulp Fiction\n",
      "Terms of Endearment\n",
      "Good Will Hunting\n",
      "The African Queen\n",
      "Stagecoach\n",
      "Mutiny on the Bounty\n",
      "The Great Dictator\n",
      "Double Indemnity\n",
      "The Maltese Falcon\n",
      "Wuthering Heights\n",
      "Taxi Driver\n",
      "Rear Window\n",
      "The Third Man\n",
      "Rebel Without a Cause\n",
      "North by Northwest\n",
      "Yankee Doodle Dandy\n"
     ]
    }
   ],
   "source": [
    "for div in soup.findAll('div',{'class':'lister-item-content'}):\n",
    "    for h in div.findAll('h3', {'class':'lister-item-header'}):\n",
    "        for a in h.findAll('a'):\n",
    "            print(a.text)"
   ]
  },
  {
   "cell_type": "code",
   "execution_count": 39,
   "metadata": {
    "ExecuteTime": {
     "end_time": "2020-03-02T15:43:44.933778Z",
     "start_time": "2020-03-02T15:43:44.353984Z"
    }
   },
   "outputs": [
    {
     "name": "stdout",
     "output_type": "stream",
     "text": [
      "The Godfather\n",
      "The Shawshank Redemption\n",
      "Schindler's List\n",
      "Raging Bull\n",
      "Casablanca\n",
      "Citizen Kane\n",
      "Gone with the Wind\n",
      "The Wizard of Oz\n",
      "One Flew Over the Cuckoo's Nest\n",
      "Lawrence of Arabia\n",
      "Vertigo\n",
      "Psycho\n",
      "The Godfather: Part II\n",
      "On the Waterfront\n",
      "Sunset Blvd.\n",
      "Forrest Gump\n",
      "The Sound of Music\n",
      "12 Angry Men\n",
      "West Side Story\n",
      "Star Wars\n",
      "2001: A Space Odyssey\n",
      "E.T. the Extra-Terrestrial\n",
      "The Silence of the Lambs\n",
      "Chinatown\n",
      "The Bridge on the River Kwai\n",
      "Singin' in the Rain\n",
      "It's a Wonderful Life\n",
      "Dr. Strangelove or: How I Learned to Stop Worrying and Love the Bomb\n",
      "Some Like It Hot\n",
      "Ben-Hur\n",
      "Apocalypse Now\n",
      "Amadeus\n",
      "The Lord of the Rings: The Return of the King\n",
      "Gladiator\n",
      "Titanic\n",
      "From Here to Eternity\n",
      "Saving Private Ryan\n",
      "Unforgiven\n",
      "Raiders of the Lost Ark\n",
      "Rocky\n",
      "A Streetcar Named Desire\n",
      "The Philadelphia Story\n",
      "To Kill a Mockingbird\n",
      "An American in Paris\n",
      "The Best Years of Our Lives\n",
      "My Fair Lady\n",
      "A Clockwork Orange\n",
      "Doctor Zhivago\n",
      "The Searchers\n",
      "Jaws\n",
      "Patton\n",
      "Butch Cassidy and the Sundance Kid\n",
      "The Treasure of the Sierra Madre\n",
      "Il buono, il brutto, il cattivo\n",
      "The Apartment\n",
      "Platoon\n",
      "High Noon\n",
      "Braveheart\n",
      "Dances with Wolves\n",
      "Jurassic Park\n",
      "The Exorcist\n",
      "The Pianist\n",
      "Goodfellas\n",
      "The Deer Hunter\n",
      "All Quiet on the Western Front\n",
      "Bonnie and Clyde\n",
      "The French Connection\n",
      "City Lights\n",
      "It Happened One Night\n",
      "A Place in the Sun\n",
      "Midnight Cowboy\n",
      "Mr. Smith Goes to Washington\n",
      "Rain Man\n",
      "Annie Hall\n",
      "Fargo\n",
      "Giant\n",
      "Shane\n",
      "The Grapes of Wrath\n",
      "The Green Mile\n",
      "Close Encounters of the Third Kind\n",
      "Nashville\n",
      "Network\n",
      "The Graduate\n",
      "American Graffiti\n",
      "Pulp Fiction\n",
      "Terms of Endearment\n",
      "Good Will Hunting\n",
      "The African Queen\n",
      "Stagecoach\n",
      "Mutiny on the Bounty\n",
      "The Great Dictator\n",
      "Double Indemnity\n",
      "The Maltese Falcon\n",
      "Wuthering Heights\n",
      "Taxi Driver\n",
      "Rear Window\n",
      "The Third Man\n",
      "Rebel Without a Cause\n",
      "North by Northwest\n",
      "Yankee Doodle Dandy\n"
     ]
    }
   ],
   "source": [
    "links = []\n",
    "titles = []\n",
    "for div in soup.findAll('div',{'class':'lister-item-content'}):\n",
    "    for h in div.findAll('h3', {'class':'lister-item-header'}):\n",
    "        for a in h.findAll('a'):\n",
    "            titles.append(a.text)\n",
    "            links.append(a['href'])\n",
    "            print(a.text)\n",
    "            "
   ]
  },
  {
   "cell_type": "code",
   "execution_count": 45,
   "metadata": {
    "ExecuteTime": {
     "end_time": "2020-03-02T15:46:40.389942Z",
     "start_time": "2020-03-02T15:46:40.384662Z"
    }
   },
   "outputs": [
    {
     "name": "stdout",
     "output_type": "stream",
     "text": [
      " collected 100 links.\n",
      " collected 100 titles.\n"
     ]
    }
   ],
   "source": [
    "print(' collected {} links.'.format(len(links)))\n",
    "\n",
    "print(' collected {} titles.'.format(len(titles)))"
   ]
  },
  {
   "cell_type": "code",
   "execution_count": 46,
   "metadata": {
    "ExecuteTime": {
     "end_time": "2020-03-02T15:46:50.705011Z",
     "start_time": "2020-03-02T15:46:50.698201Z"
    }
   },
   "outputs": [
    {
     "data": {
      "text/plain": [
       "'/title/tt0068646/?ref_=ttls_li_tt'"
      ]
     },
     "execution_count": 46,
     "metadata": {},
     "output_type": "execute_result"
    }
   ],
   "source": [
    "str(links[0])"
   ]
  },
  {
   "cell_type": "code",
   "execution_count": 56,
   "metadata": {
    "ExecuteTime": {
     "end_time": "2020-03-02T15:55:01.227816Z",
     "start_time": "2020-03-02T15:55:01.219872Z"
    }
   },
   "outputs": [],
   "source": [
    "from html.parser import HTMLParser\n",
    "\n",
    "class MLStripper(HTMLParser):\n",
    "    def __init__(self):\n",
    "        self.reset()\n",
    "        self.fed = []\n",
    "    def handle_data(self, d):\n",
    "        self.fed.append(d)\n",
    "    def get_data(self):\n",
    "        return ''.join(self.fed)\n",
    "\n",
    "def strip_tags(html):\n",
    "    s = MLStripper()\n",
    "    s.feed(html)\n",
    "    return s.get_data()"
   ]
  },
  {
   "cell_type": "code",
   "execution_count": 57,
   "metadata": {
    "ExecuteTime": {
     "end_time": "2020-03-02T15:55:10.578456Z",
     "start_time": "2020-03-02T15:55:09.048946Z"
    }
   },
   "outputs": [],
   "source": [
    "import pandas as pd\n",
    "\n",
    "titles_films = pd.Series(titles, index=titles)"
   ]
  },
  {
   "cell_type": "code",
   "execution_count": 61,
   "metadata": {
    "ExecuteTime": {
     "end_time": "2020-03-02T15:56:52.523481Z",
     "start_time": "2020-03-02T15:56:52.516439Z"
    }
   },
   "outputs": [
    {
     "data": {
      "text/plain": [
       "['The Godfather',\n",
       " 'The Shawshank Redemption',\n",
       " \"Schindler's List\",\n",
       " 'Raging Bull',\n",
       " 'Casablanca',\n",
       " 'Citizen Kane',\n",
       " 'Gone with the Wind',\n",
       " 'The Wizard of Oz_(1939_film)',\n",
       " \"One Flew Over the Cuckoo's Nest\",\n",
       " 'Lawrence of Arabia',\n",
       " 'Vertigo',\n",
       " 'Psycho',\n",
       " 'The Godfather: Part II',\n",
       " 'On the Waterfront',\n",
       " 'Sunset Blvd.',\n",
       " 'Forrest Gump',\n",
       " 'The Sound of Music',\n",
       " '12 Angry Men',\n",
       " 'West Side Story',\n",
       " 'Star Wars',\n",
       " '2001: A Space Odyssey',\n",
       " 'E.T. the Extra-Terrestrial',\n",
       " 'The Silence of the Lambs',\n",
       " 'Chinatown',\n",
       " 'The Bridge on the River Kwai',\n",
       " \"Singin' in the Rain\",\n",
       " \"It's a Wonderful Life\",\n",
       " 'Dr. Strangelove or: How I Learned to Stop Worrying and Love the Bomb',\n",
       " 'Some Like It Hot',\n",
       " 'Ben-Hur',\n",
       " 'Apocalypse Now',\n",
       " 'Amadeus',\n",
       " 'The Lord of the Rings: The Return of the King',\n",
       " 'Gladiator',\n",
       " 'Titanic',\n",
       " 'From Here to Eternity',\n",
       " 'Saving Private Ryan',\n",
       " 'Unforgiven',\n",
       " 'Raiders of the Lost Ark',\n",
       " 'Rocky',\n",
       " 'A Streetcar Named Desire',\n",
       " 'The Philadelphia Story',\n",
       " 'To Kill a Mockingbird',\n",
       " 'An American in Paris',\n",
       " 'The Best Years of Our Lives',\n",
       " 'My Fair Lady',\n",
       " 'A Clockwork Orange',\n",
       " 'Doctor Zhivago',\n",
       " 'The Searchers',\n",
       " 'Jaws',\n",
       " 'Patton',\n",
       " 'Butch Cassidy and the Sundance Kid',\n",
       " 'The Treasure of the Sierra Madre',\n",
       " 'Il buono, il brutto, il cattivo',\n",
       " 'The Apartment',\n",
       " 'Platoon',\n",
       " 'High Noon',\n",
       " 'Braveheart',\n",
       " 'Dances with Wolves',\n",
       " 'Jurassic Park',\n",
       " 'The Exorcist',\n",
       " 'The Pianist',\n",
       " 'Goodfellas',\n",
       " 'The Deer Hunter',\n",
       " 'All Quiet on the Western Front',\n",
       " 'Bonnie and Clyde',\n",
       " 'The French Connection',\n",
       " 'City Lights',\n",
       " 'It Happened One Night',\n",
       " 'A Place in the Sun',\n",
       " 'Midnight Cowboy',\n",
       " 'Mr. Smith Goes to Washington',\n",
       " 'Rain Man',\n",
       " 'Annie Hall',\n",
       " 'Fargo',\n",
       " 'Giant',\n",
       " 'Shane',\n",
       " 'The Grapes of Wrath',\n",
       " 'The Green Mile',\n",
       " 'Close Encounters of the Third Kind',\n",
       " 'Nashville',\n",
       " 'Network',\n",
       " 'The Graduate',\n",
       " 'American Graffiti',\n",
       " 'Pulp Fiction',\n",
       " 'Terms of Endearment',\n",
       " 'Good Will Hunting',\n",
       " 'The African Queen',\n",
       " 'Stagecoach',\n",
       " 'Mutiny on the Bounty',\n",
       " 'The Great Dictator',\n",
       " 'Double Indemnity',\n",
       " 'The Maltese Falcon',\n",
       " 'Wuthering Heights',\n",
       " 'Taxi Driver',\n",
       " 'Rear Window',\n",
       " 'The Third Man',\n",
       " 'Rebel Without a Cause',\n",
       " 'North by Northwest',\n",
       " 'Yankee Doodle Dandy']"
      ]
     },
     "execution_count": 61,
     "metadata": {},
     "output_type": "execute_result"
    }
   ],
   "source": [
    "titles_films"
   ]
  },
  {
   "cell_type": "code",
   "execution_count": 59,
   "metadata": {
    "ExecuteTime": {
     "end_time": "2020-03-02T15:56:37.392759Z",
     "start_time": "2020-03-02T15:56:37.380454Z"
    }
   },
   "outputs": [],
   "source": [
    "#titles_films['Casablanca'] = 'Casablanca_(film)'\n",
    "#titles_films['One Flew Over the Cuckoo\\'s Nest'] = 'One Flew Over the Cuckoo\\'s Nest_(film)'\n",
    "#titles_films['Gone with the Wind'] = 'Gone with the Wind_(film)'\n",
    "titles_films['The Wizard of Oz'] = 'The Wizard of Oz_(1939_film)'\n",
    "titles_films = titles_films.tolist()"
   ]
  },
  {
   "cell_type": "code",
   "execution_count": 62,
   "metadata": {
    "ExecuteTime": {
     "end_time": "2020-03-02T15:57:22.942741Z",
     "start_time": "2020-03-02T15:57:22.935339Z"
    }
   },
   "outputs": [
    {
     "data": {
      "text/plain": [
       "'[\\'The Godfather\\', \\'The Shawshank Redemption\\', \"Schindler\\'s List\", \\'Raging Bull\\', \\'Casablanca\\', \\'Citizen Kane\\', \\'Gone with the Wind\\', \\'The Wizard of Oz_(1939_film)\\', \"One Flew Over the Cuckoo\\'s Nest\", \\'Lawrence of Arabia\\', \\'Vertigo\\', \\'Psycho\\', \\'The Godfather: Part II\\', \\'On the Waterfront\\', \\'Sunset Blvd.\\', \\'Forrest Gump\\', \\'The Sound of Music\\', \\'12 Angry Men\\', \\'West Side Story\\', \\'Star Wars\\', \\'2001: A Space Odyssey\\', \\'E.T. the Extra-Terrestrial\\', \\'The Silence of the Lambs\\', \\'Chinatown\\', \\'The Bridge on the River Kwai\\', \"Singin\\' in the Rain\", \"It\\'s a Wonderful Life\", \\'Dr. Strangelove or: How I Learned to Stop Worrying and Love the Bomb\\', \\'Some Like It Hot\\', \\'Ben-Hur\\', \\'Apocalypse Now\\', \\'Amadeus\\', \\'The Lord of the Rings: The Return of the King\\', \\'Gladiator\\', \\'Titanic\\', \\'From Here to Eternity\\', \\'Saving Private Ryan\\', \\'Unforgiven\\', \\'Raiders of the Lost Ark\\', \\'Rocky\\', \\'A Streetcar Named Desire\\', \\'The Philadelphia Story\\', \\'To Kill a Mockingbird\\', \\'An American in Paris\\', \\'The Best Years of Our Lives\\', \\'My Fair Lady\\', \\'A Clockwork Orange\\', \\'Doctor Zhivago\\', \\'The Searchers\\', \\'Jaws\\', \\'Patton\\', \\'Butch Cassidy and the Sundance Kid\\', \\'The Treasure of the Sierra Madre\\', \\'Il buono, il brutto, il cattivo\\', \\'The Apartment\\', \\'Platoon\\', \\'High Noon\\', \\'Braveheart\\', \\'Dances with Wolves\\', \\'Jurassic Park\\', \\'The Exorcist\\', \\'The Pianist\\', \\'Goodfellas\\', \\'The Deer Hunter\\', \\'All Quiet on the Western Front\\', \\'Bonnie and Clyde\\', \\'The French Connection\\', \\'City Lights\\', \\'It Happened One Night\\', \\'A Place in the Sun\\', \\'Midnight Cowboy\\', \\'Mr. Smith Goes to Washington\\', \\'Rain Man\\', \\'Annie Hall\\', \\'Fargo\\', \\'Giant\\', \\'Shane\\', \\'The Grapes of Wrath\\', \\'The Green Mile\\', \\'Close Encounters of the Third Kind\\', \\'Nashville\\', \\'Network\\', \\'The Graduate\\', \\'American Graffiti\\', \\'Pulp Fiction\\', \\'Terms of Endearment\\', \\'Good Will Hunting\\', \\'The African Queen\\', \\'Stagecoach\\', \\'Mutiny on the Bounty\\', \\'The Great Dictator\\', \\'Double Indemnity\\', \\'The Maltese Falcon\\', \\'Wuthering Heights\\', \\'Taxi Driver\\', \\'Rear Window\\', \\'The Third Man\\', \\'Rebel Without a Cause\\', \\'North by Northwest\\', \\'Yankee Doodle Dandy\\']'"
      ]
     },
     "execution_count": 62,
     "metadata": {},
     "output_type": "execute_result"
    }
   ],
   "source": [
    "str(titles_films)"
   ]
  },
  {
   "cell_type": "code",
   "execution_count": 65,
   "metadata": {
    "ExecuteTime": {
     "end_time": "2020-03-02T15:58:40.864441Z",
     "start_time": "2020-03-02T15:58:36.238893Z"
    }
   },
   "outputs": [
    {
     "name": "stdout",
     "output_type": "stream",
     "text": [
      "Collecting google\n",
      "  Downloading google-2.0.3-py2.py3-none-any.whl (45 kB)\n",
      "Requirement already satisfied: beautifulsoup4 in c:\\users\\waeal\\appdata\\local\\programs\\python\\python37\\lib\\site-packages (from google) (4.8.1)\n",
      "Requirement already satisfied: soupsieve>=1.2 in c:\\users\\waeal\\appdata\\local\\programs\\python\\python37\\lib\\site-packages (from beautifulsoup4->google) (1.9.5)\n",
      "Installing collected packages: google\n",
      "Successfully installed google-2.0.3\n"
     ]
    }
   ],
   "source": [
    "!pip install google"
   ]
  },
  {
   "cell_type": "code",
   "execution_count": 76,
   "metadata": {
    "ExecuteTime": {
     "end_time": "2020-03-02T16:03:22.826891Z",
     "start_time": "2020-03-02T16:03:22.820372Z"
    }
   },
   "outputs": [
    {
     "data": {
      "text/plain": [
       "['The Godfather',\n",
       " 'The Shawshank Redemption',\n",
       " \"Schindler's List\",\n",
       " 'Raging Bull',\n",
       " 'Casablanca',\n",
       " 'Citizen Kane',\n",
       " 'Gone with the Wind',\n",
       " 'The Wizard of Oz',\n",
       " \"One Flew Over the Cuckoo's Nest\",\n",
       " 'Lawrence of Arabia',\n",
       " 'Vertigo',\n",
       " 'Psycho',\n",
       " 'The Godfather: Part II',\n",
       " 'On the Waterfront',\n",
       " 'Sunset Blvd.',\n",
       " 'Forrest Gump',\n",
       " 'The Sound of Music',\n",
       " '12 Angry Men',\n",
       " 'West Side Story',\n",
       " 'Star Wars',\n",
       " '2001: A Space Odyssey',\n",
       " 'E.T. the Extra-Terrestrial',\n",
       " 'The Silence of the Lambs',\n",
       " 'Chinatown',\n",
       " 'The Bridge on the River Kwai',\n",
       " \"Singin' in the Rain\",\n",
       " \"It's a Wonderful Life\",\n",
       " 'Dr. Strangelove or: How I Learned to Stop Worrying and Love the Bomb',\n",
       " 'Some Like It Hot',\n",
       " 'Ben-Hur',\n",
       " 'Apocalypse Now',\n",
       " 'Amadeus',\n",
       " 'The Lord of the Rings: The Return of the King',\n",
       " 'Gladiator',\n",
       " 'Titanic',\n",
       " 'From Here to Eternity',\n",
       " 'Saving Private Ryan',\n",
       " 'Unforgiven',\n",
       " 'Raiders of the Lost Ark',\n",
       " 'Rocky',\n",
       " 'A Streetcar Named Desire',\n",
       " 'The Philadelphia Story',\n",
       " 'To Kill a Mockingbird',\n",
       " 'An American in Paris',\n",
       " 'The Best Years of Our Lives',\n",
       " 'My Fair Lady',\n",
       " 'A Clockwork Orange',\n",
       " 'Doctor Zhivago',\n",
       " 'The Searchers',\n",
       " 'Jaws',\n",
       " 'Patton',\n",
       " 'Butch Cassidy and the Sundance Kid',\n",
       " 'The Treasure of the Sierra Madre',\n",
       " 'Il buono, il brutto, il cattivo',\n",
       " 'The Apartment',\n",
       " 'Platoon',\n",
       " 'High Noon',\n",
       " 'Braveheart',\n",
       " 'Dances with Wolves',\n",
       " 'Jurassic Park',\n",
       " 'The Exorcist',\n",
       " 'The Pianist',\n",
       " 'Goodfellas',\n",
       " 'The Deer Hunter',\n",
       " 'All Quiet on the Western Front',\n",
       " 'Bonnie and Clyde',\n",
       " 'The French Connection',\n",
       " 'City Lights',\n",
       " 'It Happened One Night',\n",
       " 'A Place in the Sun',\n",
       " 'Midnight Cowboy',\n",
       " 'Mr. Smith Goes to Washington',\n",
       " 'Rain Man',\n",
       " 'Annie Hall',\n",
       " 'Fargo',\n",
       " 'Giant',\n",
       " 'Shane',\n",
       " 'The Grapes of Wrath',\n",
       " 'The Green Mile',\n",
       " 'Close Encounters of the Third Kind',\n",
       " 'Nashville',\n",
       " 'Network',\n",
       " 'The Graduate',\n",
       " 'American Graffiti',\n",
       " 'Pulp Fiction',\n",
       " 'Terms of Endearment',\n",
       " 'Good Will Hunting',\n",
       " 'The African Queen',\n",
       " 'Stagecoach',\n",
       " 'Mutiny on the Bounty',\n",
       " 'The Great Dictator',\n",
       " 'Double Indemnity',\n",
       " 'The Maltese Falcon',\n",
       " 'Wuthering Heights',\n",
       " 'Taxi Driver',\n",
       " 'Rear Window',\n",
       " 'The Third Man',\n",
       " 'Rebel Without a Cause',\n",
       " 'North by Northwest',\n",
       " 'Yankee Doodle Dandy']"
      ]
     },
     "execution_count": 76,
     "metadata": {},
     "output_type": "execute_result"
    }
   ],
   "source": [
    "titles"
   ]
  }
 ],
 "metadata": {
  "kernelspec": {
   "display_name": "Python 3",
   "language": "python",
   "name": "python3"
  },
  "language_info": {
   "codemirror_mode": {
    "name": "ipython",
    "version": 3
   },
   "file_extension": ".py",
   "mimetype": "text/x-python",
   "name": "python",
   "nbconvert_exporter": "python",
   "pygments_lexer": "ipython3",
   "version": "3.7.6"
  },
  "varInspector": {
   "cols": {
    "lenName": 16,
    "lenType": 16,
    "lenVar": 40
   },
   "kernels_config": {
    "python": {
     "delete_cmd_postfix": "",
     "delete_cmd_prefix": "del ",
     "library": "var_list.py",
     "varRefreshCmd": "print(var_dic_list())"
    },
    "r": {
     "delete_cmd_postfix": ") ",
     "delete_cmd_prefix": "rm(",
     "library": "var_list.r",
     "varRefreshCmd": "cat(var_dic_list()) "
    }
   },
   "types_to_exclude": [
    "module",
    "function",
    "builtin_function_or_method",
    "instance",
    "_Feature"
   ],
   "window_display": false
  }
 },
 "nbformat": 4,
 "nbformat_minor": 1
}
